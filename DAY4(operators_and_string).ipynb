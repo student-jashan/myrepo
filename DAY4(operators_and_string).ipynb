{
  "nbformat": 4,
  "nbformat_minor": 0,
  "metadata": {
    "colab": {
      "provenance": [],
      "authorship_tag": "ABX9TyPFkynXOzwtdlOJGRYWlQPV",
      "include_colab_link": true
    },
    "kernelspec": {
      "name": "python3",
      "display_name": "Python 3"
    },
    "language_info": {
      "name": "python"
    }
  },
  "cells": [
    {
      "cell_type": "markdown",
      "metadata": {
        "id": "view-in-github",
        "colab_type": "text"
      },
      "source": [
        "<a href=\"https://colab.research.google.com/github/student-jashan/myrepo/blob/main/DAY4(operators_and_string).ipynb\" target=\"_parent\"><img src=\"https://colab.research.google.com/assets/colab-badge.svg\" alt=\"Open In Colab\"/></a>"
      ]
    },
    {
      "cell_type": "markdown",
      "source": [
        "**10 June 2024**\n",
        "\n",
        "TOPICS:\n",
        "Operators in python , Strings and its methods"
      ],
      "metadata": {
        "id": "MRyFIT4dwtRU"
      }
    },
    {
      "cell_type": "markdown",
      "source": [
        "1. You have two variables, a and b, containing integer values. Use arithmetic operators to calculate and print the sum, difference, product, and quotient of these variables."
      ],
      "metadata": {
        "id": "fffal4Z8v9yI"
      }
    },
    {
      "cell_type": "code",
      "source": [
        "a=5\n",
        "b=7\n",
        "sum=a+b\n",
        "difference=a-b\n",
        "product=a*b\n",
        "quotient=a/b\n",
        "print(f\"sum:{sum}\")\n",
        "print(f\"difference:{difference}\")\n",
        "print(f\"product:{product}\")\n",
        "print(f\"quotient:{quotient}\")\n"
      ],
      "metadata": {
        "colab": {
          "base_uri": "https://localhost:8080/"
        },
        "id": "RhEeaB-zwFf7",
        "outputId": "afd0d5f5-4efa-4576-d939-0b13358b3b57"
      },
      "execution_count": null,
      "outputs": [
        {
          "output_type": "stream",
          "name": "stdout",
          "text": [
            "sum:12\n",
            "difference:-2\n",
            "product:35\n",
            "quotient:0.7142857142857143\n"
          ]
        }
      ]
    },
    {
      "cell_type": "markdown",
      "source": [
        "2. Given a variable x containing an integer value, use the modulus operator to check if x is even or odd."
      ],
      "metadata": {
        "id": "IWZcgBPAxc4r"
      }
    },
    {
      "cell_type": "code",
      "source": [
        "x=7\n",
        "if(x%2==0):\n",
        "  print(f\"{x} is an even number\")\n",
        "else:\n",
        "  print(f\"{x} is an odd number\")"
      ],
      "metadata": {
        "colab": {
          "base_uri": "https://localhost:8080/"
        },
        "id": "wGtG68dhxjpj",
        "outputId": "baf4bc6a-0921-4477-872b-75f962fb5fb7"
      },
      "execution_count": null,
      "outputs": [
        {
          "output_type": "stream",
          "name": "stdout",
          "text": [
            "7 is an odd number\n"
          ]
        }
      ]
    },
    {
      "cell_type": "markdown",
      "source": [
        "3. You have two variables, a and b. Use comparison operators to check if a is greater than b, and print the result."
      ],
      "metadata": {
        "id": "UXUepf4QyHP-"
      }
    },
    {
      "cell_type": "code",
      "source": [
        "a=4\n",
        "b=7\n",
        "if a>b:\n",
        " print(f\"a={a} is greater \")\n",
        "else:\n",
        "  print(f\"b={b} is greater\")"
      ],
      "metadata": {
        "colab": {
          "base_uri": "https://localhost:8080/"
        },
        "id": "WYrFxChoyIWx",
        "outputId": "9ac46e61-d181-44cc-861c-d0df260a530c"
      },
      "execution_count": null,
      "outputs": [
        {
          "output_type": "stream",
          "name": "stdout",
          "text": [
            "b=7 is greater\n"
          ]
        }
      ]
    },
    {
      "cell_type": "markdown",
      "source": [
        "4. Given two boolean variables, p and q, use logical operators to evaluate and print the result of p AND q, p OR q, and NOT p."
      ],
      "metadata": {
        "id": "Xa-Q28QJya3h"
      }
    },
    {
      "cell_type": "code",
      "source": [
        "p=True\n",
        "q=False\n",
        "print(f\"p and q: {p and q}\")\n",
        "print(f\"p or q:{p or q}\")\n",
        "print(f\"not p: {not p}\")\n"
      ],
      "metadata": {
        "colab": {
          "base_uri": "https://localhost:8080/"
        },
        "id": "mL0RiYLMyg4H",
        "outputId": "44fd7f13-38da-4b98-9c5d-533f4ef8c0b9"
      },
      "execution_count": null,
      "outputs": [
        {
          "output_type": "stream",
          "name": "stdout",
          "text": [
            "p and q: False\n",
            "p or q:True\n",
            "not p: False\n"
          ]
        }
      ]
    },
    {
      "cell_type": "markdown",
      "source": [
        "5. You have a variable n containing an integer value. Use the bitwise AND, OR, and XOR operators to perform operations with another integer m.\n"
      ],
      "metadata": {
        "id": "imlOSVCtzct7"
      }
    },
    {
      "cell_type": "code",
      "source": [
        "n=7\n",
        "m=3\n",
        "print(f\"n AND m:{n&m}\")\n",
        "print(f\"n OR m:{n|m}\")\n",
        "print(f\"n XOR m: {n^m}\")"
      ],
      "metadata": {
        "colab": {
          "base_uri": "https://localhost:8080/"
        },
        "id": "4r-eVwx_zoaA",
        "outputId": "ff90d632-9b2a-4947-cbc7-4e561ca790a9"
      },
      "execution_count": null,
      "outputs": [
        {
          "output_type": "stream",
          "name": "stdout",
          "text": [
            "n AND m:3\n",
            "n OR m:7\n",
            "n XOR m: 4\n"
          ]
        }
      ]
    },
    {
      "cell_type": "markdown",
      "source": [
        "6.Given a variable y containing a floating-point number, use the floor division operator to divide y by 2 and print the result."
      ],
      "metadata": {
        "id": "eH5BQwPf0KI2"
      }
    },
    {
      "cell_type": "code",
      "source": [
        "y=5.5\n",
        "print(f\"value: {y//2}\")"
      ],
      "metadata": {
        "colab": {
          "base_uri": "https://localhost:8080/"
        },
        "id": "Mu-E6y-q0QU9",
        "outputId": "f9ad7ac1-c947-44fd-82a8-ea7993b1eb49"
      },
      "execution_count": null,
      "outputs": [
        {
          "output_type": "stream",
          "name": "stdout",
          "text": [
            "value: 2.0\n"
          ]
        }
      ]
    },
    {
      "cell_type": "markdown",
      "source": [
        "7.You have two strings, str1 and str2. Use the concatenation operator to join these strings and print the result."
      ],
      "metadata": {
        "id": "h6eMaoba0jiI"
      }
    },
    {
      "cell_type": "code",
      "source": [
        "str1=\"jashan\"\n",
        "str2=\"deep\"\n",
        "str=str1+str2\n",
        "print(str)"
      ],
      "metadata": {
        "colab": {
          "base_uri": "https://localhost:8080/"
        },
        "id": "vsTozNCq0n1q",
        "outputId": "ced0acc8-f5f6-4ec7-8e78-62ad28051036"
      },
      "execution_count": null,
      "outputs": [
        {
          "output_type": "stream",
          "name": "stdout",
          "text": [
            "jashandeep\n"
          ]
        }
      ]
    },
    {
      "cell_type": "markdown",
      "source": [
        "8.Given a variable z containing an integer, use the increment operator to increase its value by 1 and print the result."
      ],
      "metadata": {
        "id": "lTRJwrBI0yQo"
      }
    },
    {
      "cell_type": "code",
      "source": [
        "z=5\n",
        "z+=1\n",
        "print(z)"
      ],
      "metadata": {
        "colab": {
          "base_uri": "https://localhost:8080/"
        },
        "id": "GquggS-H0-ka",
        "outputId": "4a3bf03d-c9e4-4d8a-a6d2-c3b7f25c7244"
      },
      "execution_count": null,
      "outputs": [
        {
          "output_type": "stream",
          "name": "stdout",
          "text": [
            "6\n"
          ]
        }
      ]
    },
    {
      "cell_type": "markdown",
      "source": [
        "9. You have a list my_list and a value val. Use the in operator to check if val\n",
        "is present in my_list and print the result."
      ],
      "metadata": {
        "id": "a_s3Axtx1L50"
      }
    },
    {
      "cell_type": "code",
      "source": [
        "my_list=[2,4,6,7]\n",
        "val=6\n",
        "if val in my_list:\n",
        "  print(f\"{val} is present \")\n",
        "else:\n",
        "  print(f\"{val} is not present\")"
      ],
      "metadata": {
        "colab": {
          "base_uri": "https://localhost:8080/"
        },
        "id": "Qiedm_l41TjJ",
        "outputId": "3a53699b-c59f-420c-ff95-e76f1ae3d878"
      },
      "execution_count": null,
      "outputs": [
        {
          "output_type": "stream",
          "name": "stdout",
          "text": [
            "6 is present \n"
          ]
        }
      ]
    },
    {
      "cell_type": "markdown",
      "source": [
        "10.Given two variables a and b, use the assignment operator to assign the value of b to a and print a"
      ],
      "metadata": {
        "id": "8808wp9y2p7-"
      }
    },
    {
      "cell_type": "code",
      "source": [
        "a=4\n",
        "b=7\n",
        "a=b\n",
        "print(a)"
      ],
      "metadata": {
        "colab": {
          "base_uri": "https://localhost:8080/"
        },
        "id": "41iaVKHe2vZO",
        "outputId": "d64a320d-2fa8-497c-f6d8-630101135062"
      },
      "execution_count": null,
      "outputs": [
        {
          "output_type": "stream",
          "name": "stdout",
          "text": [
            "7\n"
          ]
        }
      ]
    },
    {
      "cell_type": "markdown",
      "source": [
        "11. You have two variables, x and y, containing integer values. Use the compound assignment operator to add y to x and print the result.\n"
      ],
      "metadata": {
        "id": "jdFKQX6W3Ckf"
      }
    },
    {
      "cell_type": "code",
      "source": [
        "x=4\n",
        "y=8\n",
        "x+=y\n",
        "print(x)"
      ],
      "metadata": {
        "colab": {
          "base_uri": "https://localhost:8080/"
        },
        "id": "3tQC0icT3Lxh",
        "outputId": "c7979419-d9ef-43bc-dc3c-8f1bd9b01326"
      },
      "execution_count": null,
      "outputs": [
        {
          "output_type": "stream",
          "name": "stdout",
          "text": [
            "12\n"
          ]
        }
      ]
    },
    {
      "cell_type": "markdown",
      "source": [
        "12.Given a variable num containing an integer value, use the bitwise left shift operator to shift num by 2 bits and print the result."
      ],
      "metadata": {
        "id": "mwnMDYLo4VBB"
      }
    },
    {
      "cell_type": "code",
      "source": [
        "num=5\n",
        "result=num<<2\n",
        "print(result)\n"
      ],
      "metadata": {
        "colab": {
          "base_uri": "https://localhost:8080/"
        },
        "id": "kSridVbz4a72",
        "outputId": "4a4d270a-e526-41ec-d941-e37dc10e0a4a"
      },
      "execution_count": null,
      "outputs": [
        {
          "output_type": "stream",
          "name": "stdout",
          "text": [
            "20\n"
          ]
        }
      ]
    },
    {
      "cell_type": "markdown",
      "source": [
        "13.You have a string text and an integer n. Use the repetition operator to repeat text n times and print the result."
      ],
      "metadata": {
        "id": "8kXiqKPJ5plV"
      }
    },
    {
      "cell_type": "code",
      "source": [
        "text=\"Hello!\"\n",
        "n=\"2\"\n",
        "result=text*2\n",
        "print(result)"
      ],
      "metadata": {
        "colab": {
          "base_uri": "https://localhost:8080/"
        },
        "id": "AhatGLuq5uku",
        "outputId": "4c4efb88-7ba4-4e31-e74c-58fb3af372a5"
      },
      "execution_count": null,
      "outputs": [
        {
          "output_type": "stream",
          "name": "stdout",
          "text": [
            "Hello!Hello!\n"
          ]
        }
      ]
    },
    {
      "cell_type": "markdown",
      "source": [
        "14.Given two variables, a and b, use the comparison operators to check if a is equal to b and if a is not equal to b. Print the results."
      ],
      "metadata": {
        "id": "O3rTK4md6tCS"
      }
    },
    {
      "cell_type": "code",
      "source": [
        "a=5\n",
        "b=5\n",
        "if a==b:\n",
        " print(\"a equals to b\")\n",
        "else:\n",
        "   print(\"a is not equals to b\")"
      ],
      "metadata": {
        "colab": {
          "base_uri": "https://localhost:8080/"
        },
        "id": "vKT9-X-J6yU7",
        "outputId": "71e315b1-b10c-4025-e404-5f8dc198a1a1"
      },
      "execution_count": null,
      "outputs": [
        {
          "output_type": "stream",
          "name": "stdout",
          "text": [
            "a equals to b\n"
          ]
        }
      ]
    },
    {
      "cell_type": "markdown",
      "source": [
        "15.You have two variables, x and y, containing integer values. Use the bitwise right shift operator to shift x by 3 bits and print the result."
      ],
      "metadata": {
        "id": "80sqABsA7HLB"
      }
    },
    {
      "cell_type": "code",
      "source": [
        "x=9\n",
        "y=5\n",
        "result=x>>3\n",
        "print(result)"
      ],
      "metadata": {
        "colab": {
          "base_uri": "https://localhost:8080/"
        },
        "id": "_uoxIweY7L2d",
        "outputId": "ee785498-8487-4c27-89cd-21a6e0df45b1"
      },
      "execution_count": null,
      "outputs": [
        {
          "output_type": "stream",
          "name": "stdout",
          "text": [
            "1\n"
          ]
        }
      ]
    },
    {
      "cell_type": "markdown",
      "source": [
        "16. Given a boolean variable flag, use the logical operator to check if flag is True and print the result.\n"
      ],
      "metadata": {
        "id": "4IUXn1Vr7Wo9"
      }
    },
    {
      "cell_type": "code",
      "source": [
        "flag=True\n",
        "if flag:\n",
        "  print(\"flag is true\")\n",
        "else:\n",
        "  print(\"flag is not true\")"
      ],
      "metadata": {
        "colab": {
          "base_uri": "https://localhost:8080/"
        },
        "id": "11gMcU8S7cj2",
        "outputId": "f3aafa18-64bd-4051-a0f5-ada3d447e3ec"
      },
      "execution_count": null,
      "outputs": [
        {
          "output_type": "stream",
          "name": "stdout",
          "text": [
            "flag is true\n"
          ]
        }
      ]
    },
    {
      "cell_type": "markdown",
      "source": [
        "17.You have a variable price containing a float value. Use the floor division operator to calculate how many whole units you can get for a given amount and print the result.\n"
      ],
      "metadata": {
        "id": "06ccc5r-8IEt"
      }
    },
    {
      "cell_type": "code",
      "source": [
        "price=234.6\n",
        "result=234.6//1\n",
        "print(result)"
      ],
      "metadata": {
        "colab": {
          "base_uri": "https://localhost:8080/"
        },
        "id": "asw0CyUy8Na4",
        "outputId": "e48048aa-ac40-4782-f1d4-32a2e63fada0"
      },
      "execution_count": null,
      "outputs": [
        {
          "output_type": "stream",
          "name": "stdout",
          "text": [
            "234.0\n"
          ]
        }
      ]
    },
    {
      "cell_type": "markdown",
      "source": [
        "18. Given two sets, set1 and set2, use the union operator to combine these sets and print the result.\n"
      ],
      "metadata": {
        "id": "lNmHhW-0804g"
      }
    },
    {
      "cell_type": "code",
      "source": [
        "set1={\"Dav\", \"Diya\"}\n",
        "set2={\"Raj\",\"Isha\"}\n",
        "set=set1|set2\n",
        "print(set)"
      ],
      "metadata": {
        "colab": {
          "base_uri": "https://localhost:8080/"
        },
        "id": "QWrjTLkQ86pa",
        "outputId": "6812b4bb-8d9c-482b-be69-6e229cc529dd"
      },
      "execution_count": null,
      "outputs": [
        {
          "output_type": "stream",
          "name": "stdout",
          "text": [
            "{'Isha', 'Raj', 'Dav', 'Diya'}\n"
          ]
        }
      ]
    },
    {
      "cell_type": "markdown",
      "source": [
        "19.You have a dictionary my_dict and a key key. Use the in operator to check if key is present in my_dict and print the result."
      ],
      "metadata": {
        "id": "p8s57KJH9YsU"
      }
    },
    {
      "cell_type": "code",
      "source": [
        "my_dict={\"Name\":\"jashan\",\"Age\":\"19\",\"Gender\":\"Female\"}\n",
        "key='Age'\n",
        "if key in my_dict:\n",
        "  print(f\"key: {key} is present in my_dict\")\n",
        "else:\n",
        "  print(f\"key {key} is not present in my_dict\")\n"
      ],
      "metadata": {
        "colab": {
          "base_uri": "https://localhost:8080/"
        },
        "id": "_cOadN4C9aFT",
        "outputId": "200c3ba0-56ef-4b15-862e-281283566da6"
      },
      "execution_count": null,
      "outputs": [
        {
          "output_type": "stream",
          "name": "stdout",
          "text": [
            "key: Age is present in my_dict\n"
          ]
        }
      ]
    },
    {
      "cell_type": "markdown",
      "source": [
        "20.Given two variables a and b, use the comparison operators to check if a is less than or equal to b, and print the result."
      ],
      "metadata": {
        "id": "aMM4vZW--UTW"
      }
    },
    {
      "cell_type": "code",
      "source": [
        "a=5\n",
        "b=9\n",
        "if a<=b:\n",
        "  print(f\"a: {a} is less than b\")\n",
        "else:\n",
        "  print(f\"b: {b} is less than a\")"
      ],
      "metadata": {
        "colab": {
          "base_uri": "https://localhost:8080/"
        },
        "id": "hjl-9giS-aoc",
        "outputId": "71cf8b18-e85e-4274-c225-34fd78910226"
      },
      "execution_count": null,
      "outputs": [
        {
          "output_type": "stream",
          "name": "stdout",
          "text": [
            "a: 5 is less than b\n"
          ]
        }
      ]
    },
    {
      "cell_type": "markdown",
      "source": [
        "**Strings**"
      ],
      "metadata": {
        "id": "-1E2DeRhP0Sv"
      }
    },
    {
      "cell_type": "markdown",
      "source": [
        "# 1. To create a string and print it also print its type"
      ],
      "metadata": {
        "id": "qR1NhgKqP8ng"
      }
    },
    {
      "cell_type": "code",
      "source": [
        "Name=\"Shubam\"\n",
        "print(Name)\n",
        "print(type(Name))"
      ],
      "metadata": {
        "colab": {
          "base_uri": "https://localhost:8080/"
        },
        "id": "KipmUUAJP3di",
        "outputId": "ff988a7b-ef5d-4ac5-8c8e-de36c3e8a7bf"
      },
      "execution_count": null,
      "outputs": [
        {
          "output_type": "stream",
          "name": "stdout",
          "text": [
            "Shubam\n",
            "<class 'str'>\n"
          ]
        }
      ]
    },
    {
      "cell_type": "markdown",
      "source": [
        "2. By using string method convert the given string in upper and lower case"
      ],
      "metadata": {
        "id": "emTx2erfQBiS"
      }
    },
    {
      "cell_type": "code",
      "source": [
        "#methods of string\n",
        "Name=\"diksha\"\n",
        "new=Name.upper()\n",
        "print(new)\n",
        "#str.upper()\n",
        "Name=\"DIKSHA\"\n",
        "new=Name.lower()\n",
        "print(new)\n"
      ],
      "metadata": {
        "colab": {
          "base_uri": "https://localhost:8080/"
        },
        "id": "wwMluQKbQD9p",
        "outputId": "5376f643-cc11-4c4b-f1cd-7fca3579f5f0"
      },
      "execution_count": null,
      "outputs": [
        {
          "output_type": "stream",
          "name": "stdout",
          "text": [
            "DIKSHA\n",
            "diksha\n"
          ]
        }
      ]
    },
    {
      "cell_type": "markdown",
      "source": [
        "3. To create a string and use string method to capatilize the first word of the string"
      ],
      "metadata": {
        "id": "87f8wePuQJcx"
      }
    },
    {
      "cell_type": "code",
      "source": [
        "school=\"dav school\"\n",
        "s=school.capitalize()\n",
        "print(s)"
      ],
      "metadata": {
        "colab": {
          "base_uri": "https://localhost:8080/"
        },
        "id": "mdH1UtcPQLuU",
        "outputId": "cc4c986e-aae4-4806-b88a-e66c936b0e86"
      },
      "execution_count": null,
      "outputs": [
        {
          "output_type": "stream",
          "name": "stdout",
          "text": [
            "Dav school\n"
          ]
        }
      ]
    },
    {
      "cell_type": "markdown",
      "source": [
        "4. Check by using string method is the given string is in lower case or not"
      ],
      "metadata": {
        "id": "KgOvA-SpQN-j"
      }
    },
    {
      "cell_type": "code",
      "source": [
        "school=\"dav school\"\n",
        "s=school.islower()\n",
        "print(s)"
      ],
      "metadata": {
        "colab": {
          "base_uri": "https://localhost:8080/"
        },
        "id": "x_pnBzR9QQH-",
        "outputId": "1b4a4788-5711-4eba-b599-13dfbc0ab25d"
      },
      "execution_count": null,
      "outputs": [
        {
          "output_type": "stream",
          "name": "stdout",
          "text": [
            "True\n"
          ]
        }
      ]
    },
    {
      "cell_type": "markdown",
      "source": [
        "5. Check by using string method find the index of a particular string"
      ],
      "metadata": {
        "id": "B87kZ7pJQSLt"
      }
    },
    {
      "cell_type": "code",
      "source": [
        "s=school.find('a')\n",
        "print(s)"
      ],
      "metadata": {
        "colab": {
          "base_uri": "https://localhost:8080/"
        },
        "id": "cdRyOIFYQTPQ",
        "outputId": "b4ae77b6-b962-4570-be69-81783f95dce7"
      },
      "execution_count": null,
      "outputs": [
        {
          "output_type": "stream",
          "name": "stdout",
          "text": [
            "1\n"
          ]
        }
      ]
    },
    {
      "cell_type": "markdown",
      "source": [
        "6. By using string method change the first letter  "
      ],
      "metadata": {
        "id": "R6VKs0OXQWdr"
      }
    },
    {
      "cell_type": "code",
      "source": [
        "name=\"divya sharma\"\n",
        "x=name.title()\n",
        "print(x)"
      ],
      "metadata": {
        "colab": {
          "base_uri": "https://localhost:8080/"
        },
        "id": "hAMeoSB9QXVN",
        "outputId": "22ad947c-1791-4a4d-9787-ea20591b8643"
      },
      "execution_count": null,
      "outputs": [
        {
          "output_type": "stream",
          "name": "stdout",
          "text": [
            "Divya Sharma\n"
          ]
        }
      ]
    },
    {
      "cell_type": "markdown",
      "source": [
        "7. By using string method convert the string which has lower case to upper and upper case to lower case"
      ],
      "metadata": {
        "id": "IXJ4OGYIQaPj"
      }
    },
    {
      "cell_type": "code",
      "source": [
        "name=\"DIvayA sHarMA\"\n",
        "n=name.swapcase()\n",
        "print(n)"
      ],
      "metadata": {
        "colab": {
          "base_uri": "https://localhost:8080/"
        },
        "id": "yTWhpKP-QeVj",
        "outputId": "d0cfddac-e00d-412d-d14e-903194af64f0"
      },
      "execution_count": null,
      "outputs": [
        {
          "output_type": "stream",
          "name": "stdout",
          "text": [
            "diVAYa ShARma\n"
          ]
        }
      ]
    },
    {
      "cell_type": "markdown",
      "source": [
        "8. By using string method replace the tab characters with appropriate number of spaces"
      ],
      "metadata": {
        "id": "FHZAG0BmQgdp"
      }
    },
    {
      "cell_type": "code",
      "source": [
        "name_spaces=\"My\\tname\\tis\\tDiksha\\tThakur.\"\n",
        "t=name_spaces.expandtabs(4)\n",
        "print(t)"
      ],
      "metadata": {
        "colab": {
          "base_uri": "https://localhost:8080/"
        },
        "id": "OzRH_rDeQjjA",
        "outputId": "661622d4-3deb-4d79-ddea-9409b353b41e"
      },
      "execution_count": null,
      "outputs": [
        {
          "output_type": "stream",
          "name": "stdout",
          "text": [
            "My  name    is  Diksha  Thakur.\n"
          ]
        }
      ]
    },
    {
      "cell_type": "markdown",
      "source": [
        "9. By using slicing method reverse the string"
      ],
      "metadata": {
        "id": "wFQecF8NQvY5"
      }
    },
    {
      "cell_type": "code",
      "source": [
        "name=\"teacher\"\n",
        "num=name[::-1]\n",
        "print(num)"
      ],
      "metadata": {
        "colab": {
          "base_uri": "https://localhost:8080/"
        },
        "id": "jd4fuhUJQw8d",
        "outputId": "d0ee7676-a514-4858-c13e-54b688491183"
      },
      "execution_count": null,
      "outputs": [
        {
          "output_type": "stream",
          "name": "stdout",
          "text": [
            "rehcaet\n"
          ]
        }
      ]
    },
    {
      "cell_type": "markdown",
      "source": [
        "10. To check is the given string is palindrom or not"
      ],
      "metadata": {
        "id": "WbfL4cb5QzcO"
      }
    },
    {
      "cell_type": "code",
      "source": [
        "name=\"madam\"\n",
        "num=name[::-1]\n",
        "print(num)\n",
        "if num in name:\n",
        "  print(\"palindrom\")\n",
        "else:\n",
        "  print(\"not palindrom\")"
      ],
      "metadata": {
        "colab": {
          "base_uri": "https://localhost:8080/"
        },
        "id": "43NcZGK8Q12J",
        "outputId": "eb57e885-887c-42ce-f118-8050d7b8dbcb"
      },
      "execution_count": null,
      "outputs": [
        {
          "output_type": "stream",
          "name": "stdout",
          "text": [
            "madam\n",
            "palindrom\n"
          ]
        }
      ]
    },
    {
      "cell_type": "markdown",
      "source": [
        "11. Given a string containing a sentence, replace all occurrences of the word \"Java\" with \"Python\"."
      ],
      "metadata": {
        "id": "pZoBlCRwQ5Vc"
      }
    },
    {
      "cell_type": "code",
      "source": [
        "sentence=\"I love Java language because Java is easy to understand\"\n",
        "new_sentence=sentence.replace(\"Java\",\"Python\")\n",
        "print(new_sentence)"
      ],
      "metadata": {
        "colab": {
          "base_uri": "https://localhost:8080/"
        },
        "id": "tSb2Oz56Q7B0",
        "outputId": "dd875c56-9c4b-460c-a6c3-31c7522ea94a"
      },
      "execution_count": null,
      "outputs": [
        {
          "output_type": "stream",
          "name": "stdout",
          "text": [
            "I love Python language because Python is easy to understand\n"
          ]
        }
      ]
    },
    {
      "cell_type": "markdown",
      "source": [
        "12. You have a string containing a URL. Use a\n",
        "string method to check if the URL ends with \".com\".\n"
      ],
      "metadata": {
        "id": "BHEq6u2pQ-Ml"
      }
    },
    {
      "cell_type": "code",
      "source": [
        "url=\"https//www.google.com\"\n",
        "check=url.endswith(\".com\")\n",
        "print(check)"
      ],
      "metadata": {
        "colab": {
          "base_uri": "https://localhost:8080/"
        },
        "id": "t-LmiMEJRGtO",
        "outputId": "bc9a7001-9558-4286-bd78-39fe4ba3c1c1"
      },
      "execution_count": null,
      "outputs": [
        {
          "output_type": "stream",
          "name": "stdout",
          "text": [
            "True\n"
          ]
        }
      ]
    },
    {
      "cell_type": "markdown",
      "source": [
        "13. You have a string containing a sentence. Use a string method to find the number of times the word \"data\" appears in the string."
      ],
      "metadata": {
        "id": "-TbbV9uERJxY"
      }
    },
    {
      "cell_type": "code",
      "source": [
        "sentence=\"in a machine learning we need to carry the data its all about how se are storing the data and working with the data\"\n",
        "new=sentence.count(\"data\")\n",
        "print(new)"
      ],
      "metadata": {
        "colab": {
          "base_uri": "https://localhost:8080/"
        },
        "id": "lVu10o5iRJT_",
        "outputId": "c0774bf1-ccfd-4244-d13a-9a5996212c0f"
      },
      "execution_count": null,
      "outputs": [
        {
          "output_type": "stream",
          "name": "stdout",
          "text": [
            "3\n"
          ]
        }
      ]
    },
    {
      "cell_type": "markdown",
      "source": [
        "14. To find a the paticular vowel is present\n",
        "in the given strin"
      ],
      "metadata": {
        "id": "V2VkZZHQRNu_"
      }
    },
    {
      "cell_type": "code",
      "source": [
        "vowels=\"aeiou\"\n",
        "print ( \"e\" in vowels)"
      ],
      "metadata": {
        "colab": {
          "base_uri": "https://localhost:8080/"
        },
        "id": "TK9WQFbZRVik",
        "outputId": "d6da0a2a-2cf1-4c09-dfa2-9c8615ad78ea"
      },
      "execution_count": null,
      "outputs": [
        {
          "output_type": "stream",
          "name": "stdout",
          "text": [
            "True\n"
          ]
        }
      ]
    },
    {
      "cell_type": "markdown",
      "source": [
        "15. Given a string containing a paragraph, use a string method to replace all newline characters (\"\\n\") with spaces."
      ],
      "metadata": {
        "id": "-TTtOiyaRZFK"
      }
    },
    {
      "cell_type": "code",
      "source": [
        "paragraph=\"A group of sentences or a single sentence that forms a unit\\nLength and appearance do not determine whether a section in a paper is a paragraph\\nFor instance, in some styles of writing.\"\n",
        "new=paragraph.replace(\"\\n\",\" \")\n",
        "print(new)"
      ],
      "metadata": {
        "colab": {
          "base_uri": "https://localhost:8080/"
        },
        "id": "ORFswm3dRZ_N",
        "outputId": "9c84871a-8481-4f18-9bad-7599f4107c50"
      },
      "execution_count": null,
      "outputs": [
        {
          "output_type": "stream",
          "name": "stdout",
          "text": [
            "A group of sentences or a single sentence that forms a unit Length and appearance do not determine whether a section in a paper is a paragraph For instance, in some styles of writing.\n"
          ]
        }
      ]
    },
    {
      "cell_type": "markdown",
      "source": [
        "16. Given a string containing a sentence, use a string method to find the last occurrence of the substring \"Python\"."
      ],
      "metadata": {
        "id": "GBL1RWx7RhYF"
      }
    },
    {
      "cell_type": "code",
      "source": [
        "str=\"I love Python language because Python is easy to understand\"\n",
        "new=str.endswith(\"Python\")\n",
        "print(new)"
      ],
      "metadata": {
        "colab": {
          "base_uri": "https://localhost:8080/"
        },
        "id": "dRZoY-LzRlNy",
        "outputId": "2f28d438-2e5c-4323-9f63-7c31dd6dac25"
      },
      "execution_count": null,
      "outputs": [
        {
          "output_type": "stream",
          "name": "stdout",
          "text": [
            "False\n"
          ]
        }
      ]
    },
    {
      "cell_type": "markdown",
      "source": [
        "17. You have a string containing a sentence. Use a string method to swap the case of each character in the string."
      ],
      "metadata": {
        "id": "xHY2pwyuRnai"
      }
    },
    {
      "cell_type": "code",
      "source": [
        "sentence=\"Diya Bawaja\"\n",
        "swap=sentence.swapcase()\n",
        "print(sentence)"
      ],
      "metadata": {
        "colab": {
          "base_uri": "https://localhost:8080/"
        },
        "id": "Fy0IwoauRply",
        "outputId": "096a679f-c352-46fc-80ec-d807f34850e0"
      },
      "execution_count": null,
      "outputs": [
        {
          "output_type": "stream",
          "name": "stdout",
          "text": [
            "Diya Bawaja\n"
          ]
        }
      ]
    },
    {
      "cell_type": "markdown",
      "source": [
        "18. Given a string containing a date in the format \"DD-MM-YYYY\", use a string method to extract the year."
      ],
      "metadata": {
        "id": "LTZWYJdVRsEy"
      }
    },
    {
      "cell_type": "code",
      "source": [
        "date=\"10-06-2024\"\n",
        "new=date[-4:]\n",
        "print(new)"
      ],
      "metadata": {
        "colab": {
          "base_uri": "https://localhost:8080/"
        },
        "id": "zurouw9-RuJe",
        "outputId": "425b708f-6bd5-47d7-c051-628c513d91fa"
      },
      "execution_count": null,
      "outputs": [
        {
          "output_type": "stream",
          "name": "stdout",
          "text": [
            "2024\n"
          ]
        }
      ]
    },
    {
      "cell_type": "markdown",
      "source": [
        "19. You have a string with multiple lines of text. Use a string method to split the string into a list of lines"
      ],
      "metadata": {
        "id": "rfst47fqRweL"
      }
    },
    {
      "cell_type": "code",
      "source": [
        "str=\"You have a string containing a sentence. Use a string method to swap the case of each character in the string. a string with multiple lines of text. Use a string method to split the string into a list of lines. Use a string method to swap the case of each character in the string.\"\n",
        "str_list=str.split(\".\")\n",
        "print(str_list)"
      ],
      "metadata": {
        "colab": {
          "base_uri": "https://localhost:8080/"
        },
        "id": "qlMImii8RyW3",
        "outputId": "c4d4cc85-edbd-42ee-99e3-a6e5f40e7d7c"
      },
      "execution_count": null,
      "outputs": [
        {
          "output_type": "stream",
          "name": "stdout",
          "text": [
            "['You have a string containing a sentence', ' Use a string method to swap the case of each character in the string', ' a string with multiple lines of text', ' Use a string method to split the string into a list of lines', ' Use a string method to swap the case of each character in the string', '']\n"
          ]
        }
      ]
    },
    {
      "cell_type": "markdown",
      "source": [
        "20. Given a string containing a sentence, use a string method to find the index of the first occurrence of the character \"a\"."
      ],
      "metadata": {
        "id": "g4CSIkkaR0YO"
      }
    },
    {
      "cell_type": "code",
      "source": [
        "str=\"You have a string containing a sentence\"\n",
        "value=str.index('a')\n",
        "print(value)"
      ],
      "metadata": {
        "colab": {
          "base_uri": "https://localhost:8080/"
        },
        "id": "5828n3T1R2yZ",
        "outputId": "01847c52-55eb-42f5-f9d4-566108e19548"
      },
      "execution_count": null,
      "outputs": [
        {
          "output_type": "stream",
          "name": "stdout",
          "text": [
            "5\n"
          ]
        }
      ]
    }
  ]
}