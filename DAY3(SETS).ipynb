{
  "nbformat": 4,
  "nbformat_minor": 0,
  "metadata": {
    "colab": {
      "provenance": [],
      "authorship_tag": "ABX9TyNN5VCORmvATkH2cjzBPbwJ",
      "include_colab_link": true
    },
    "kernelspec": {
      "name": "python3",
      "display_name": "Python 3"
    },
    "language_info": {
      "name": "python"
    }
  },
  "cells": [
    {
      "cell_type": "markdown",
      "metadata": {
        "id": "view-in-github",
        "colab_type": "text"
      },
      "source": [
        "<a href=\"https://colab.research.google.com/github/student-jashan/myrepo/blob/main/DAY3(SETS).ipynb\" target=\"_parent\"><img src=\"https://colab.research.google.com/assets/colab-badge.svg\" alt=\"Open In Colab\"/></a>"
      ]
    },
    {
      "cell_type": "markdown",
      "source": [
        "1. You have two sets representing students enrolled in Math and Science classes. Find the set of students who are enrolled in both classes."
      ],
      "metadata": {
        "id": "Dnmr07lOoxza"
      }
    },
    {
      "cell_type": "code",
      "execution_count": null,
      "metadata": {
        "colab": {
          "base_uri": "https://localhost:8080/"
        },
        "id": "4LxB9OPo1xcf",
        "outputId": "9b4e46ff-a7e4-45c3-bb97-6d632c9ad339"
      },
      "outputs": [
        {
          "output_type": "execute_result",
          "data": {
            "text/plain": [
              "{'Deep', 'Dev', 'Ishan', 'Jay', 'Manju', 'Ram', 'Raman', 'Vijay'}"
            ]
          },
          "metadata": {},
          "execution_count": 1
        }
      ],
      "source": [
        "student_maths={\"Ram\",\"Jay\",\"Dev\",\"Ishan\"}\n",
        "student_science={\"Vijay\",\"Raman\",\"Deep\",\"Manju\"}\n",
        "student_maths.union(student_science)"
      ]
    },
    {
      "cell_type": "markdown",
      "source": [
        "2. Given a set of unique employee IDs, add a new employee ID to the set"
      ],
      "metadata": {
        "id": "wNIpi9v5o0mU"
      }
    },
    {
      "cell_type": "code",
      "source": [
        "from ast import Add\n",
        "#unique employee id also add new id to it\n",
        "unique_id={345,234,566,677}\n",
        "print(unique_id)\n",
        "unique_id.add(456)\n",
        "print(unique_id)"
      ],
      "metadata": {
        "colab": {
          "base_uri": "https://localhost:8080/"
        },
        "id": "k1iwbof028fX",
        "outputId": "f350cf43-d983-4d82-b415-22f389ff126e"
      },
      "execution_count": null,
      "outputs": [
        {
          "output_type": "stream",
          "name": "stdout",
          "text": [
            "{345, 234, 677, 566}\n",
            "{677, 456, 234, 566, 345}\n"
          ]
        }
      ]
    },
    {
      "cell_type": "markdown",
      "source": [
        "3. You are managing two different projects and have two sets representing the team members for each project. Find the set of team members who are working on either project or both projects.\n"
      ],
      "metadata": {
        "id": "gv5C3fM9o7OG"
      }
    },
    {
      "cell_type": "code",
      "source": [
        "project1={\"Ram\",\"Jay\",\"Dev\",\"Ishan\"}\n",
        "project2={\"Vijay\",\"Raman\",\"Deep\",\"Manju\",\"Dev\",\"Ishan\"}\n",
        "team_work_on_either_project=project1.union(project2)\n",
        "print(team_work_on_either_project)"
      ],
      "metadata": {
        "colab": {
          "base_uri": "https://localhost:8080/"
        },
        "id": "RbFTet0v4smS",
        "outputId": "d06e2299-81af-439a-c528-66b5608b13f0"
      },
      "execution_count": null,
      "outputs": [
        {
          "output_type": "stream",
          "name": "stdout",
          "text": [
            "{'Manju', 'Ishan', 'Ram', 'Vijay', 'Deep', 'Raman', 'Dev', 'Jay'}\n"
          ]
        }
      ]
    },
    {
      "cell_type": "markdown",
      "source": [
        "4. Given two sets of product IDs, one representing products in stock and the other representing products that have been sold, find the set of products that are still in stock.\n"
      ],
      "metadata": {
        "id": "Actun8mWpAoJ"
      }
    },
    {
      "cell_type": "code",
      "source": [
        "product_present_stock={\"product A\",\"product B\",\"product D\"}\n",
        "product_sold={\"product C\", \"product D\"}\n",
        "update=product_present_stock.difference(product_sold)\n",
        "print(update)\n"
      ],
      "metadata": {
        "colab": {
          "base_uri": "https://localhost:8080/"
        },
        "id": "HXRXGVXs4ONZ",
        "outputId": "71652707-f3f0-4dce-af93-f0ef0ca2d2cd"
      },
      "execution_count": null,
      "outputs": [
        {
          "output_type": "stream",
          "name": "stdout",
          "text": [
            "{'product A', 'product B'}\n"
          ]
        }
      ]
    },
    {
      "cell_type": "markdown",
      "source": [
        "6. You have a set of registered conference attendees. Check if a particular person is registered."
      ],
      "metadata": {
        "id": "vMDIhtFVpOzb"
      }
    },
    {
      "cell_type": "code",
      "source": [
        "regested={\"Ram\",\"Jay\",\"Dev\",\"Ishan\"}\n",
        "to_check_person={\"Dev\"}\n",
        "to_check_person.issubset(regested)\n"
      ],
      "metadata": {
        "colab": {
          "base_uri": "https://localhost:8080/"
        },
        "id": "b1iX3HXV7tQw",
        "outputId": "572f398c-a4e4-4a97-e08f-790b574bc378"
      },
      "execution_count": null,
      "outputs": [
        {
          "output_type": "execute_result",
          "data": {
            "text/plain": [
              "True"
            ]
          },
          "metadata": {},
          "execution_count": 19
        }
      ]
    },
    {
      "cell_type": "markdown",
      "source": [
        "7. Given two sets of book titles, one representing books available in the library and the other representing books borrowed by students, find the set of books that are not currently available in the library."
      ],
      "metadata": {
        "id": "rUX30QLrpU6t"
      }
    },
    {
      "cell_type": "code",
      "source": [
        "books_in_library={\"The Marchant\",\"On friendship\",\"The Great Indian's\",\"The World\"}\n",
        "books_borrowed={\"The Great Indian's\",\"The World\"}\n",
        "\n",
        "not_present_in_library=books_in_library.intersection(books_borrowed)\n",
        "print(not_present_in_library)"
      ],
      "metadata": {
        "colab": {
          "base_uri": "https://localhost:8080/"
        },
        "id": "wT-gmEZK8ugk",
        "outputId": "1384cecb-17fd-4f5d-b011-9f7ce7839383"
      },
      "execution_count": null,
      "outputs": [
        {
          "output_type": "stream",
          "name": "stdout",
          "text": [
            "{'The World', \"The Great Indian's\"}\n"
          ]
        }
      ]
    },
    {
      "cell_type": "markdown",
      "source": [
        "8. You have a set of unique tags assigned to a blog post. Add multiple new tags to the set at once.\n"
      ],
      "metadata": {
        "id": "8EQ5u1VTpapq"
      }
    },
    {
      "cell_type": "code",
      "source": [
        "available_tags={\"Python\",\"Artifical Intelligence\",\"Data Science\"}\n",
        "new_tags={\"Data Anylsis\",\"Data Structure\"}\n",
        "available_tags.update(new_tags)\n",
        "print(available_tags)\n"
      ],
      "metadata": {
        "colab": {
          "base_uri": "https://localhost:8080/"
        },
        "id": "sMcSum-ZAiX-",
        "outputId": "946983fa-87be-441c-f5dd-4858e2d7016e"
      },
      "execution_count": null,
      "outputs": [
        {
          "output_type": "stream",
          "name": "stdout",
          "text": [
            "{'Artifical Intelligence', 'Data Science', 'Python', 'Data Structure', 'Data Anylsis'}\n"
          ]
        }
      ]
    },
    {
      "cell_type": "markdown",
      "source": [
        "9. Given a set of employee skills and another set of skills required for a new project, find the set of skills that need to be acquired or improved."
      ],
      "metadata": {
        "id": "NZnD42Mypuoa"
      }
    },
    {
      "cell_type": "code",
      "source": [
        "empolyee_skills={\"Team Management\",\"Communication\",\"Problem solving\"}\n",
        "new_skills={\"leadership\",\"Adaptability\"}\n",
        "update=empolyee_skills.union(new_skills)\n",
        "print(update)"
      ],
      "metadata": {
        "colab": {
          "base_uri": "https://localhost:8080/"
        },
        "id": "KVtzZ6koBhds",
        "outputId": "f48f3cba-3e2b-499c-99be-65b39722956d"
      },
      "execution_count": null,
      "outputs": [
        {
          "output_type": "stream",
          "name": "stdout",
          "text": [
            "{'Communication', 'Problem solving', 'Team Management', 'Adaptability', 'leadership'}\n"
          ]
        }
      ]
    },
    {
      "cell_type": "markdown",
      "source": [
        "10. You have two sets of favorite movies from two different friends. Find the set of movies that are favorite to at least one of them but not both."
      ],
      "metadata": {
        "id": "9q43ovNrp1RK"
      }
    },
    {
      "cell_type": "code",
      "source": [
        "favourite_movie1={\"Lost\",\"Khmoshi\",\"Gaslight\",\"1920\"}\n",
        "favourite_movie2={\"Pari\",\"1920\",\"Dybbuk\"}\n",
        "update=favourite_movie1.intersection(favourite_movie2)\n",
        "print(update)"
      ],
      "metadata": {
        "colab": {
          "base_uri": "https://localhost:8080/"
        },
        "id": "VfG4Vt3qEEKr",
        "outputId": "a8483b29-47bd-4283-8b43-92b76db38b92"
      },
      "execution_count": null,
      "outputs": [
        {
          "output_type": "stream",
          "name": "stdout",
          "text": [
            "{'1920'}\n"
          ]
        }
      ]
    },
    {
      "cell_type": "markdown",
      "source": [
        "11. Given two sets representing the collection of books in two different libraries, find the set of books that are available in both libraries."
      ],
      "metadata": {
        "id": "qFo8XCS1p5Ac"
      }
    },
    {
      "cell_type": "code",
      "source": [
        "books_in_library1={\"Python\",\"Artifical Intelligence\",\"Data Science\"}\n",
        "books_in_library2={\"Digital Marketing\",\"Graphic Desigining\",\"Data Structure and Algorithms\"}\n",
        "total_available=books_in_library1|books_in_library2\n",
        "print(total_available)\n"
      ],
      "metadata": {
        "colab": {
          "base_uri": "https://localhost:8080/"
        },
        "id": "M4mgN0P-FdeK",
        "outputId": "56a9e472-eeac-43a1-ba58-4f1f6edaaedc"
      },
      "execution_count": null,
      "outputs": [
        {
          "output_type": "stream",
          "name": "stdout",
          "text": [
            "{'Artifical Intelligence', 'Data Science', 'Graphic Desigining', 'Python', 'Data Structure and Algorithms', 'Digital Marketing'}\n"
          ]
        }
      ]
    }
  ]
}