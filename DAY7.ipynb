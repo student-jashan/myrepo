{
  "nbformat": 4,
  "nbformat_minor": 0,
  "metadata": {
    "colab": {
      "provenance": [],
      "authorship_tag": "ABX9TyOappl5TIAr4lU5dsGyE/Gm",
      "include_colab_link": true
    },
    "kernelspec": {
      "name": "python3",
      "display_name": "Python 3"
    },
    "language_info": {
      "name": "python"
    }
  },
  "cells": [
    {
      "cell_type": "markdown",
      "metadata": {
        "id": "view-in-github",
        "colab_type": "text"
      },
      "source": [
        "<a href=\"https://colab.research.google.com/github/student-jashan/myrepo/blob/main/DAY7.ipynb\" target=\"_parent\"><img src=\"https://colab.research.google.com/assets/colab-badge.svg\" alt=\"Open In Colab\"/></a>"
      ]
    },
    {
      "cell_type": "markdown",
      "source": [
        "**OPPS CONCEPT CLASSES & OBJECTS, ATTRIBUTES, VARIABLE VS ATTRIBUTES, CREATING ATTRIBUTES IN A CLASS, CONSTRUCTOR(TYPES)**"
      ],
      "metadata": {
        "id": "b7-rNO8YFwY3"
      }
    },
    {
      "cell_type": "markdown",
      "source": [
        "1.Define a simple Car class with attributes for make, model, and year. Create an object of this class and print its attributes."
      ],
      "metadata": {
        "id": "lTAOwquC5eIT"
      }
    },
    {
      "cell_type": "code",
      "source": [
        "class Car:\n",
        "  pass\n",
        "\n",
        "car1=Car()\n",
        "car2=Car()\n",
        "\n",
        "car1.make=\"Hundyai\"\n",
        "car1.model=\"Verna\"\n",
        "car1.year=\"1988\"\n",
        "\n",
        "car2.make=\"abc\"\n",
        "car2.model=\"Swift\"\n",
        "car2.year=\"2006\"\n",
        "\n",
        "print(car1.make)\n",
        "print(car2.model)"
      ],
      "metadata": {
        "colab": {
          "base_uri": "https://localhost:8080/"
        },
        "id": "Qc5Np3qH5jHu",
        "outputId": "86334cb5-31b2-4c35-a9f0-dea60628235d"
      },
      "execution_count": null,
      "outputs": [
        {
          "output_type": "stream",
          "name": "stdout",
          "text": [
            "Hundyai\n",
            "Swift\n"
          ]
        }
      ]
    },
    {
      "cell_type": "markdown",
      "source": [
        "2.Create a Person class with attributes for name and age. Add a method to print a greeting message. Create an object and call the method."
      ],
      "metadata": {
        "id": "WssTDLh47MqI"
      }
    },
    {
      "cell_type": "code",
      "source": [
        "class Person:\n",
        "  def __init__(self,name,age):\n",
        "    self.name=name\n",
        "    self.age=age\n",
        "\n",
        "p1=Person(\"jashandeep\",19)\n",
        "p2=Person(\"komalpreet\",20)\n",
        "\n",
        "print(\"First Person's name\" ,p1.name, \"and her age is \",p1.age)\n",
        "print(\"Second Person's name\" , p2.name, \"and her age is \",p2.age)\n",
        "\n",
        "\n"
      ],
      "metadata": {
        "colab": {
          "base_uri": "https://localhost:8080/"
        },
        "id": "DQIx1SVw7Qh-",
        "outputId": "f987d367-0e3a-4310-be15-c8da9496b7a5"
      },
      "execution_count": null,
      "outputs": [
        {
          "output_type": "stream",
          "name": "stdout",
          "text": [
            "First Person's name jashandeep and her age is  19\n",
            "Second Person's name komalpreet and her age is  20\n"
          ]
        }
      ]
    },
    {
      "cell_type": "markdown",
      "source": [
        "3.Define a Rectangle class with attributes for length and width. Add a method to calculate the area of the rectangle. Create an object and print the area."
      ],
      "metadata": {
        "id": "0QWQFR439YIQ"
      }
    },
    {
      "cell_type": "code",
      "source": [
        "class Rectangle:\n",
        "  def __init__(self, length,width):\n",
        "    self.length=length\n",
        "    self.width=width\n",
        "  def calculate_area(self):\n",
        "    value=self.length\n",
        "    value1=self.width\n",
        "    return value*value1\n",
        "R=Rectangle(3,7)\n",
        "R.calculate_area()\n",
        "\n",
        "\n",
        "\n",
        "\n"
      ],
      "metadata": {
        "colab": {
          "base_uri": "https://localhost:8080/"
        },
        "id": "QntGWAjJ9cGO",
        "outputId": "d78ef720-02f0-4211-8cba-f397bfaad0ec"
      },
      "execution_count": null,
      "outputs": [
        {
          "output_type": "execute_result",
          "data": {
            "text/plain": [
              "21"
            ]
          },
          "metadata": {},
          "execution_count": 8
        }
      ]
    },
    {
      "cell_type": "markdown",
      "source": [
        "4.Create a Student class with attributes for name and grades (a list of numbers). Add a method to calculate the average grade. Create an object and print the average grade."
      ],
      "metadata": {
        "id": "wAXAPSHZ-uTl"
      }
    },
    {
      "cell_type": "code",
      "source": [
        "class Student :\n",
        " def __init__(self,name,marks):\n",
        "    self.name=name\n",
        "    self.marks=marks\n",
        "\n",
        " def avg(self):\n",
        "    sum=0\n",
        "    for val in self.marks:\n",
        "      sum += val\n",
        "\n",
        "    print(self.name,\"your avg score\",sum/3)\n",
        "\n",
        "s1=Student(\"karan\",[77,78,89])\n",
        "s1.avg()\n",
        "\n"
      ],
      "metadata": {
        "id": "zXcFV9Pa_ahC",
        "colab": {
          "base_uri": "https://localhost:8080/"
        },
        "outputId": "a0058ee4-a19d-4dce-a171-ed666f1cc497"
      },
      "execution_count": null,
      "outputs": [
        {
          "output_type": "stream",
          "name": "stdout",
          "text": [
            "karan your avg score 81.33333333333333\n"
          ]
        }
      ]
    },
    {
      "cell_type": "markdown",
      "source": [
        "5.Define a Book class with attributes for title, author, and pages. Add a method to display the book's details. Create an object and call the method."
      ],
      "metadata": {
        "id": "DgMqeoaJBUk5"
      }
    },
    {
      "cell_type": "code",
      "source": [
        "class Book:\n",
        "  def __init__(self,title,author,pages):\n",
        "    self.title=title\n",
        "    self.author=author\n",
        "    self.pages=pages\n",
        "\n",
        "book1=Book(\"THE GREAT INDIANS\",\"ABC\",\"278\")\n",
        "book2=Book(\"THE GAI\",\"IK\",\"345\")\n",
        "\n",
        "print(\"our first book title\",book1.title,\" ,name of the author\",book1.author,\" and number of pages\",book1.pages)\n",
        "print(\"our first book title\",book2.title,\" ,name of the author\",book2.author,\" and number of pages\",book2.pages)\n",
        "\n",
        "\n",
        "\n"
      ],
      "metadata": {
        "colab": {
          "base_uri": "https://localhost:8080/"
        },
        "id": "nlQSES_UBa7l",
        "outputId": "56ecda9f-9a72-44a8-f891-09f772f7352c"
      },
      "execution_count": null,
      "outputs": [
        {
          "output_type": "stream",
          "name": "stdout",
          "text": [
            "our first book title THE GREAT INDIANS  ,name of the author ABC  and number of pages 278\n",
            "our first book title THE GAI  ,name of the author IK  and number of pages 345\n"
          ]
        }
      ]
    },
    {
      "cell_type": "markdown",
      "source": [
        "6.Create a Dog class with attributes for name and breed. Add a method to make the dog bark (print a bark message). Create an object and call the method"
      ],
      "metadata": {
        "id": "v32qMXbMEA6M"
      }
    },
    {
      "cell_type": "code",
      "source": [
        "class Dog:\n",
        "  def __init__(self,name,breed):\n",
        "    self.name=name\n",
        "    self.breed=breed\n",
        "  def action(self):\n",
        "    print(\"Bark\")\n",
        "print(\"Dog-1\")\n",
        "d1=Dog(\"abc\",\"Germanshffd\")\n",
        "d1.action()\n",
        "\n",
        "\n",
        "\n"
      ],
      "metadata": {
        "colab": {
          "base_uri": "https://localhost:8080/"
        },
        "id": "2QWdJuPfEP4G",
        "outputId": "a8340f03-e8e8-4261-9e1f-c95a2ee7dce6"
      },
      "execution_count": null,
      "outputs": [
        {
          "output_type": "stream",
          "name": "stdout",
          "text": [
            "Dog-1\n",
            "Bark\n"
          ]
        }
      ]
    },
    {
      "cell_type": "markdown",
      "source": [
        "7.Define a BankAccount class with attributes for account number and balance. Add methods to deposit and withdraw money. Create an object and test the methods."
      ],
      "metadata": {
        "id": "eiqPeyxY0rEE"
      }
    },
    {
      "cell_type": "code",
      "source": [
        "class BankAccount:\n",
        "  def __init__(self,account_no,balance):\n",
        "    self.account=account_no\n",
        "    self.balance=balance\n",
        "  def deposite(self,money):\n",
        "    if money>0:\n",
        "      self.balance+=money\n",
        "      return True\n",
        "    else:\n",
        "      return False\n",
        "  def withdraw(self,money):\n",
        "    if 0<money<=self.balance:\n",
        "      self.balance-=money\n",
        "      return True\n",
        "    else:\n",
        "      return False\n",
        "  def get_balance(self):\n",
        "    return self.balance\n",
        "Amount=BankAccount(\"12345678\",600000)\n",
        "Amount.deposite(40000)\n",
        "Amount.withdraw(100000)\n",
        "Amount.get_balance()"
      ],
      "metadata": {
        "colab": {
          "base_uri": "https://localhost:8080/"
        },
        "id": "odum9j2g03Z2",
        "outputId": "09607336-3b30-4460-d575-d12d0c3e9348"
      },
      "execution_count": null,
      "outputs": [
        {
          "output_type": "execute_result",
          "data": {
            "text/plain": [
              "540000"
            ]
          },
          "metadata": {},
          "execution_count": 12
        }
      ]
    },
    {
      "cell_type": "markdown",
      "source": [
        "8.Create a Circle class with attributes for radius. Add a method to calculate the circumference. Create an object and print the circumference"
      ],
      "metadata": {
        "id": "b3VBxjbM3ZZY"
      }
    },
    {
      "cell_type": "code",
      "source": [
        "class Circle:\n",
        "  def __init__(self,radius):\n",
        "    self.radius=radius\n",
        "  def calculate_circumference(self):\n",
        "    r2=self.radius\n",
        "    return 2*3.14*r2\n",
        "r=Circle(4)\n",
        "r.calculate_circumference()"
      ],
      "metadata": {
        "colab": {
          "base_uri": "https://localhost:8080/"
        },
        "id": "lfcyCWv42Qtt",
        "outputId": "d2ff9c98-19d1-448f-8f27-445a7b66176f"
      },
      "execution_count": null,
      "outputs": [
        {
          "output_type": "execute_result",
          "data": {
            "text/plain": [
              "25.12"
            ]
          },
          "metadata": {},
          "execution_count": 16
        }
      ]
    },
    {
      "cell_type": "markdown",
      "source": [
        "9.Define a Laptop class with attributes for brand and price. Add a method to apply a discount to the price. Create an object and test the method."
      ],
      "metadata": {
        "id": "DwAejcKe1N-j"
      }
    },
    {
      "cell_type": "code",
      "source": [
        "class Laptop:\n",
        "  def __init__(self,brand,price):\n",
        "    self.brand= brand\n",
        "    self.price=price\n",
        "  def discount(self,price):\n",
        "    self.price=price\n",
        "    discount=10\n",
        "    return  price-price*discount/100\n",
        "b=Laptop(\"Apple\",100000)\n",
        "b.discount(100000)\n"
      ],
      "metadata": {
        "id": "2vrsEvIX31fe",
        "colab": {
          "base_uri": "https://localhost:8080/"
        },
        "outputId": "19062e03-26a3-4c75-e364-4b7204a7aecb"
      },
      "execution_count": 9,
      "outputs": [
        {
          "output_type": "execute_result",
          "data": {
            "text/plain": [
              "90000.0"
            ]
          },
          "metadata": {},
          "execution_count": 9
        }
      ]
    },
    {
      "cell_type": "markdown",
      "source": [
        "10.Create a Employee class with attributes for name and salary. Add a method to give a raise (increase the salary). Create an object and test the method."
      ],
      "metadata": {
        "id": "STASm1wS3JLK"
      }
    },
    {
      "cell_type": "code",
      "source": [
        "class Employee:\n",
        "  def __init__(self,name,salary):\n",
        "    self.name=name\n",
        "    self.salary=salary\n",
        "  def raise_salary(self,salary):\n",
        "    self.salary+=salary\n",
        "    return self.salary\n",
        "E1=Employee(\"Divya\",45000)\n",
        "E1.raise_salary(45000)\n",
        "\n",
        ""
      ],
      "metadata": {
        "colab": {
          "base_uri": "https://localhost:8080/"
        },
        "id": "Pj2P9R5a3R4x",
        "outputId": "267a25eb-13fd-4d06-d36f-222361b4ff62"
      },
      "execution_count": 18,
      "outputs": [
        {
          "output_type": "execute_result",
          "data": {
            "text/plain": [
              "90000"
            ]
          },
          "metadata": {},
          "execution_count": 18
        }
      ]
    },
    {
      "cell_type": "markdown",
      "source": [
        "11.Create a Movie class with attributes for title, director, and release year. Add a method to display the movie's information. Create an object and call the method."
      ],
      "metadata": {
        "id": "G_phZDnM80_j"
      }
    },
    {
      "cell_type": "code",
      "source": [
        "class Movie:\n",
        "\n",
        "  def __init__(self,title,director,release_year):\n",
        "    self.title=title\n",
        "    self.director=director\n",
        "    self.release_year=release_year\n",
        "  def information(self):\n",
        "    info=(f\"Title:{self.title}\" \" \" f\"Director:{self.director}\" \" \" f\"Release_year:{self.release_year}\")\n",
        "    return info\n",
        "s1=Movie(\"abc\",\"bnm\",1998)\n",
        "s1.information()"
      ],
      "metadata": {
        "colab": {
          "base_uri": "https://localhost:8080/",
          "height": 36
        },
        "id": "WZOcnG8387P2",
        "outputId": "0355ccd4-d787-4865-baa9-42f6f6d4e9e7"
      },
      "execution_count": 34,
      "outputs": [
        {
          "output_type": "execute_result",
          "data": {
            "text/plain": [
              "'Title:abc Director:bnm Release_year:1998'"
            ],
            "application/vnd.google.colaboratory.intrinsic+json": {
              "type": "string"
            }
          },
          "metadata": {},
          "execution_count": 34
        }
      ]
    },
    {
      "cell_type": "markdown",
      "source": [
        "12.Define a Product class with attributes for name and price. Add a method to calculate the price after tax (assume a fixed tax rate). Create an object and print the price after tax."
      ],
      "metadata": {
        "id": "hwJZPDBgAnWA"
      }
    },
    {
      "cell_type": "code",
      "source": [
        "class Product:\n",
        "  def __init__(self,name,price):\n",
        "    self.name=name\n",
        "    self.price=price\n",
        "  def calculate(self,price):\n",
        "    tax=2\n",
        "    return price+price*tax/100\n",
        "\n",
        "t1=Product(\"watch\",5000)\n",
        "t1.calculate(5000)\n"
      ],
      "metadata": {
        "colab": {
          "base_uri": "https://localhost:8080/"
        },
        "id": "3tB0A8db-dQU",
        "outputId": "2d420caa-ffa2-4be3-a346-0e5446abc0c5"
      },
      "execution_count": 37,
      "outputs": [
        {
          "output_type": "execute_result",
          "data": {
            "text/plain": [
              "5100.0"
            ]
          },
          "metadata": {},
          "execution_count": 37
        }
      ]
    },
    {
      "cell_type": "markdown",
      "source": [
        "13.Create a Player class with attributes for name and score. Add a method to update the score. Create an object and test the method"
      ],
      "metadata": {
        "id": "dm0zjpLFCTCv"
      }
    },
    {
      "cell_type": "code",
      "source": [
        "class Player:\n",
        "  def __init__(self,name,score):\n",
        "    self.name1=name\n",
        "    self.score1=score\n",
        "\n",
        "  def update(self,points):\n",
        "    self.score1+=points\n",
        "    return self.score1\n",
        "\n",
        "P1=Player(\"Vinam\",4)\n",
        "P1.update(5)\n"
      ],
      "metadata": {
        "colab": {
          "base_uri": "https://localhost:8080/"
        },
        "id": "LEK_jDlWBDZk",
        "outputId": "35543bfa-4fdf-40cf-a053-cc10dc72900e"
      },
      "execution_count": 53,
      "outputs": [
        {
          "output_type": "execute_result",
          "data": {
            "text/plain": [
              "9"
            ]
          },
          "metadata": {},
          "execution_count": 53
        }
      ]
    }
  ]
}