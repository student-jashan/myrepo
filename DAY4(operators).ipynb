{
  "nbformat": 4,
  "nbformat_minor": 0,
  "metadata": {
    "colab": {
      "provenance": [],
      "authorship_tag": "ABX9TyOniuGhe66BzmBjpA/Pkdag",
      "include_colab_link": true
    },
    "kernelspec": {
      "name": "python3",
      "display_name": "Python 3"
    },
    "language_info": {
      "name": "python"
    }
  },
  "cells": [
    {
      "cell_type": "markdown",
      "metadata": {
        "id": "view-in-github",
        "colab_type": "text"
      },
      "source": [
        "<a href=\"https://colab.research.google.com/github/student-jashan/myrepo/blob/main/DAY4(operators).ipynb\" target=\"_parent\"><img src=\"https://colab.research.google.com/assets/colab-badge.svg\" alt=\"Open In Colab\"/></a>"
      ]
    },
    {
      "cell_type": "markdown",
      "source": [
        "1. You have two variables, a and b, containing integer values. Use arithmetic operators to calculate and print the sum, difference, product, and quotient of these variables."
      ],
      "metadata": {
        "id": "fffal4Z8v9yI"
      }
    },
    {
      "cell_type": "code",
      "source": [
        "a=5\n",
        "b=7\n",
        "sum=a+b\n",
        "difference=a-b\n",
        "product=a*b\n",
        "quotient=a/b\n",
        "print(f\"sum:{sum}\")\n",
        "print(f\"difference:{difference}\")\n",
        "print(f\"product:{product}\")\n",
        "print(f\"quotient:{quotient}\")\n"
      ],
      "metadata": {
        "colab": {
          "base_uri": "https://localhost:8080/"
        },
        "id": "RhEeaB-zwFf7",
        "outputId": "afd0d5f5-4efa-4576-d939-0b13358b3b57"
      },
      "execution_count": 3,
      "outputs": [
        {
          "output_type": "stream",
          "name": "stdout",
          "text": [
            "sum:12\n",
            "difference:-2\n",
            "product:35\n",
            "quotient:0.7142857142857143\n"
          ]
        }
      ]
    },
    {
      "cell_type": "markdown",
      "source": [
        "2. Given a variable x containing an integer value, use the modulus operator to check if x is even or odd."
      ],
      "metadata": {
        "id": "IWZcgBPAxc4r"
      }
    },
    {
      "cell_type": "code",
      "source": [
        "x=7\n",
        "if(x%2==0):\n",
        "  print(f\"{x} is an even number\")\n",
        "else:\n",
        "  print(f\"{x} is an odd number\")"
      ],
      "metadata": {
        "colab": {
          "base_uri": "https://localhost:8080/"
        },
        "id": "wGtG68dhxjpj",
        "outputId": "baf4bc6a-0921-4477-872b-75f962fb5fb7"
      },
      "execution_count": 8,
      "outputs": [
        {
          "output_type": "stream",
          "name": "stdout",
          "text": [
            "7 is an odd number\n"
          ]
        }
      ]
    },
    {
      "cell_type": "markdown",
      "source": [
        "3. You have two variables, a and b. Use comparison operators to check if a is greater than b, and print the result."
      ],
      "metadata": {
        "id": "UXUepf4QyHP-"
      }
    },
    {
      "cell_type": "code",
      "source": [
        "a=4\n",
        "b=7\n",
        "if a>b:\n",
        " print(f\"a={a} is greater \")\n",
        "else:\n",
        "  print(f\"b={b} is greater\")"
      ],
      "metadata": {
        "colab": {
          "base_uri": "https://localhost:8080/"
        },
        "id": "WYrFxChoyIWx",
        "outputId": "9ac46e61-d181-44cc-861c-d0df260a530c"
      },
      "execution_count": 9,
      "outputs": [
        {
          "output_type": "stream",
          "name": "stdout",
          "text": [
            "b=7 is greater\n"
          ]
        }
      ]
    },
    {
      "cell_type": "markdown",
      "source": [
        "4. Given two boolean variables, p and q, use logical operators to evaluate and print the result of p AND q, p OR q, and NOT p."
      ],
      "metadata": {
        "id": "Xa-Q28QJya3h"
      }
    },
    {
      "cell_type": "code",
      "source": [
        "p=True\n",
        "q=False\n",
        "print(f\"p and q: {p and q}\")\n",
        "print(f\"p or q:{p or q}\")\n",
        "print(f\"not p: {not p}\")\n"
      ],
      "metadata": {
        "colab": {
          "base_uri": "https://localhost:8080/"
        },
        "id": "mL0RiYLMyg4H",
        "outputId": "44fd7f13-38da-4b98-9c5d-533f4ef8c0b9"
      },
      "execution_count": 13,
      "outputs": [
        {
          "output_type": "stream",
          "name": "stdout",
          "text": [
            "p and q: False\n",
            "p or q:True\n",
            "not p: False\n"
          ]
        }
      ]
    },
    {
      "cell_type": "markdown",
      "source": [
        "5. You have a variable n containing an integer value. Use the bitwise AND, OR, and XOR operators to perform operations with another integer m.\n"
      ],
      "metadata": {
        "id": "imlOSVCtzct7"
      }
    },
    {
      "cell_type": "code",
      "source": [
        "n=7\n",
        "m=3\n",
        "print(f\"n AND m:{n&m}\")\n",
        "print(f\"n OR m:{n|m}\")\n",
        "print(f\"n XOR m: {n^m}\")"
      ],
      "metadata": {
        "colab": {
          "base_uri": "https://localhost:8080/"
        },
        "id": "4r-eVwx_zoaA",
        "outputId": "ff90d632-9b2a-4947-cbc7-4e561ca790a9"
      },
      "execution_count": 16,
      "outputs": [
        {
          "output_type": "stream",
          "name": "stdout",
          "text": [
            "n AND m:3\n",
            "n OR m:7\n",
            "n XOR m: 4\n"
          ]
        }
      ]
    },
    {
      "cell_type": "markdown",
      "source": [
        "6.Given a variable y containing a floating-point number, use the floor division operator to divide y by 2 and print the result."
      ],
      "metadata": {
        "id": "eH5BQwPf0KI2"
      }
    },
    {
      "cell_type": "code",
      "source": [
        "y=5.5\n",
        "print(f\"value: {y//2}\")"
      ],
      "metadata": {
        "colab": {
          "base_uri": "https://localhost:8080/"
        },
        "id": "Mu-E6y-q0QU9",
        "outputId": "f9ad7ac1-c947-44fd-82a8-ea7993b1eb49"
      },
      "execution_count": 17,
      "outputs": [
        {
          "output_type": "stream",
          "name": "stdout",
          "text": [
            "value: 2.0\n"
          ]
        }
      ]
    },
    {
      "cell_type": "markdown",
      "source": [
        "7.You have two strings, str1 and str2. Use the concatenation operator to join these strings and print the result."
      ],
      "metadata": {
        "id": "h6eMaoba0jiI"
      }
    },
    {
      "cell_type": "code",
      "source": [
        "str1=\"jashan\"\n",
        "str2=\"deep\"\n",
        "str=str1+str2\n",
        "print(str)"
      ],
      "metadata": {
        "colab": {
          "base_uri": "https://localhost:8080/"
        },
        "id": "vsTozNCq0n1q",
        "outputId": "ced0acc8-f5f6-4ec7-8e78-62ad28051036"
      },
      "execution_count": 19,
      "outputs": [
        {
          "output_type": "stream",
          "name": "stdout",
          "text": [
            "jashandeep\n"
          ]
        }
      ]
    },
    {
      "cell_type": "markdown",
      "source": [
        "8.Given a variable z containing an integer, use the increment operator to increase its value by 1 and print the result."
      ],
      "metadata": {
        "id": "lTRJwrBI0yQo"
      }
    },
    {
      "cell_type": "code",
      "source": [
        "z=5\n",
        "z+=1\n",
        "print(z)"
      ],
      "metadata": {
        "colab": {
          "base_uri": "https://localhost:8080/"
        },
        "id": "GquggS-H0-ka",
        "outputId": "4a3bf03d-c9e4-4d8a-a6d2-c3b7f25c7244"
      },
      "execution_count": 21,
      "outputs": [
        {
          "output_type": "stream",
          "name": "stdout",
          "text": [
            "6\n"
          ]
        }
      ]
    },
    {
      "cell_type": "markdown",
      "source": [
        "9. You have a list my_list and a value val. Use the in operator to check if val\n",
        "is present in my_list and print the result."
      ],
      "metadata": {
        "id": "a_s3Axtx1L50"
      }
    },
    {
      "cell_type": "code",
      "source": [
        "my_list=[2,4,6,7]\n",
        "val=6\n",
        "if val in my_list:\n",
        "  print(f\"{val} is present \")\n",
        "else:\n",
        "  print(f\"{val} is not present\")"
      ],
      "metadata": {
        "colab": {
          "base_uri": "https://localhost:8080/"
        },
        "id": "Qiedm_l41TjJ",
        "outputId": "3a53699b-c59f-420c-ff95-e76f1ae3d878"
      },
      "execution_count": 27,
      "outputs": [
        {
          "output_type": "stream",
          "name": "stdout",
          "text": [
            "6 is present \n"
          ]
        }
      ]
    },
    {
      "cell_type": "markdown",
      "source": [
        "10.Given two variables a and b, use the assignment operator to assign the value of b to a and print a"
      ],
      "metadata": {
        "id": "8808wp9y2p7-"
      }
    },
    {
      "cell_type": "code",
      "source": [
        "a=4\n",
        "b=7\n",
        "a=b\n",
        "print(a)"
      ],
      "metadata": {
        "colab": {
          "base_uri": "https://localhost:8080/"
        },
        "id": "41iaVKHe2vZO",
        "outputId": "d64a320d-2fa8-497c-f6d8-630101135062"
      },
      "execution_count": 29,
      "outputs": [
        {
          "output_type": "stream",
          "name": "stdout",
          "text": [
            "7\n"
          ]
        }
      ]
    },
    {
      "cell_type": "markdown",
      "source": [
        "11. You have two variables, x and y, containing integer values. Use the compound assignment operator to add y to x and print the result.\n"
      ],
      "metadata": {
        "id": "jdFKQX6W3Ckf"
      }
    },
    {
      "cell_type": "code",
      "source": [
        "x=4\n",
        "y=8\n",
        "x+=y\n",
        "print(x)"
      ],
      "metadata": {
        "colab": {
          "base_uri": "https://localhost:8080/"
        },
        "id": "3tQC0icT3Lxh",
        "outputId": "c7979419-d9ef-43bc-dc3c-8f1bd9b01326"
      },
      "execution_count": 31,
      "outputs": [
        {
          "output_type": "stream",
          "name": "stdout",
          "text": [
            "12\n"
          ]
        }
      ]
    },
    {
      "cell_type": "markdown",
      "source": [
        "12.Given a variable num containing an integer value, use the bitwise left shift operator to shift num by 2 bits and print the result."
      ],
      "metadata": {
        "id": "mwnMDYLo4VBB"
      }
    },
    {
      "cell_type": "code",
      "source": [
        "num=5\n",
        "result=num<<2\n",
        "print(result)\n"
      ],
      "metadata": {
        "colab": {
          "base_uri": "https://localhost:8080/"
        },
        "id": "kSridVbz4a72",
        "outputId": "4a4d270a-e526-41ec-d941-e37dc10e0a4a"
      },
      "execution_count": 36,
      "outputs": [
        {
          "output_type": "stream",
          "name": "stdout",
          "text": [
            "20\n"
          ]
        }
      ]
    },
    {
      "cell_type": "markdown",
      "source": [
        "13.You have a string text and an integer n. Use the repetition operator to repeat text n times and print the result."
      ],
      "metadata": {
        "id": "8kXiqKPJ5plV"
      }
    },
    {
      "cell_type": "code",
      "source": [
        "text=\"Hello!\"\n",
        "n=\"2\"\n",
        "result=text*2\n",
        "print(result)"
      ],
      "metadata": {
        "colab": {
          "base_uri": "https://localhost:8080/"
        },
        "id": "AhatGLuq5uku",
        "outputId": "4c4efb88-7ba4-4e31-e74c-58fb3af372a5"
      },
      "execution_count": 38,
      "outputs": [
        {
          "output_type": "stream",
          "name": "stdout",
          "text": [
            "Hello!Hello!\n"
          ]
        }
      ]
    },
    {
      "cell_type": "markdown",
      "source": [
        "14.Given two variables, a and b, use the comparison operators to check if a is equal to b and if a is not equal to b. Print the results."
      ],
      "metadata": {
        "id": "O3rTK4md6tCS"
      }
    },
    {
      "cell_type": "code",
      "source": [
        "a=5\n",
        "b=5\n",
        "if a==b:\n",
        " print(\"a equals to b\")\n",
        "else:\n",
        "   print(\"a is not equals to b\")"
      ],
      "metadata": {
        "colab": {
          "base_uri": "https://localhost:8080/"
        },
        "id": "vKT9-X-J6yU7",
        "outputId": "71e315b1-b10c-4025-e404-5f8dc198a1a1"
      },
      "execution_count": 39,
      "outputs": [
        {
          "output_type": "stream",
          "name": "stdout",
          "text": [
            "a equals to b\n"
          ]
        }
      ]
    },
    {
      "cell_type": "markdown",
      "source": [
        "15.You have two variables, x and y, containing integer values. Use the bitwise right shift operator to shift x by 3 bits and print the result."
      ],
      "metadata": {
        "id": "80sqABsA7HLB"
      }
    },
    {
      "cell_type": "code",
      "source": [
        "x=9\n",
        "y=5\n",
        "result=x>>3\n",
        "print(result)"
      ],
      "metadata": {
        "colab": {
          "base_uri": "https://localhost:8080/"
        },
        "id": "_uoxIweY7L2d",
        "outputId": "ee785498-8487-4c27-89cd-21a6e0df45b1"
      },
      "execution_count": 40,
      "outputs": [
        {
          "output_type": "stream",
          "name": "stdout",
          "text": [
            "1\n"
          ]
        }
      ]
    },
    {
      "cell_type": "markdown",
      "source": [
        "16. Given a boolean variable flag, use the logical operator to check if flag is True and print the result.\n"
      ],
      "metadata": {
        "id": "4IUXn1Vr7Wo9"
      }
    },
    {
      "cell_type": "code",
      "source": [
        "flag=True\n",
        "if flag:\n",
        "  print(\"flag is true\")\n",
        "else:\n",
        "  print(\"flag is not true\")"
      ],
      "metadata": {
        "colab": {
          "base_uri": "https://localhost:8080/"
        },
        "id": "11gMcU8S7cj2",
        "outputId": "f3aafa18-64bd-4051-a0f5-ada3d447e3ec"
      },
      "execution_count": 41,
      "outputs": [
        {
          "output_type": "stream",
          "name": "stdout",
          "text": [
            "flag is true\n"
          ]
        }
      ]
    },
    {
      "cell_type": "markdown",
      "source": [
        "17.You have a variable price containing a float value. Use the floor division operator to calculate how many whole units you can get for a given amount and print the result.\n"
      ],
      "metadata": {
        "id": "06ccc5r-8IEt"
      }
    },
    {
      "cell_type": "code",
      "source": [
        "price=234.6\n",
        "result=234.6//1\n",
        "print(result)"
      ],
      "metadata": {
        "colab": {
          "base_uri": "https://localhost:8080/"
        },
        "id": "asw0CyUy8Na4",
        "outputId": "e48048aa-ac40-4782-f1d4-32a2e63fada0"
      },
      "execution_count": 42,
      "outputs": [
        {
          "output_type": "stream",
          "name": "stdout",
          "text": [
            "234.0\n"
          ]
        }
      ]
    },
    {
      "cell_type": "markdown",
      "source": [
        "18. Given two sets, set1 and set2, use the union operator to combine these sets and print the result.\n"
      ],
      "metadata": {
        "id": "lNmHhW-0804g"
      }
    },
    {
      "cell_type": "code",
      "source": [
        "set1={\"Dav\", \"Diya\"}\n",
        "set2={\"Raj\",\"Isha\"}\n",
        "set=set1|set2\n",
        "print(set)"
      ],
      "metadata": {
        "colab": {
          "base_uri": "https://localhost:8080/"
        },
        "id": "QWrjTLkQ86pa",
        "outputId": "6812b4bb-8d9c-482b-be69-6e229cc529dd"
      },
      "execution_count": 43,
      "outputs": [
        {
          "output_type": "stream",
          "name": "stdout",
          "text": [
            "{'Isha', 'Raj', 'Dav', 'Diya'}\n"
          ]
        }
      ]
    },
    {
      "cell_type": "markdown",
      "source": [
        "19.You have a dictionary my_dict and a key key. Use the in operator to check if key is present in my_dict and print the result."
      ],
      "metadata": {
        "id": "p8s57KJH9YsU"
      }
    },
    {
      "cell_type": "code",
      "source": [
        "my_dict={\"Name\":\"jashan\",\"Age\":\"19\",\"Gender\":\"Female\"}\n",
        "key='Age'\n",
        "if key in my_dict:\n",
        "  print(f\"key: {key} is present in my_dict\")\n",
        "else:\n",
        "  print(f\"key {key} is not present in my_dict\")\n"
      ],
      "metadata": {
        "colab": {
          "base_uri": "https://localhost:8080/"
        },
        "id": "_cOadN4C9aFT",
        "outputId": "200c3ba0-56ef-4b15-862e-281283566da6"
      },
      "execution_count": 46,
      "outputs": [
        {
          "output_type": "stream",
          "name": "stdout",
          "text": [
            "key: Age is present in my_dict\n"
          ]
        }
      ]
    },
    {
      "cell_type": "markdown",
      "source": [
        "20.Given two variables a and b, use the comparison operators to check if a is less than or equal to b, and print the result."
      ],
      "metadata": {
        "id": "aMM4vZW--UTW"
      }
    },
    {
      "cell_type": "code",
      "source": [
        "a=5\n",
        "b=9\n",
        "if a<=b:\n",
        "  print(f\"a: {a} is less than b\")\n",
        "else:\n",
        "  print(f\"b: {b} is less than a\")"
      ],
      "metadata": {
        "colab": {
          "base_uri": "https://localhost:8080/"
        },
        "id": "hjl-9giS-aoc",
        "outputId": "71cf8b18-e85e-4274-c225-34fd78910226"
      },
      "execution_count": 48,
      "outputs": [
        {
          "output_type": "stream",
          "name": "stdout",
          "text": [
            "a: 5 is less than b\n"
          ]
        }
      ]
    }
  ]
}