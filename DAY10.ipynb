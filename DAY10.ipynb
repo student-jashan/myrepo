{
  "nbformat": 4,
  "nbformat_minor": 0,
  "metadata": {
    "colab": {
      "provenance": [],
      "authorship_tag": "ABX9TyO2zXxoCJLsDFvy8UQR0flE",
      "include_colab_link": true
    },
    "kernelspec": {
      "name": "python3",
      "display_name": "Python 3"
    },
    "language_info": {
      "name": "python"
    }
  },
  "cells": [
    {
      "cell_type": "markdown",
      "metadata": {
        "id": "view-in-github",
        "colab_type": "text"
      },
      "source": [
        "<a href=\"https://colab.research.google.com/github/student-jashan/myrepo/blob/main/DAY10.ipynb\" target=\"_parent\"><img src=\"https://colab.research.google.com/assets/colab-badge.svg\" alt=\"Open In Colab\"/></a>"
      ]
    },
    {
      "cell_type": "markdown",
      "source": [
        "**Topics done**\n",
        "\n",
        "\n",
        "*   Exception Handling\n",
        "*   File Handling\n",
        "\n",
        "*   Module-\n",
        "\n",
        "*   Random module\n",
        "\n",
        "\n",
        "\n",
        "\n"
      ],
      "metadata": {
        "id": "W4y5u73z18GB"
      }
    },
    {
      "cell_type": "code",
      "execution_count": null,
      "metadata": {
        "colab": {
          "base_uri": "https://localhost:8080/"
        },
        "id": "fyd0C_WLV2ao",
        "outputId": "c04dc925-8da5-4fe6-d689-81db58f142dc"
      },
      "outputs": [
        {
          "output_type": "stream",
          "name": "stdout",
          "text": [
            "Execution of check_positive function complete.\n",
            "Value is positive.\n",
            "Execution of check_positive function complete.\n",
            "Negative value error: -5\n"
          ]
        }
      ],
      "source": [
        "class NegativeValueError(Exception):\n",
        "    def __init__(self, value):\n",
        "        self.value = value\n",
        "        self.message = f\"Negative value error: {value}\"\n",
        "        super().__init__(self.message)\n",
        "\n",
        "def check_positive(value):\n",
        "    try:\n",
        "        if value < 0:\n",
        "            raise NegativeValueError(value)\n",
        "        return \"Value is positive.\"\n",
        "    except NegativeValueError as e:\n",
        "        return str(e)\n",
        "    finally:\n",
        "        print(\"Execution of check_positive function complete.\")\n",
        "\n",
        "print(check_positive(10))   # Output: Value is positive.\n",
        "print(check_positive(-5))\n"
      ]
    },
    {
      "cell_type": "markdown",
      "source": [
        "1. Write a function that simulates an ATM withdrawal. The function should check if the account balance is sufficient for the withdrawal amount and raise an exception if not. Handle scenarios where the input withdrawal amount is not a number or is negative.\n",
        "\n"
      ],
      "metadata": {
        "id": "G1_oSNzpbDgE"
      }
    },
    {
      "cell_type": "code",
      "source": [
        "class InsufficientFundsError(Exception):\n",
        "    pass\n",
        "\n",
        "def atm_withdrawal(balance, withdrawal_amount):\n",
        "    try:\n",
        "        # Check if balance is sufficient for withdrawal\n",
        "        if withdrawal_amount > balance:\n",
        "            raise InsufficientFundsError(\"Insufficient funds in your account\")\n",
        "\n",
        "        balance -= withdrawal_amount\n",
        "        return balance\n",
        "\n",
        "    except ValueError as value:\n",
        "        print(f\"Error: {value}\")\n",
        "    except InsufficientFundsError as b:\n",
        "        print(f\"Error: {b}\")\n",
        "    except Exception as exec:\n",
        "        print(f\"Error: {exec}\")\n",
        "balance=167890\n",
        "withdrawal_amount=600\n",
        "\n",
        "try:\n",
        "    new_balance = atm_withdrawal(balance, withdrawal_amount)\n",
        "    if new_balance is not None:\n",
        "        print(f\"Done! Remaining balance is {new_balance:.2f}\")\n",
        "except:\n",
        "    print(\"An error occurred during withdrawal\")\n",
        "\n"
      ],
      "metadata": {
        "colab": {
          "base_uri": "https://localhost:8080/"
        },
        "id": "wwSuW91AbGw1",
        "outputId": "880eec3e-be71-4914-c9d1-0034bbaf6fbd"
      },
      "execution_count": null,
      "outputs": [
        {
          "output_type": "stream",
          "name": "stdout",
          "text": [
            "Done! Remaining balance is 167290.00\n"
          ]
        }
      ]
    },
    {
      "cell_type": "markdown",
      "source": [
        "2. Create a function that simulates a user login system. It should raise an exception if the username or password is incorrect and handle cases where the input values are empty strings."
      ],
      "metadata": {
        "id": "eCxcq0-QeQyU"
      }
    },
    {
      "cell_type": "code",
      "source": [
        "def user_login(username, password):\n",
        "    try:\n",
        "        if username == \"\" or password == \"\":\n",
        "            raise ValueError(\"Username and password cannot be empty\")\n",
        "\n",
        "        valid_username = \"username\"\n",
        "        valid_password = \"password\"\n",
        "\n",
        "        # Check if username and password match the fixed credentials\n",
        "        if username == valid_username and password == valid_password:\n",
        "            print(\"Login successful!\")\n",
        "        else:\n",
        "            raise (\"Incorrect username or password\")\n",
        "\n",
        "    except ValueError as ve:\n",
        "        print(f\"Error: {ve}\")\n",
        "    except Exception as e:\n",
        "        print(f\"Error: {e}\")\n",
        "\n",
        "# Input username and password\n",
        "username = input(\"Enter username: \")\n",
        "password = input(\"Enter password: \")\n",
        "\n",
        "user_login(username, password)\n",
        "\n"
      ],
      "metadata": {
        "colab": {
          "base_uri": "https://localhost:8080/"
        },
        "id": "bIIGuGf_eZAR",
        "outputId": "7cb147c9-fc33-44d7-eeac-507f9cae2b36"
      },
      "execution_count": null,
      "outputs": [
        {
          "output_type": "stream",
          "name": "stdout",
          "text": [
            "Enter username: username\n",
            "Enter password: password\n",
            "Login successful!\n"
          ]
        }
      ]
    },
    {
      "cell_type": "markdown",
      "source": [
        "3. Online Shopping Cart: Write a function that adds items to an online shopping cart. Handle scenarios where the item is out of stock, the item ID is invalid, or the quantity requested is more than the available stock."
      ],
      "metadata": {
        "id": "eC-ALBC8liSz"
      }
    },
    {
      "cell_type": "code",
      "source": [
        "class CartError(Exception):\n",
        "    pass\n",
        "\n",
        "class Item:\n",
        "    def __init__(self, item_id, name, price, stock):\n",
        "        self.item_id = item_id\n",
        "        self.name = name\n",
        "        self.price = price\n",
        "        self.stock = stock\n",
        "\n",
        "def add_item(cart, inventory, item_id, quantity):\n",
        "    try:\n",
        "        # Find the item in the inventory\n",
        "        item = find_item(inventory, item_id)\n",
        "\n",
        "        # Check if item ID is valid\n",
        "        if item is None:\n",
        "            raise CartError(f\"Invalid item ID: {item_id}\")\n",
        "\n",
        "        # Check if item is in stock\n",
        "        if quantity > item.stock:\n",
        "            raise CartError(f\"Sorry, there is no enough stock  \")\n",
        "\n",
        "    except ValueError as ve:\n",
        "        print(f\"Error: {ve}\")\n",
        "    except CartError as ce:\n",
        "        print(f\"Error: {ce}\")\n",
        "    except Exception as e:\n",
        "        print(f\"Error: {e}\")\n",
        "\n",
        "def find_item(inventory, item_id):\n",
        "\n",
        "    for item in inventory:\n",
        "        if item.item_id == item_id:\n",
        "            return item\n",
        "    return None\n",
        "\n",
        "# Example usage:\n",
        "inventory = [\n",
        "    Item(item_id=1, name=\"Laptop\", price=1000.0, stock=5),\n",
        "    Item(item_id=2, name=\"Mouse\", price=20.0, stock=10),\n",
        "]\n",
        "\n",
        "cart = []\n",
        "\n",
        "# Test adding items to the cart\n",
        "add_item(cart, inventory, 1, 2)   # Adding 2 laptops (valid scenario)\n",
        "add_item(cart, inventory, 2, 15)  # Attempting to add 15 mice (more than available stock)\n",
        "add_item(cart, inventory, 4, 1)   # Attempting to add an invalid item ID\n",
        "add_item(cart, inventory, 3, -3)  # Attempting to add a negative quantity\n"
      ],
      "metadata": {
        "colab": {
          "base_uri": "https://localhost:8080/"
        },
        "id": "2RwR5xEslkiy",
        "outputId": "028d544b-3b38-4cb2-f09f-88c0207c01bd"
      },
      "execution_count": null,
      "outputs": [
        {
          "output_type": "stream",
          "name": "stdout",
          "text": [
            "Error: Sorry, there is no enough stock  \n",
            "Error: Invalid item ID: 4\n",
            "Error: Invalid item ID: 3\n"
          ]
        }
      ]
    },
    {
      "cell_type": "markdown",
      "source": [
        "4. Temperature Conversion: Implement a function that converts temperatures between Fahrenheit and Celsius. Raise an exception if the input is not a number and handle this error gracefully."
      ],
      "metadata": {
        "id": "OxjQ4NRiD0GE"
      }
    },
    {
      "cell_type": "code",
      "source": [
        "class temp(Exception):\n",
        "  pass\n",
        "\n",
        "  def __init__(self,celcius,fahrenheit):\n",
        "    self.celcius=celcius\n",
        "    self.fahrenheit=fahrenheit\n",
        "\n",
        "def  convert_temperature(temp):\n",
        "    try:\n",
        "      temp=float(temp)\n",
        "      if temp in fahrenheit:\n",
        "       celcius=5/9*(temp-2)\n",
        "       return celcius\n",
        "      elif temp in celcius:\n",
        "       fahrenheit=9/5*(temp+2)\n",
        "       return fahrenheit\n",
        "      else:\n",
        "       raise \"invalid units\"\n",
        "    except ValueError as v:\n",
        "      print(f\"Error:{v}\")\n",
        "    except Exception as ex:\n",
        "      print(f\"Error:{ex}\")\n",
        "\n",
        "      temp=45.8\n",
        "      convert_temperature(45.8)\n",
        "      print(f\"{temp}F is in {celcius}C\")\n",
        "\n"
      ],
      "metadata": {
        "id": "95oDPIUWFiKZ"
      },
      "execution_count": null,
      "outputs": []
    },
    {
      "cell_type": "markdown",
      "source": [
        "5. Student Grades: Write a function that calculates the average grade of a list of student grades. Handle scenarios where the list might be empty, the grades might not be valid numbers, or some grades might be missing"
      ],
      "metadata": {
        "id": "td8-s8MyMQYO"
      }
    },
    {
      "cell_type": "code",
      "source": [
        "def calculate_average_grade(grades):\n",
        "    try:\n",
        "        if not grades:\n",
        "            raise ValueError(\"List of grades is empty\")\n",
        "\n",
        "        valid_grades = []\n",
        "        for grade in grades:\n",
        "            if ispresent(grade, (int, float)):\n",
        "                valid_grades.append(grade)\n",
        "            else:\n",
        "                raise ValueError(f\"Invalid grade: {grade}\")\n",
        "\n",
        "        if not valid_grades:\n",
        "            raise ValueError(\"No valid grades\")\n",
        "\n",
        "        average_grade = sum(valid_grades) / len(valid_grades)\n",
        "        return average_grade\n",
        "\n",
        "    except ValueError as ve:\n",
        "        print(f\"Error: {ve}\")\n",
        "    except ZeroDivisionError:\n",
        "        print(\"Error: Division by zero occurred\")\n",
        "    except Exception as e:\n",
        "        print(f\"Error occurred: {e}\")\n",
        "\n",
        "# Example usage:\n",
        "try:\n",
        "    grades1 = [85, 90, None, 75, 'A', 95]\n",
        "    average_grade1 = calculate_average_grade(grades1)\n",
        "    print(f\"Average grade: {average_grade1}\")\n",
        "\n",
        "    grades2 = []  # Empty list\n",
        "    average_grade2 = calculate_average_grade(grades2)\n",
        "    print(f\"Average grade: {average_grade2}\")  #\n",
        "\n",
        "    grades3 = [80, 85, 90]  # List of valid grades\n",
        "    average_grade3 = calculate_average_grade(grades3)\n",
        "    print(f\"Average grade: {average_grade3}\")\n",
        "\n",
        "except Exception as e:\n",
        "    print(f\"Error: {e}\")\n",
        "\n"
      ],
      "metadata": {
        "colab": {
          "base_uri": "https://localhost:8080/"
        },
        "id": "_qTvyNaTMXd9",
        "outputId": "3c727617-458f-4d1e-d63e-94a5475a00d6"
      },
      "execution_count": null,
      "outputs": [
        {
          "output_type": "stream",
          "name": "stdout",
          "text": [
            "Error occurred: name 'ispresent' is not defined\n",
            "Average grade: None\n",
            "Error: List of grades is empty\n",
            "Average grade: None\n",
            "Error occurred: name 'ispresent' is not defined\n",
            "Average grade: None\n"
          ]
        }
      ]
    },
    {
      "cell_type": "markdown",
      "source": [
        "**File Handling**"
      ],
      "metadata": {
        "id": "TYdLsW8aQKYS"
      }
    },
    {
      "cell_type": "markdown",
      "source": [
        "\n",
        "1. Your program needs to load user settings from a file named `settings.txt`. Write a function to read the entire content of this file"
      ],
      "metadata": {
        "id": "mmYvgNyHQSmL"
      }
    },
    {
      "cell_type": "code",
      "source": [
        "with open('/content/sample_data/setting.txt','r') as file:\n",
        "  data=\"Hey! This is a python file having some code realted to exception and file handling\"\n",
        "  data=file.read()"
      ],
      "metadata": {
        "id": "XuwNv-38QXX9"
      },
      "execution_count": null,
      "outputs": []
    },
    {
      "cell_type": "markdown",
      "source": [
        "2. Your application generates a report. Write a function to save the string \"Monthly Report: June\" to a file named `report.txt`.\n"
      ],
      "metadata": {
        "id": "zkzldkENR4pr"
      }
    },
    {
      "cell_type": "code",
      "source": [
        "def write_file(file_path, content):\n",
        "    try:\n",
        "        with open(file_path, 'w') as file:\n",
        "            file.write(content)\n",
        "            return \"Monthly Report:June\"\n",
        "    except ValueError as e:\n",
        "        return f\"ValueError: {e}\"\n",
        "\n",
        "# Usage\n",
        "result = write_file(\"/content/sample_data/report.txt\",\"Monthly Report:June\")\n",
        "print(result)"
      ],
      "metadata": {
        "id": "IfsdG_ZsQ2_f",
        "colab": {
          "base_uri": "https://localhost:8080/"
        },
        "outputId": "5c4b5dd1-08cc-4326-a7ba-1c4900a373cf"
      },
      "execution_count": null,
      "outputs": [
        {
          "output_type": "stream",
          "name": "stdout",
          "text": [
            "Monthly Report:June\n"
          ]
        }
      ]
    },
    {
      "cell_type": "markdown",
      "source": [
        "3. A web server needs to log user access times. Write a script to append the string \"User accessed at 2023-06-15 10:00 AM\" to a file named access.log."
      ],
      "metadata": {
        "id": "7OQgNm7DKRzJ"
      }
    },
    {
      "cell_type": "code",
      "source": [
        "def append_file(file_path, content):\n",
        "    try:\n",
        "        with open(file_path, 'a') as file:\n",
        "            file.write(content)\n",
        "            return \"hi\"\n",
        "    except IOError as e:\n",
        "        return f\"IOError: {e}\"\n",
        "\n",
        "# Usage\n",
        "result = append_file(\"/content/sample_data/access.log\", \"User accessed at 2023-06-15 10:00 AM\")\n",
        "print(result)"
      ],
      "metadata": {
        "id": "hsD4MV6mRo8n",
        "colab": {
          "base_uri": "https://localhost:8080/"
        },
        "outputId": "b99cb0cb-dc83-466d-b906-566d8d8c95f8"
      },
      "execution_count": null,
      "outputs": [
        {
          "output_type": "stream",
          "name": "stdout",
          "text": [
            "hi\n"
          ]
        }
      ]
    },
    {
      "cell_type": "markdown",
      "source": [
        "4.Your program needs to read configuration settings from a file named access.log line by line. Implement a function to read and print each line."
      ],
      "metadata": {
        "id": "hrYzMjX-LvDF"
      }
    },
    {
      "cell_type": "code",
      "source": [
        "def read_file_by_line(file_path):\n",
        "    try:\n",
        "        with open(file_path, 'r') as file:\n",
        "            for line in file:\n",
        "                print(line.strip())\n",
        "    except FileNotFoundError as e:\n",
        "        print(f\"FileNotFoundError: {e}\")\n",
        "    except IOError as e:\n",
        "        print(f\"IOError: {e}\")\n",
        "\n",
        "# Usage\n",
        "read_file_by_line(\"/content/sample_data/access.log\")"
      ],
      "metadata": {
        "colab": {
          "base_uri": "https://localhost:8080/"
        },
        "id": "E9A_x5_HLwvh",
        "outputId": "5c0b75b3-8e13-42e5-b403-48fa6868fd4c"
      },
      "execution_count": null,
      "outputs": [
        {
          "output_type": "stream",
          "name": "stdout",
          "text": [
            "User accessed at 2023-06-15 10:00 AMUser accessed at 2023-06-15 10:00 AMUser accessed at 2023-06-15 10:00 AMUser accessed at 2023-06-15 10:00 AMUser accessed at 2023-06-15 10:00 AM\n"
          ]
        }
      ]
    }
  ]
}