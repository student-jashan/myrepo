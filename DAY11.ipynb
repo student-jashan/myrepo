{
  "nbformat": 4,
  "nbformat_minor": 0,
  "metadata": {
    "colab": {
      "provenance": [],
      "authorship_tag": "ABX9TyMPTQG0TSSm2vfn/GQrHtTa",
      "include_colab_link": true
    },
    "kernelspec": {
      "name": "python3",
      "display_name": "Python 3"
    },
    "language_info": {
      "name": "python"
    }
  },
  "cells": [
    {
      "cell_type": "markdown",
      "metadata": {
        "id": "view-in-github",
        "colab_type": "text"
      },
      "source": [
        "<a href=\"https://colab.research.google.com/github/student-jashan/myrepo/blob/main/DAY11.ipynb\" target=\"_parent\"><img src=\"https://colab.research.google.com/assets/colab-badge.svg\" alt=\"Open In Colab\"/></a>"
      ]
    },
    {
      "cell_type": "markdown",
      "source": [
        "**Topics **\n",
        "\n",
        "Modules-\n",
        "1.Random\n",
        "2.DateTime\n",
        "3.Math"
      ],
      "metadata": {
        "id": "znrTsIRlhd5A"
      }
    },
    {
      "cell_type": "markdown",
      "source": [
        "**RANDOM MODULE**\n",
        "\n",
        "1.Create a function that generates a random password of a specified length. The password should include uppercase letters, lowercase letters, digits, and special characters."
      ],
      "metadata": {
        "id": "EkNTfXCXh5BO"
      }
    },
    {
      "cell_type": "code",
      "source": [
        "import random\n",
        "import string\n",
        "\n",
        "def generate_password(length):\n",
        "    characters = string.ascii_letters + string.digits + string.punctuation\n",
        "    password = ''.join(random.choice(characters) for _ in range(length))\n",
        "    return password\n",
        "\n",
        "    password=generate_password(12)\n",
        "    print(\"Your password is:\",password)\n"
      ],
      "metadata": {
        "id": "vK_qv3j0h98C"
      },
      "execution_count": null,
      "outputs": []
    },
    {
      "cell_type": "markdown",
      "source": [
        "2.Write a function that simulates rolling a pair of six-sided dice 100 times. Count how many times the sum of the two dice is equal to 7."
      ],
      "metadata": {
        "id": "iOo-ghAVZotQ"
      }
    },
    {
      "cell_type": "code",
      "source": [
        "import random\n",
        "\n",
        "def count_dice_sum_seven(num_rolls=100):\n",
        "    count_seven = 0\n",
        "\n",
        "    for _ in range(num_rolls):\n",
        "        # Roll two six-sided dice\n",
        "        dice1 = random.randint(1, 6)\n",
        "        dice2 = random.randint(1, 6)\n",
        "\n",
        "        # Check if the sum is 7\n",
        "        if dice1 + dice2 == 7:\n",
        "            count_seven += 1\n",
        "\n",
        "    return count_seven\n",
        "\n",
        "# Simulate rolling dice 100 times and count how many times the sum is 7\n",
        "num_sevens = count_dice_sum_seven()\n",
        "\n",
        "print(f\"Number of times the sum is 7: {num_sevens}\")\n"
      ],
      "metadata": {
        "colab": {
          "base_uri": "https://localhost:8080/"
        },
        "id": "mFq5A0AlYZPs",
        "outputId": "f81adb0c-833a-42aa-9361-561d40ed0400"
      },
      "execution_count": null,
      "outputs": [
        {
          "output_type": "stream",
          "name": "stdout",
          "text": [
            "Number of times the sum is 7: 16\n"
          ]
        }
      ]
    },
    {
      "cell_type": "markdown",
      "source": [
        "3.Create a program that picks 6 unique random numbers from 1 to 49, simulating a lottery draw"
      ],
      "metadata": {
        "id": "If60LzBiap5o"
      }
    },
    {
      "cell_type": "code",
      "source": [
        "import random\n",
        "\n",
        "def lottery_draw():\n",
        "    lottery_numbers = []\n",
        "    while len(lottery_numbers) < 6:\n",
        "        number = random.randint(1, 49)\n",
        "        if number not in lottery_numbers:\n",
        "            lottery_numbers.append(number)\n",
        "\n",
        "    return lottery_numbers\n",
        "winning_numbers = lottery_draw()\n",
        "\n",
        "print(\"Winning numbers:\", winning_numbers)\n"
      ],
      "metadata": {
        "colab": {
          "base_uri": "https://localhost:8080/"
        },
        "id": "ENnd9Eosa0Ma",
        "outputId": "1bce5b7e-091c-456e-d4af-c463f72e19aa"
      },
      "execution_count": null,
      "outputs": [
        {
          "output_type": "stream",
          "name": "stdout",
          "text": [
            "Winning numbers: [13, 5, 30, 3, 29, 1]\n"
          ]
        }
      ]
    },
    {
      "cell_type": "markdown",
      "source": [
        "4.Write a program that randomly selects and displays a quote from a predefined list of quotes each time it is run."
      ],
      "metadata": {
        "id": "G-jZrP5VcF3n"
      }
    },
    {
      "cell_type": "code",
      "source": [
        "import random\n",
        "def rndom_quotes():\n",
        "  quotes=[\"Empower the Youths\",\n",
        "          \"Do Things Today,not tommorow\",\n",
        "          \"Stay hungry, stay foolish. - Steve Jobs\",\n",
        "        \"Your time is limited, so don't waste it living someone else's life. - Steve Jobs\",\n",
        "        \"Life is what happens when you're busy making other plans. - John Lennon\",\n",
        "        \"Strive not to be a success, but rather to be of value. - Albert Einstein\",\n",
        "        \"Two things are infinite: the universe and human stupidity; and I'm not sure about the universe. - Albert Einstein\",\n",
        "        \"The only source of knowledge is experience. - Albert Einstein\",\n",
        "        \"Imagination is more important than knowledge. - Albert Einstein\"\"Once you have decide to do no one can ruine it\"]\n",
        "  choose=random.choice(quotes)\n",
        "  rndom_quotes()\n",
        "  print(\"Random choice\")\n",
        "  print(choose)"
      ],
      "metadata": {
        "id": "kKGbi7N9bJxS"
      },
      "execution_count": null,
      "outputs": []
    },
    {
      "cell_type": "markdown",
      "source": [
        "**DATETIME Module**\n",
        "1. Write a program that converts the current local time to UTC (Coordinated Universal Time). Display both the local time and the converted UTC time."
      ],
      "metadata": {
        "id": "8hvdmk7ueOOH"
      }
    },
    {
      "cell_type": "code",
      "source": [
        "import datetime\n",
        "import pytz\n",
        "\n",
        "def convert_to_utc():\n",
        "    local_time = datetime.datetime.now()\n",
        "    local_timezone = pytz.timezone('UTC')\n",
        "    local_time = local_timezone.localize(local_time)\n",
        "    utc_time = local_time.astimezone(pytz.utc)\n",
        "\n",
        "    local_time_str = local_time.strftime('%Y-%m-%d %H:%M:%S %Z%z')\n",
        "    utc_time_str = utc_time.strftime('%Y-%m-%d %H:%M:%S UTC')\n",
        "\n",
        "\n",
        "    print(f\"Local Time: {local_time_str}\")\n",
        "    print(f\"UTC Time: {utc_time_str}\")\n",
        "\n",
        "convert_to_utc()\n"
      ],
      "metadata": {
        "colab": {
          "base_uri": "https://localhost:8080/"
        },
        "id": "l2W4qtqodX9S",
        "outputId": "59b946c0-9ed4-4fb9-aea8-20cc7db564d8"
      },
      "execution_count": null,
      "outputs": [
        {
          "output_type": "stream",
          "name": "stdout",
          "text": [
            "Local Time: 2024-06-20 11:48:34 UTC+0000\n",
            "UTC Time: 2024-06-20 11:48:34 UTC\n"
          ]
        }
      ]
    },
    {
      "cell_type": "markdown",
      "source": [
        "2.Write a script that asks the user to input a date (in YYYY-MM-DD format) and prints the day of the week for that date."
      ],
      "metadata": {
        "id": "57BEYG6eercZ"
      }
    },
    {
      "cell_type": "code",
      "source": [
        "import datetime\n",
        "\n",
        "def get_day_of_week():\n",
        "\n",
        "    value = input(\"Enter a date (YYYY-MM-DD): \")\n",
        "\n",
        "    try:\n",
        "\n",
        "        date_obj = datetime.datetime.strptime(value, '%Y-%m-%d')\n",
        "\n",
        "        day_of_week = date_obj.strftime('%A')\n",
        "\n",
        "        # Print the day of the week\n",
        "        print(f\"The day of the week for {value} is: {day_of_week}\")\n",
        "\n",
        "    except ValueError:\n",
        "        print(\"Invalid date format\")\n",
        "\n",
        "get_day_of_week()\n"
      ],
      "metadata": {
        "colab": {
          "base_uri": "https://localhost:8080/"
        },
        "id": "jde79QEhewfQ",
        "outputId": "3a8db144-87d9-4aa0-c50a-2692fa5e6fa2"
      },
      "execution_count": null,
      "outputs": [
        {
          "output_type": "stream",
          "name": "stdout",
          "text": [
            "Enter a date (YYYY-MM-DD): 2004-11-30\n",
            "The day of the week for 2004-11-30 is: Tuesday\n"
          ]
        }
      ]
    },
    {
      "cell_type": "markdown",
      "source": [
        "3. Create a program that asks the user for their date of birth in YYYY-MM-DD format and calculates their current age in years, months, and days."
      ],
      "metadata": {
        "id": "nlFLiwIFgHJr"
      }
    },
    {
      "cell_type": "code",
      "source": [
        "import datetime\n",
        "\n",
        "def calculate_age():\n",
        "    # Prompt user to input their date of birth\n",
        "    dob_str = input(\"Enter your date of birth (YYYY-MM-DD): \")\n",
        "\n",
        "    try:\n",
        "        # Parse the input date string into a datetime object\n",
        "        dob = datetime.datetime.strptime(dob_str, '%Y-%m-%d').date()\n",
        "\n",
        "        # Get the current date\n",
        "        current_date = datetime.date.today()\n",
        "\n",
        "        # Calculate the difference between current date and date of birth\n",
        "        age = current_date - dob\n",
        "\n",
        "        # Calculate years, months, and days from the age difference\n",
        "        years = age.days // 365\n",
        "        months = (age.days % 365) // 30\n",
        "        days = (age.days % 365) % 30\n",
        "\n",
        "        # Print the age in years, months, and days\n",
        "        print(f\"Your age is: {years} years, {months} months, and {days} days.\")\n",
        "\n",
        "    except ValueError:\n",
        "        print(\"Invalid date format. Please enter date in YYYY-MM-DD format.\")\n",
        "\n",
        "# Call the function to calculate age based on date of birth\n",
        "calculate_age()\n"
      ],
      "metadata": {
        "colab": {
          "base_uri": "https://localhost:8080/"
        },
        "id": "_3CnqnLsfB_j",
        "outputId": "c15def7a-1c5b-4ffd-809f-93721e9391f5"
      },
      "execution_count": null,
      "outputs": [
        {
          "output_type": "stream",
          "name": "stdout",
          "text": [
            "Enter your date of birth (YYYY-MM-DD): 2004-11-30\n",
            "Your age is: 19 years, 6 months, and 27 days.\n"
          ]
        }
      ]
    },
    {
      "cell_type": "markdown",
      "source": [
        "**MATH MODULES**\n"
      ],
      "metadata": {
        "id": "oe-SkBcFhzXB"
      }
    },
    {
      "cell_type": "markdown",
      "source": [
        "1. Write a program that asks the user to input the radius of a circle. Calculate and print the area and circumference of the circle using the value of π from the math module"
      ],
      "metadata": {
        "id": "szdZc6Snh5lu"
      }
    },
    {
      "cell_type": "code",
      "source": [
        "import math\n",
        "\n",
        "def calculate():\n",
        "    radius = float(input(\"Enter the radius of the circle: \"))\n",
        "\n",
        "    # Calculate area and circumference\n",
        "    area = math.pi * radius**2\n",
        "    circumference = 2 * math.pi * radius\n",
        "\n",
        "    print(f\"Radius of the circle: {radius}\")\n",
        "    print(f\"Area of the circle: {area:.2f}\")\n",
        "    print(f\"Circumference of the circle: {circumference:.2f}\")\n",
        "\n",
        "calculate()\n"
      ],
      "metadata": {
        "colab": {
          "base_uri": "https://localhost:8080/"
        },
        "id": "-w8iUDJIgh8C",
        "outputId": "316699a3-1876-43de-a2e0-8d365658e596"
      },
      "execution_count": null,
      "outputs": [
        {
          "output_type": "stream",
          "name": "stdout",
          "text": [
            "Enter the radius of the circle: 4\n",
            "Radius of the circle: 4.0\n",
            "Area of the circle: 50.27\n",
            "Circumference of the circle: 25.13\n"
          ]
        }
      ]
    },
    {
      "cell_type": "markdown",
      "source": [
        "2. Create a program that accepts the lengths of the two shorter sides of a right triangle. Calculate and print the length of the hypotenuse using the Pythagorean theorem."
      ],
      "metadata": {
        "id": "mJf0wgmxiOt6"
      }
    },
    {
      "cell_type": "code",
      "source": [
        "import math\n",
        "\n",
        "def calculate_hypotenuse():\n",
        "\n",
        "    side1 = float(input(\"Enter the length of the first shorter side: \"))\n",
        "    side2 = float(input(\"Enter the length of the second shorter side: \"))\n",
        "\n",
        "    hypotenuse = math.sqrt(side1**2 + side2**2)\n",
        "\n",
        "    # Print the calculated length of the hypotenuse\n",
        "    print(f\"The length of the hypotenuse is: {hypotenuse:.2f}\")\n",
        "\n",
        "calculate_hypotenuse()"
      ],
      "metadata": {
        "colab": {
          "base_uri": "https://localhost:8080/"
        },
        "id": "eCpdvxJZiSU1",
        "outputId": "604fa21d-98bf-4477-d6c8-62189e53aa38"
      },
      "execution_count": null,
      "outputs": [
        {
          "output_type": "stream",
          "name": "stdout",
          "text": [
            "Enter the length of the first shorter side: 5\n",
            "Enter the length of the second shorter side: 7\n",
            "The length of the hypotenuse is: 8.60\n"
          ]
        }
      ]
    },
    {
      "cell_type": "markdown",
      "source": [
        "3. Create a program that asks the user to input a number and a base. Calculate and print the logarithm of the number to the given base using the math module."
      ],
      "metadata": {
        "id": "P2kSvV9uiy8X"
      }
    },
    {
      "cell_type": "code",
      "source": [
        "import math\n",
        "\n",
        "def calculate_logarithm():\n",
        "    number = float(input(\"Enter the number: \"))\n",
        "    base = float(input(\"Enter the base: \"))\n",
        "\n",
        "    logarithm = math.log(number, base)\n",
        "\n",
        "    print(f\"The logarithm of {number} to the base {base} is: {logarithm:.4f}\")\n",
        "\n",
        "calculate_logarithm()\n"
      ],
      "metadata": {
        "colab": {
          "base_uri": "https://localhost:8080/"
        },
        "id": "e9tPVoC1i_m_",
        "outputId": "d905794e-98d5-46f7-e5a1-9ff9736965da"
      },
      "execution_count": null,
      "outputs": [
        {
          "output_type": "stream",
          "name": "stdout",
          "text": [
            "Enter the number: 1\n",
            "Enter the base: 10\n",
            "The logarithm of 1.0 to the base 10.0 is: 0.0000\n"
          ]
        }
      ]
    }
  ]
}