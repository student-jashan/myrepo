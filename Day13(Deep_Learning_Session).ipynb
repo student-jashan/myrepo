{
  "nbformat": 4,
  "nbformat_minor": 0,
  "metadata": {
    "colab": {
      "provenance": [],
      "authorship_tag": "ABX9TyM4CCwAIG60X/RHUyy4X/FX",
      "include_colab_link": true
    },
    "kernelspec": {
      "name": "python3",
      "display_name": "Python 3"
    },
    "language_info": {
      "name": "python"
    }
  },
  "cells": [
    {
      "cell_type": "markdown",
      "metadata": {
        "id": "view-in-github",
        "colab_type": "text"
      },
      "source": [
        "<a href=\"https://colab.research.google.com/github/student-jashan/myrepo/blob/main/Day13(Deep_Learning_Session).ipynb\" target=\"_parent\"><img src=\"https://colab.research.google.com/assets/colab-badge.svg\" alt=\"Open In Colab\"/></a>"
      ]
    },
    {
      "cell_type": "markdown",
      "source": [
        "\n",
        "\n",
        "*   INTRODUCTION ABOUT ARTIFICAL INTELLIGENCE, MACHINE LEARNING,DEEP LEARNING\n",
        "\n",
        "\n",
        "*   ARTIFICAL NEURAL NETWORK->\n",
        "\n",
        "1.   NEURAL WORKING\n",
        "2.   PERCEPTRON IN DEEP LEARNING\n",
        "3.   ACTIVATION  FUNCTION and its TYPES\n",
        "4.   NON LINEAR FUNCTION->\n",
        "\n",
        "*   Threshold function\n",
        "*   Segmoid function\n",
        "*   Rectifier function\n",
        "*   Hyperbolic tanget function\n",
        "*   Softmax function\n",
        "\n",
        "\n",
        "\n",
        "\n",
        "\n",
        "\n",
        "\n",
        "\n",
        "\n",
        "\n",
        "\n"
      ],
      "metadata": {
        "id": "xCWbmsLalYwK"
      }
    }
  ]
}