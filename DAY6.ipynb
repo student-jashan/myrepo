{
  "nbformat": 4,
  "nbformat_minor": 0,
  "metadata": {
    "colab": {
      "provenance": [],
      "authorship_tag": "ABX9TyMCF6nd5Xr+v74yOpYIPoDm",
      "include_colab_link": true
    },
    "kernelspec": {
      "name": "python3",
      "display_name": "Python 3"
    },
    "language_info": {
      "name": "python"
    }
  },
  "cells": [
    {
      "cell_type": "markdown",
      "metadata": {
        "id": "view-in-github",
        "colab_type": "text"
      },
      "source": [
        "<a href=\"https://colab.research.google.com/github/student-jashan/myrepo/blob/main/DAY6.ipynb\" target=\"_parent\"><img src=\"https://colab.research.google.com/assets/colab-badge.svg\" alt=\"Open In Colab\"/></a>"
      ]
    },
    {
      "cell_type": "markdown",
      "source": [
        "**12 June 2024**\n",
        "\n",
        "**TOPICS COVERED-> Python Functions, lambda function, recursive functions all categories of Function arguements, list comprehension & dictionary comprehension**"
      ],
      "metadata": {
        "id": "iXG4uMmqR6oT"
      }
    },
    {
      "cell_type": "markdown",
      "source": [
        "1.Write a Python function that takes a string as input and returns the reverse of the string."
      ],
      "metadata": {
        "id": "f-OG45MovB65"
      }
    },
    {
      "cell_type": "code",
      "execution_count": null,
      "metadata": {
        "id": "BKAxSFuVhzct",
        "colab": {
          "base_uri": "https://localhost:8080/"
        },
        "outputId": "cfe1d66f-90fc-4066-a45d-1e91320b72bd"
      },
      "outputs": [
        {
          "output_type": "stream",
          "name": "stdout",
          "text": [
            "<function reverse_string at 0x79e1eaaa9cf0>\n"
          ]
        }
      ],
      "source": [
        "def reverse_string(input_string):\n",
        "  return input_string[::-1]\n",
        "reverse_string(\"jashan\")\n",
        "print(reverse_string)\n"
      ]
    },
    {
      "cell_type": "markdown",
      "source": [
        "2.Create a list of numbers. Write a function that finds and returns the maximum value in the list without using the built-in max() function."
      ],
      "metadata": {
        "id": "HVs7GFsQwbmd"
      }
    },
    {
      "cell_type": "code",
      "source": [
        "number=[43,95,67,99]\n",
        "def find(number):\n",
        "  max_num=number[0]\n",
        "  for i in number[1:]:\n",
        "    if i>max_num:\n",
        "      max_num=i\n",
        "  return max_num\n",
        "print(find(number))\n",
        "\n",
        "\n"
      ],
      "metadata": {
        "id": "KDX4f5aPwdue",
        "colab": {
          "base_uri": "https://localhost:8080/"
        },
        "outputId": "3fc5d70d-6659-4848-a1b4-38244d52be70"
      },
      "execution_count": null,
      "outputs": [
        {
          "output_type": "stream",
          "name": "stdout",
          "text": [
            "99\n"
          ]
        }
      ]
    },
    {
      "cell_type": "markdown",
      "source": [
        "3.Define a function that accepts a list of integers and returns a new list containing only the even numbers from the original list"
      ],
      "metadata": {
        "id": "SkylUHB5yqk0"
      }
    },
    {
      "cell_type": "code",
      "source": [
        "num=[2,3,14,35,66]\n",
        "def list(val):\n",
        "  mylist1 = [ i for i in num if i % 2 == 0]\n",
        "  print(mylist1)\n",
        "list(num)\n"
      ],
      "metadata": {
        "id": "ClZ1HJgRyxf5",
        "colab": {
          "base_uri": "https://localhost:8080/"
        },
        "outputId": "5f80cf0c-7ee5-4576-b822-f9a21d21aae5"
      },
      "execution_count": null,
      "outputs": [
        {
          "output_type": "stream",
          "name": "stdout",
          "text": [
            "[2, 14, 66]\n"
          ]
        }
      ]
    },
    {
      "cell_type": "markdown",
      "source": [
        "4.Implement a function that takes a list of strings and returns a new list with the strings sorted by their lengths in ascending order."
      ],
      "metadata": {
        "id": "q6_CMJ_5Sq0p"
      }
    },
    {
      "cell_type": "code",
      "source": [
        "str=[\"Divya\", \"Avi\",\"Manav\",\"Kriti\"]\n",
        "def value(str):\n",
        "  return sorted(str)\n",
        "print(value(str))\n"
      ],
      "metadata": {
        "colab": {
          "base_uri": "https://localhost:8080/"
        },
        "id": "0182UdSLSxB5",
        "outputId": "63bc72f8-6ba7-4609-8238-dd395ac6bb2f"
      },
      "execution_count": null,
      "outputs": [
        {
          "output_type": "stream",
          "name": "stdout",
          "text": [
            "['Avi', 'Divya', 'Kriti', 'Manav']\n"
          ]
        }
      ]
    },
    {
      "cell_type": "markdown",
      "source": [
        "5.Create a dictionary with student names as keys and their corresponding ages as values. Write a function to find and print the names of students who are above a certain age."
      ],
      "metadata": {
        "id": "XvIOieFYDdKr"
      }
    },
    {
      "cell_type": "code",
      "source": [
        "\n",
        "def student_detail(**g):\n",
        "    for key, value in g.items():\n",
        "      if(value>15):\n",
        "        print(f\"{key}: {value}\")\n",
        "\n",
        "student_detail(divya=12, riya=19, punam=14)"
      ],
      "metadata": {
        "colab": {
          "base_uri": "https://localhost:8080/"
        },
        "id": "ZVM-J2bRzVav",
        "outputId": "96631e64-ac33-4fe4-ba41-0c3dd460d854"
      },
      "execution_count": null,
      "outputs": [
        {
          "output_type": "stream",
          "name": "stdout",
          "text": [
            "riya: 19\n"
          ]
        }
      ]
    },
    {
      "cell_type": "markdown",
      "source": [
        "6.Develop a Python function that calculates the sum of squares for a given range of numbers."
      ],
      "metadata": {
        "id": "umpWQC67DbWC"
      }
    },
    {
      "cell_type": "code",
      "source": [
        "def sum_of_square(start,end):\n",
        "  total=0\n",
        "  for i in range(start,end+1):\n",
        "    total+=i*i\n",
        "  return total\n",
        "start=1\n",
        "end=5\n",
        "print(sum_of_square(start,end))\n"
      ],
      "metadata": {
        "colab": {
          "base_uri": "https://localhost:8080/"
        },
        "id": "4OOwqshWE7Md",
        "outputId": "ce88eb40-0fba-489e-a0cc-197eeb21fd6a"
      },
      "execution_count": null,
      "outputs": [
        {
          "output_type": "stream",
          "name": "stdout",
          "text": [
            "55\n"
          ]
        }
      ]
    },
    {
      "cell_type": "markdown",
      "source": [
        "7.Use a lambda function to filter a list of integers and return a new list containing only the numbers greater than 10."
      ],
      "metadata": {
        "id": "mrPwt_LSSYTo"
      }
    },
    {
      "cell_type": "code",
      "source": [
        "number=[12,3,44,5,36]\n",
        "filter_numbers=(filter(lambda x: x>10, number))\n",
        "print(filter_numbers)"
      ],
      "metadata": {
        "colab": {
          "base_uri": "https://localhost:8080/"
        },
        "id": "k9lVAeDrS1nO",
        "outputId": "71c5ce75-bad3-4cc9-c882-02202c94e8d6"
      },
      "execution_count": null,
      "outputs": [
        {
          "output_type": "stream",
          "name": "stdout",
          "text": [
            "<filter object at 0x79e1eaa5ada0>\n"
          ]
        }
      ]
    },
    {
      "cell_type": "markdown",
      "source": [
        "8.Write a recursive function that calculates the Fibonacci sequence for a given term."
      ],
      "metadata": {
        "id": "eITiTqDFGaSR"
      }
    },
    {
      "cell_type": "code",
      "source": [
        "def fibo(n):\n",
        "  if n<=1:\n",
        "    return n\n",
        "  else:\n",
        "    return fibo(n-1) + fibo(n-2)\n",
        "value=6\n",
        "print(fibo(value))"
      ],
      "metadata": {
        "colab": {
          "base_uri": "https://localhost:8080/"
        },
        "id": "MkuMC7DPGga5",
        "outputId": "d53ddea8-c744-4f4b-ce63-a4a4669ca7cc"
      },
      "execution_count": null,
      "outputs": [
        {
          "output_type": "stream",
          "name": "stdout",
          "text": [
            "8\n"
          ]
        }
      ]
    },
    {
      "cell_type": "markdown",
      "source": [
        "9.You have a list of names. Use list comprehension to create a new list that contains only the names that start with the letter \"A\""
      ],
      "metadata": {
        "id": "YIwoNuBxHLPB"
      }
    },
    {
      "cell_type": "code",
      "source": [
        "names=[\"Divya\",\"Vishu\",\"Aradhiaya\",\"Deep\",\"Manav\",\"Avi\"]\n",
        "value=[name for name in names if name.startswith('A')]\n",
        "print(value)\n"
      ],
      "metadata": {
        "colab": {
          "base_uri": "https://localhost:8080/"
        },
        "id": "kXzj3xbGHaed",
        "outputId": "d6d40a9c-0e85-4ea0-c0cf-e8925301061b"
      },
      "execution_count": null,
      "outputs": [
        {
          "output_type": "stream",
          "name": "stdout",
          "text": [
            "['Aradhiaya', 'Avi']\n"
          ]
        }
      ]
    },
    {
      "cell_type": "markdown",
      "source": [
        "10.Given a list of temperatures in Fahrenheit, use list comprehension to convert each temperature to Celsius and create a new list with these values"
      ],
      "metadata": {
        "id": "iweJuRgTJsGP"
      }
    },
    {
      "cell_type": "code",
      "source": [
        "fahr_temperature=[32,45,67,89,100,211]\n",
        "celsius_temp=[(temp-32)*5/9 for temp in fahr_temperature]\n",
        "print(celsius_temp)"
      ],
      "metadata": {
        "colab": {
          "base_uri": "https://localhost:8080/"
        },
        "id": "xGtfFvTLJ4F3",
        "outputId": "d6b5a270-5fe8-494f-8b63-c6439d43566a"
      },
      "execution_count": null,
      "outputs": [
        {
          "output_type": "stream",
          "name": "stdout",
          "text": [
            "[0.0, 7.222222222222222, 19.444444444444443, 31.666666666666668, 37.77777777777778, 99.44444444444444]\n"
          ]
        }
      ]
    },
    {
      "cell_type": "markdown",
      "source": [
        "11.You are processing a list of numbers. Use list comprehension to create a new list that contains the squares of all the numbers in the original list."
      ],
      "metadata": {
        "id": "ltdBVzTkMd2S"
      }
    },
    {
      "cell_type": "code",
      "source": [
        "numbers=[1,2,3,4,5,6]\n",
        "value=[i**i for i in numbers]\n",
        "print(value)"
      ],
      "metadata": {
        "colab": {
          "base_uri": "https://localhost:8080/"
        },
        "id": "6IW_U6WOMpwJ",
        "outputId": "f2b1c5c9-3bd4-4b2a-cde9-1f29b24d6cda"
      },
      "execution_count": null,
      "outputs": [
        {
          "output_type": "stream",
          "name": "stdout",
          "text": [
            "[1, 4, 27, 256, 3125, 46656]\n"
          ]
        }
      ]
    },
    {
      "cell_type": "markdown",
      "source": [
        "12.You have a list of words. Use list comprehension to create a new list that contains only the words that have more than 5 characters."
      ],
      "metadata": {
        "id": "kzOPnfjpOLdm"
      }
    },
    {
      "cell_type": "code",
      "source": [
        "list=[\"Divya\", \"Manav\",\"Riya\",\"Komalpreet\",\"Jashandeep\",\"Harmandeep\"]\n",
        "val=[i for i in list if len(i)>5]\n",
        "print(val)"
      ],
      "metadata": {
        "colab": {
          "base_uri": "https://localhost:8080/"
        },
        "id": "VU_JgS4kOTrN",
        "outputId": "0c504cf9-687c-4b3c-fc24-be33ef1b93ff"
      },
      "execution_count": null,
      "outputs": [
        {
          "output_type": "stream",
          "name": "stdout",
          "text": [
            "['Komalpreet', 'Jashandeep', 'Harmandeep']\n"
          ]
        }
      ]
    },
    {
      "cell_type": "markdown",
      "source": [
        "13.Given a list of employees and their salaries, use dictionary comprehension to create a dictionary where the keys are the employee names and the values are their salaries increased by 10%."
      ],
      "metadata": {
        "id": "VdBMtfU8P7nE"
      }
    },
    {
      "cell_type": "code",
      "source": [
        "dict=[(\"Divya\",50000), (\"Manav\",56000),(\"Riya\",57000)]\n",
        "update={name : salary * 1.10 for (name , salary) in dict}\n",
        "print(update)\n"
      ],
      "metadata": {
        "colab": {
          "base_uri": "https://localhost:8080/"
        },
        "id": "i8zk86-FP80C",
        "outputId": "30de027f-d1a7-477e-bfa4-80feb5fcf598"
      },
      "execution_count": null,
      "outputs": [
        {
          "output_type": "stream",
          "name": "stdout",
          "text": [
            "{'Divya': 55000.00000000001, 'Manav': 61600.00000000001, 'Riya': 62700.00000000001}\n"
          ]
        }
      ]
    }
  ]
}