{
  "cells": [
    {
      "cell_type": "markdown",
      "metadata": {
        "id": "view-in-github",
        "colab_type": "text"
      },
      "source": [
        "<a href=\"https://colab.research.google.com/github/student-jashan/myrepo/blob/main/Day4(strings).ipynb\" target=\"_parent\"><img src=\"https://colab.research.google.com/assets/colab-badge.svg\" alt=\"Open In Colab\"/></a>"
      ]
    },
    {
      "cell_type": "markdown",
      "source": [
        "1. To create a string and print it also print its type"
      ],
      "metadata": {
        "id": "LMSwruBcF8uP"
      }
    },
    {
      "cell_type": "code",
      "execution_count": null,
      "metadata": {
        "colab": {
          "base_uri": "https://localhost:8080/"
        },
        "id": "BmDtkhz9QV0b",
        "outputId": "35d5839d-55e4-4721-b91c-8ef7483f4a15"
      },
      "outputs": [
        {
          "name": "stdout",
          "output_type": "stream",
          "text": [
            "Shubam\n",
            "<class 'str'>\n"
          ]
        }
      ],
      "source": [
        "Name=\"Shubam\"\n",
        "print(Name)\n",
        "print(type(Name))"
      ]
    },
    {
      "cell_type": "markdown",
      "source": [
        "2. By using string method convert the given string in upper and lower case"
      ],
      "metadata": {
        "id": "i4WXNLDfGF7-"
      }
    },
    {
      "cell_type": "code",
      "execution_count": null,
      "metadata": {
        "colab": {
          "base_uri": "https://localhost:8080/"
        },
        "id": "9-LsEUrpRRhX",
        "outputId": "61f2128d-1a50-4355-cfa3-d7bf479b9880"
      },
      "outputs": [
        {
          "name": "stdout",
          "output_type": "stream",
          "text": [
            "DIKSHA\n",
            "diksha\n"
          ]
        }
      ],
      "source": [
        "#methods of string\n",
        "Name=\"diksha\"\n",
        "new=Name.upper()\n",
        "print(new)\n",
        "#str.upper()\n",
        "Name=\"DIKSHA\"\n",
        "new=Name.lower()\n",
        "print(new)\n"
      ]
    },
    {
      "cell_type": "markdown",
      "source": [
        "3. To create a string and use string method to capatilize the first word of the string"
      ],
      "metadata": {
        "id": "KmHwPZgFGUBs"
      }
    },
    {
      "cell_type": "code",
      "execution_count": null,
      "metadata": {
        "colab": {
          "base_uri": "https://localhost:8080/"
        },
        "id": "9p2YizfpTcoL",
        "outputId": "61eba356-329e-45cf-f42f-7f2574458c89"
      },
      "outputs": [
        {
          "name": "stdout",
          "output_type": "stream",
          "text": [
            "Dav school\n"
          ]
        }
      ],
      "source": [
        "school=\"dav school\"\n",
        "s=school.capitalize()\n",
        "print(s)"
      ]
    },
    {
      "cell_type": "markdown",
      "source": [
        "4. Check by using string method is the given string is in lower case or not\n",
        "\n",
        "\n"
      ],
      "metadata": {
        "id": "fqbiwDiFGjVs"
      }
    },
    {
      "cell_type": "code",
      "execution_count": 2,
      "metadata": {
        "colab": {
          "base_uri": "https://localhost:8080/"
        },
        "id": "lQNEt78TVHAb",
        "outputId": "efdbae2d-e465-4d18-c799-11a22b2c82b3"
      },
      "outputs": [
        {
          "output_type": "stream",
          "name": "stdout",
          "text": [
            "True\n"
          ]
        }
      ],
      "source": [
        "school=\"dav school\"\n",
        "s=school.islower()\n",
        "print(s)"
      ]
    },
    {
      "cell_type": "markdown",
      "source": [
        "5. Check by using string method find the index of a particular string"
      ],
      "metadata": {
        "id": "85iYP5GMGvfq"
      }
    },
    {
      "cell_type": "code",
      "execution_count": null,
      "metadata": {
        "colab": {
          "base_uri": "https://localhost:8080/"
        },
        "id": "qEkl8g3bVR8b",
        "outputId": "7a1c41a3-03b3-47df-ce68-f8d5ca9c2fd1"
      },
      "outputs": [
        {
          "name": "stdout",
          "output_type": "stream",
          "text": [
            "1\n"
          ]
        }
      ],
      "source": [
        "s=school.find('a')\n",
        "print(s)"
      ]
    },
    {
      "cell_type": "markdown",
      "source": [
        "6. By using string method change the first letter  "
      ],
      "metadata": {
        "id": "Sg-gIgrBHE3p"
      }
    },
    {
      "cell_type": "code",
      "execution_count": null,
      "metadata": {
        "colab": {
          "base_uri": "https://localhost:8080/"
        },
        "id": "xpHIlFcyVg79",
        "outputId": "5e5068ca-5711-445a-e912-18b888bf1c6a"
      },
      "outputs": [
        {
          "name": "stdout",
          "output_type": "stream",
          "text": [
            "Divya Sharma\n"
          ]
        }
      ],
      "source": [
        "name=\"divya sharma\"\n",
        "x=name.title()\n",
        "print(x)"
      ]
    },
    {
      "cell_type": "markdown",
      "source": [
        "7. By using string method convert the string which has lower case to upper and upper case to lower case"
      ],
      "metadata": {
        "id": "SL9GqQFbHnpD"
      }
    },
    {
      "cell_type": "code",
      "execution_count": null,
      "metadata": {
        "colab": {
          "base_uri": "https://localhost:8080/"
        },
        "id": "2f4yhnMUVxG_",
        "outputId": "bf2431cc-feda-4af8-8ed0-23d076c9e70d"
      },
      "outputs": [
        {
          "name": "stdout",
          "output_type": "stream",
          "text": [
            "diVAYa ShARma\n"
          ]
        }
      ],
      "source": [
        "name=\"DIvayA sHarMA\"\n",
        "n=name.swapcase()\n",
        "print(n)"
      ]
    },
    {
      "cell_type": "markdown",
      "source": [
        "8. By using string method replace the tab characters with appropriate number of spaces"
      ],
      "metadata": {
        "id": "ucf4U7ZlH0Zl"
      }
    },
    {
      "cell_type": "code",
      "execution_count": null,
      "metadata": {
        "colab": {
          "base_uri": "https://localhost:8080/"
        },
        "id": "6D8o3wWVWYNG",
        "outputId": "ad158fad-4cf8-4461-a6de-775bc136132d"
      },
      "outputs": [
        {
          "name": "stdout",
          "output_type": "stream",
          "text": [
            "My  name    is  Diksha  Thakur.\n"
          ]
        }
      ],
      "source": [
        "name_spaces=\"My\\tname\\tis\\tDiksha\\tThakur.\"\n",
        "t=name_spaces.expandtabs(4)\n",
        "print(t)\n"
      ]
    },
    {
      "cell_type": "markdown",
      "source": [
        "9. By using slicing method reverse the string"
      ],
      "metadata": {
        "id": "uwr-CT6rIVa4"
      }
    },
    {
      "cell_type": "code",
      "execution_count": null,
      "metadata": {
        "colab": {
          "base_uri": "https://localhost:8080/"
        },
        "id": "1fbemXHzW-TG",
        "outputId": "942185d4-acf5-4745-ecf9-8a22ab6e65eb"
      },
      "outputs": [
        {
          "name": "stdout",
          "output_type": "stream",
          "text": [
            "rehcaet\n"
          ]
        }
      ],
      "source": [
        "name=\"teacher\"\n",
        "num=name[::-1]\n",
        "print(num)"
      ]
    },
    {
      "cell_type": "markdown",
      "source": [
        "10. To check is the given string is palindrom or not"
      ],
      "metadata": {
        "id": "HDYYDEIdIdrE"
      }
    },
    {
      "cell_type": "code",
      "execution_count": 4,
      "metadata": {
        "colab": {
          "base_uri": "https://localhost:8080/"
        },
        "id": "8ViRxwSoXToE",
        "outputId": "de6216a2-070a-4ffe-8840-2ae98d90f94d"
      },
      "outputs": [
        {
          "output_type": "stream",
          "name": "stdout",
          "text": [
            "madam\n",
            "palindrom\n"
          ]
        }
      ],
      "source": [
        "name=\"madam\"\n",
        "num=name[::-1]\n",
        "print(num)\n",
        "if num in name:\n",
        "  print(\"palindrom\")\n",
        "else:\n",
        "  print(\"not palindrom\")"
      ]
    },
    {
      "cell_type": "markdown",
      "source": [
        "11. Given a string containing a sentence, replace all occurrences of the word \"Java\" with \"Python\"."
      ],
      "metadata": {
        "id": "FZGMhBNoIjj2"
      }
    },
    {
      "cell_type": "code",
      "source": [
        "sentence=\"I love Java language because Java is easy to understand\"\n",
        "new_sentence=sentence.replace(\"Java\",\"Python\")\n",
        "print(new_sentence)"
      ],
      "metadata": {
        "colab": {
          "base_uri": "https://localhost:8080/"
        },
        "id": "yJWRG5-yAXq5",
        "outputId": "d17355df-d36b-4309-98c7-1fbd63169ce2"
      },
      "execution_count": null,
      "outputs": [
        {
          "output_type": "stream",
          "name": "stdout",
          "text": [
            "I love Python language because Python is easy to understand\n"
          ]
        }
      ]
    },
    {
      "cell_type": "markdown",
      "source": [
        "12. You have a string containing a URL. Use a string method to check if the URL ends with \".com\".\n"
      ],
      "metadata": {
        "id": "ISUElsL2IptJ"
      }
    },
    {
      "cell_type": "code",
      "source": [
        "url=\"https//www.google.com\"\n",
        "check=url.endswith(\".com\")\n",
        "print(check)"
      ],
      "metadata": {
        "colab": {
          "base_uri": "https://localhost:8080/"
        },
        "id": "qCyJf0G9BURL",
        "outputId": "f7d0d836-4d96-45c0-e463-ce876d6e32fc"
      },
      "execution_count": null,
      "outputs": [
        {
          "output_type": "stream",
          "name": "stdout",
          "text": [
            "True\n"
          ]
        }
      ]
    },
    {
      "cell_type": "markdown",
      "source": [
        "13. You have a string containing a sentence. Use a string method to find the number of times the word \"data\" appears in the string."
      ],
      "metadata": {
        "id": "g1v-k1YLIwnA"
      }
    },
    {
      "cell_type": "code",
      "source": [
        "sentence=\"in a machine learning we need to carry the data its all about how se are storing the data and working with the data\"\n",
        "new=sentence.count(\"data\")\n",
        "print(new)\n"
      ],
      "metadata": {
        "colab": {
          "base_uri": "https://localhost:8080/"
        },
        "id": "Mg5iV44rCrnb",
        "outputId": "4f6c703e-bf4b-4aed-e311-e0bf8b1c10fe"
      },
      "execution_count": 5,
      "outputs": [
        {
          "output_type": "stream",
          "name": "stdout",
          "text": [
            "3\n"
          ]
        }
      ]
    },
    {
      "cell_type": "markdown",
      "source": [
        "14. To find a the paticular vowel is present in the given string"
      ],
      "metadata": {
        "id": "rl2QYCFsF6QM"
      }
    },
    {
      "cell_type": "code",
      "source": [
        "vowels=\"aeiou\"\n",
        "print ( \"e\" in vowels)"
      ],
      "metadata": {
        "colab": {
          "base_uri": "https://localhost:8080/"
        },
        "id": "CkyIxTDzFilW",
        "outputId": "edc5be46-6865-483d-9371-84f71657c955"
      },
      "execution_count": null,
      "outputs": [
        {
          "output_type": "stream",
          "name": "stdout",
          "text": [
            "True\n"
          ]
        }
      ]
    },
    {
      "cell_type": "markdown",
      "source": [
        "15. Given a string containing a paragraph, use a string method to replace all newline characters (\"\\n\") with spaces."
      ],
      "metadata": {
        "id": "Faq0lFaNJKsO"
      }
    },
    {
      "cell_type": "code",
      "source": [
        "paragraph=\"A group of sentences or a single sentence that forms a unit\\nLength and appearance do not determine whether a section in a paper is a paragraph\\nFor instance, in some styles of writing.\"\n",
        "new=paragraph.replace(\"\\n\",\" \")\n",
        "print(new)"
      ],
      "metadata": {
        "colab": {
          "base_uri": "https://localhost:8080/"
        },
        "id": "1RkqK199F3IW",
        "outputId": "9a9bd283-e993-42ec-ee23-7453f5311e63"
      },
      "execution_count": 6,
      "outputs": [
        {
          "output_type": "stream",
          "name": "stdout",
          "text": [
            "A group of sentences or a single sentence that forms a unit Length and appearance do not determine whether a section in a paper is a paragraph For instance, in some styles of writing.\n"
          ]
        }
      ]
    },
    {
      "cell_type": "markdown",
      "source": [
        "16. Given a string containing a sentence, use a string method to find the last occurrence of the substring \"Python\"."
      ],
      "metadata": {
        "id": "OlELIJbTLQ0A"
      }
    },
    {
      "cell_type": "code",
      "source": [
        "str=\"I love Python language because Python is easy to understand\"\n",
        "new=str.endswith(\"Python\")\n",
        "print(new)"
      ],
      "metadata": {
        "colab": {
          "base_uri": "https://localhost:8080/"
        },
        "id": "vx5A6IaTLW8b",
        "outputId": "09b3ad15-d942-43e9-d5c3-ec1447f2da70"
      },
      "execution_count": null,
      "outputs": [
        {
          "output_type": "stream",
          "name": "stdout",
          "text": [
            "False\n"
          ]
        }
      ]
    },
    {
      "cell_type": "markdown",
      "source": [
        "17. You have a string containing a sentence. Use a string method to swap the case of each character in the string."
      ],
      "metadata": {
        "id": "UhYPj7upLs9f"
      }
    },
    {
      "cell_type": "code",
      "source": [
        "sentence=\"Diya Bawaja\"\n",
        "swap=sentence.swapcase()\n",
        "print(sentence)\n"
      ],
      "metadata": {
        "colab": {
          "base_uri": "https://localhost:8080/"
        },
        "id": "j4sUYnS-Lsos",
        "outputId": "faf9ec6a-c2e6-46e8-eaa7-091058f78095"
      },
      "execution_count": null,
      "outputs": [
        {
          "output_type": "stream",
          "name": "stdout",
          "text": [
            "Diya Bawaja\n"
          ]
        }
      ]
    },
    {
      "cell_type": "markdown",
      "source": [
        "18. Given a string containing a date in the format \"DD-MM-YYYY\", use a string method to extract the year."
      ],
      "metadata": {
        "id": "bVsPLK_YMqDO"
      }
    },
    {
      "cell_type": "code",
      "source": [
        "date=\"10-06-2024\"\n",
        "new=date[-4:]\n",
        "print(new)"
      ],
      "metadata": {
        "colab": {
          "base_uri": "https://localhost:8080/"
        },
        "id": "jupJKNuZMpvH",
        "outputId": "0b2adbcb-4fa8-4489-f798-80fbf36d6332"
      },
      "execution_count": 7,
      "outputs": [
        {
          "output_type": "stream",
          "name": "stdout",
          "text": [
            "2024\n"
          ]
        }
      ]
    },
    {
      "cell_type": "markdown",
      "source": [
        "19. You have a string with multiple lines of text. Use a string method to split the string into a list of lines."
      ],
      "metadata": {
        "id": "i7K-zvI8NmkA"
      }
    },
    {
      "cell_type": "code",
      "source": [
        "str=\"You have a string containing a sentence. Use a string method to swap the case of each character in the string. a string with multiple lines of text. Use a string method to split the string into a list of lines. Use a string method to swap the case of each character in the string.\"\n",
        "str_list=str.split(\".\")\n",
        "print(str_list)"
      ],
      "metadata": {
        "colab": {
          "base_uri": "https://localhost:8080/"
        },
        "id": "Ed98018ONz4r",
        "outputId": "a871f4a0-9d84-4976-9a60-3127b13fe823"
      },
      "execution_count": null,
      "outputs": [
        {
          "output_type": "stream",
          "name": "stdout",
          "text": [
            "['You have a string containing a sentence', ' Use a string method to swap the case of each character in the string', ' a string with multiple lines of text', ' Use a string method to split the string into a list of lines', ' Use a string method to swap the case of each character in the string', '']\n"
          ]
        }
      ]
    },
    {
      "cell_type": "markdown",
      "source": [
        "20. Given a string containing a sentence, use a string method to find the index of the first occurrence of the character \"a\".\n",
        "\n"
      ],
      "metadata": {
        "id": "9aGHNOXVOmW6"
      }
    },
    {
      "cell_type": "code",
      "source": [
        "str=\"You have a string containing a sentence\"\n",
        "value=str.index('a')\n",
        "print(value)"
      ],
      "metadata": {
        "colab": {
          "base_uri": "https://localhost:8080/"
        },
        "id": "KUJNXmBMOyg4",
        "outputId": "b803ddbc-356a-4375-fb40-5299bb07da5e"
      },
      "execution_count": 8,
      "outputs": [
        {
          "output_type": "stream",
          "name": "stdout",
          "text": [
            "5\n"
          ]
        }
      ]
    }
  ],
  "metadata": {
    "colab": {
      "provenance": [],
      "authorship_tag": "ABX9TyMIKhrmffGS2M6p6CGzZSOs",
      "include_colab_link": true
    },
    "kernelspec": {
      "display_name": "Python 3",
      "name": "python3"
    },
    "language_info": {
      "name": "python"
    }
  },
  "nbformat": 4,
  "nbformat_minor": 0
}