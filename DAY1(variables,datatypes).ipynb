{
  "nbformat": 4,
  "nbformat_minor": 0,
  "metadata": {
    "colab": {
      "provenance": [],
      "authorship_tag": "ABX9TyO0tlWLJ2xrEYQFSoH7cKaY",
      "include_colab_link": true
    },
    "kernelspec": {
      "name": "python3",
      "display_name": "Python 3"
    },
    "language_info": {
      "name": "python"
    }
  },
  "cells": [
    {
      "cell_type": "markdown",
      "metadata": {
        "id": "view-in-github",
        "colab_type": "text"
      },
      "source": [
        "<a href=\"https://colab.research.google.com/github/student-jashan/myrepo/blob/main/DAY1(variables%2Cdatatypes).ipynb\" target=\"_parent\"><img src=\"https://colab.research.google.com/assets/colab-badge.svg\" alt=\"Open In Colab\"/></a>"
      ]
    },
    {
      "cell_type": "code",
      "source": [
        "print(\"hello world\")"
      ],
      "metadata": {
        "colab": {
          "base_uri": "https://localhost:8080/"
        },
        "id": "B70VwNEwyw2a",
        "outputId": "82d16e0f-c78c-4327-b390-303514fe6b58"
      },
      "execution_count": null,
      "outputs": [
        {
          "output_type": "stream",
          "name": "stdout",
          "text": [
            "hello world\n"
          ]
        }
      ]
    },
    {
      "cell_type": "code",
      "source": [
        "#addition\n",
        "4+4"
      ],
      "metadata": {
        "colab": {
          "base_uri": "https://localhost:8080/"
        },
        "id": "sAgTTgm5zrgp",
        "outputId": "014ba6e3-86d2-4a97-a005-a026c831cf6a"
      },
      "execution_count": null,
      "outputs": [
        {
          "output_type": "execute_result",
          "data": {
            "text/plain": [
              "8"
            ]
          },
          "metadata": {},
          "execution_count": 2
        }
      ]
    },
    {
      "cell_type": "code",
      "source": [
        "#subtraction\n",
        "2-5"
      ],
      "metadata": {
        "colab": {
          "base_uri": "https://localhost:8080/"
        },
        "id": "XvxkfsMe0fQa",
        "outputId": "acdae0f5-59d2-4bd0-c1ef-c0df7a849cff"
      },
      "execution_count": null,
      "outputs": [
        {
          "output_type": "execute_result",
          "data": {
            "text/plain": [
              "-3"
            ]
          },
          "metadata": {},
          "execution_count": 3
        }
      ]
    },
    {
      "cell_type": "code",
      "source": [
        "#division\n",
        "12/4"
      ],
      "metadata": {
        "colab": {
          "base_uri": "https://localhost:8080/"
        },
        "id": "JPpipoLG0mh4",
        "outputId": "a402e938-9f97-45e3-df74-000e0288a439"
      },
      "execution_count": null,
      "outputs": [
        {
          "output_type": "execute_result",
          "data": {
            "text/plain": [
              "3.0"
            ]
          },
          "metadata": {},
          "execution_count": 5
        }
      ]
    },
    {
      "cell_type": "code",
      "source": [
        "#multiplication\n",
        "4*3"
      ],
      "metadata": {
        "colab": {
          "base_uri": "https://localhost:8080/"
        },
        "id": "56P-XXm10rNa",
        "outputId": "2d9f6aec-a04b-4769-c7e0-c7291bad452a"
      },
      "execution_count": null,
      "outputs": [
        {
          "output_type": "execute_result",
          "data": {
            "text/plain": [
              "12"
            ]
          },
          "metadata": {},
          "execution_count": 6
        }
      ]
    },
    {
      "cell_type": "code",
      "source": [
        "#floor value\n",
        "12//4"
      ],
      "metadata": {
        "colab": {
          "base_uri": "https://localhost:8080/"
        },
        "id": "1-lZokvr0xRZ",
        "outputId": "dfd820aa-ebd5-4beb-e559-e78cab04c024"
      },
      "execution_count": null,
      "outputs": [
        {
          "output_type": "execute_result",
          "data": {
            "text/plain": [
              "3"
            ]
          },
          "metadata": {},
          "execution_count": 7
        }
      ]
    },
    {
      "cell_type": "code",
      "source": [
        "#moduluo\n",
        "3%5"
      ],
      "metadata": {
        "colab": {
          "base_uri": "https://localhost:8080/"
        },
        "id": "WnPdSbuf06sB",
        "outputId": "e196c600-c163-4e06-c7fe-c8f1d93e0446"
      },
      "execution_count": null,
      "outputs": [
        {
          "output_type": "execute_result",
          "data": {
            "text/plain": [
              "3"
            ]
          },
          "metadata": {},
          "execution_count": 11
        }
      ]
    },
    {
      "cell_type": "code",
      "source": [
        "#operator presedence\n",
        "print((5+2)*3**2-1)"
      ],
      "metadata": {
        "colab": {
          "base_uri": "https://localhost:8080/"
        },
        "id": "AbGVRLfu1dlp",
        "outputId": "af71eb7d-56c5-43e5-9f62-ebd674b6876d"
      },
      "execution_count": null,
      "outputs": [
        {
          "output_type": "stream",
          "name": "stdout",
          "text": [
            "62\n"
          ]
        }
      ]
    },
    {
      "cell_type": "markdown",
      "source": [
        "An operator working behind the scoreboard of a inter cohort AlmaBetter cricket tournament, is responsible for updating the scores and points of each team. However, the operator is currently facing a challenge. He has been tasked with updating the total number of points gained by Team London, but he does not possess the necessary programming skills to complete this task. According to the tournament's rules, teams are awarded the following points based on the outcome of a match:\n",
        "\n",
        "wins: 3 points\n",
        "draws: 1 point\n",
        "losses: 0 points\n",
        "Team London has played 9 matches in this tournament. They won 6 matches, lost 2 matches and drew 1. The operator is in need of assistance to calculate the total number of points earned by Team London. As a python expert adept with knowledge of integer, floats and boolean, you can help the operator by writing a solution for the following problem.\n",
        "\n",
        "What would your approach be?"
      ],
      "metadata": {
        "id": "p8U6-EREPVHm"
      }
    },
    {
      "cell_type": "code",
      "source": [
        "won=int(input(\"enter no. of won matches:\"))\n",
        "losses=int(input(\"enter no.of loss matches:\"))\n",
        "draws=int(input(\"enter no. of draws :\"))\n",
        "print(3*won+0*losses+1*draws)"
      ],
      "metadata": {
        "id": "pUGjzEjB3IPh"
      },
      "execution_count": null,
      "outputs": []
    },
    {
      "cell_type": "code",
      "source": [
        "#variables\n",
        "x=7\n",
        "print(x)"
      ],
      "metadata": {
        "colab": {
          "base_uri": "https://localhost:8080/"
        },
        "id": "ns0yURHk4zPr",
        "outputId": "0ff156d8-734b-4505-9e6d-caacf180119b"
      },
      "execution_count": null,
      "outputs": [
        {
          "output_type": "stream",
          "name": "stdout",
          "text": [
            "7\n"
          ]
        }
      ]
    },
    {
      "cell_type": "code",
      "source": [
        "x=7\n",
        "y=6.6\n",
        "y\n",
        "c=44j\n",
        "print(type(x))\n",
        "print(type(y))\n",
        "print(type(c))\n"
      ],
      "metadata": {
        "colab": {
          "base_uri": "https://localhost:8080/"
        },
        "id": "Hw7fuYqC5LlO",
        "outputId": "c4b35ef7-8b5e-4a20-9caf-596045e48f1f"
      },
      "execution_count": null,
      "outputs": [
        {
          "output_type": "stream",
          "name": "stdout",
          "text": [
            "<class 'int'>\n",
            "<class 'float'>\n",
            "<class 'complex'>\n"
          ]
        }
      ]
    },
    {
      "cell_type": "markdown",
      "source": [
        "Imagine you are a data analyst at a nutrition bar manufacturing company. Your department head approaches you with a question. The company produces a nutrition bar that contains 50g of raisins, 60g of almonds, and 20g of apricots. The head of the manufacturing department wants you to create an ingredient percentage list for the nutrition bar using python.\n",
        "\n",
        "Equipped with the knowledge of int, float and booleans in python, how would you approach this situation?"
      ],
      "metadata": {
        "id": "GAwj1FCqQklr"
      }
    },
    {
      "cell_type": "code",
      "source": [
        "raisins=50\n",
        "alomands=60\n",
        "apricots=20\n",
        "result=raisins+alomands+apricots\n",
        "print(raisins/result*100)\n",
        "print(alomands/result*100)\n",
        "print(apricots/result*100)\n"
      ],
      "metadata": {
        "colab": {
          "base_uri": "https://localhost:8080/"
        },
        "id": "N_oW0Zg47mLb",
        "outputId": "cfc96f56-d9cb-477b-aeee-f0f7ce232c9e"
      },
      "execution_count": null,
      "outputs": [
        {
          "output_type": "stream",
          "name": "stdout",
          "text": [
            "38.46153846153847\n",
            "46.15384615384615\n",
            "15.384615384615385\n"
          ]
        }
      ]
    },
    {
      "cell_type": "code",
      "source": [
        "boolean_value=True\n",
        "print(type(boolean_value))"
      ],
      "metadata": {
        "colab": {
          "base_uri": "https://localhost:8080/"
        },
        "id": "cQvCZskT_y_O",
        "outputId": "f365d6bb-97e3-4da4-8a71-1da0c33f3e16"
      },
      "execution_count": null,
      "outputs": [
        {
          "output_type": "stream",
          "name": "stdout",
          "text": [
            "<class 'bool'>\n"
          ]
        }
      ]
    },
    {
      "cell_type": "code",
      "source": [
        "a=6\n",
        "b=7\n",
        "a>b"
      ],
      "metadata": {
        "colab": {
          "base_uri": "https://localhost:8080/"
        },
        "id": "OQDfetgw__n0",
        "outputId": "eccef422-b3c0-4136-b440-16c596fb3d57"
      },
      "execution_count": null,
      "outputs": [
        {
          "output_type": "execute_result",
          "data": {
            "text/plain": [
              "False"
            ]
          },
          "metadata": {},
          "execution_count": 38
        }
      ]
    },
    {
      "cell_type": "markdown",
      "source": [
        "You're creating a program to manage a zoo's animal population. Declare a variable lion_population with an initial value of 10. The zoo welcomes 5 new lion cubs. Update the lion_population variable and print the total lion population.*"
      ],
      "metadata": {
        "id": "iYhptkAIQt-w"
      }
    },
    {
      "cell_type": "code",
      "source": [
        "lion_population=10\n",
        "total=lion_population+5\n",
        "print(total)\n"
      ],
      "metadata": {
        "colab": {
          "base_uri": "https://localhost:8080/"
        },
        "id": "JXWOwQrIAGc4",
        "outputId": "ea346b21-a5d4-4d99-c251-9946d62db961"
      },
      "execution_count": null,
      "outputs": [
        {
          "output_type": "stream",
          "name": "stdout",
          "text": [
            "15\n"
          ]
        }
      ]
    },
    {
      "cell_type": "markdown",
      "source": [
        "*You're developing a weather monitoring system. Declare a variable temperature with a value of 25.5 degrees Celsius. Due to a sudden heatwave, the temperature increases by 8 degrees. Update and print the new temperature.*"
      ],
      "metadata": {
        "id": "4U3k6BiKQ0Z3"
      }
    },
    {
      "cell_type": "code",
      "source": [
        "temperature=25.5\n",
        "temperature+8"
      ],
      "metadata": {
        "colab": {
          "base_uri": "https://localhost:8080/"
        },
        "id": "myy436bxCJJ1",
        "outputId": "a9db052f-fb39-43a6-ba02-65beedef1987"
      },
      "execution_count": null,
      "outputs": [
        {
          "output_type": "execute_result",
          "data": {
            "text/plain": [
              "33.5"
            ]
          },
          "metadata": {},
          "execution_count": 40
        }
      ]
    },
    {
      "cell_type": "markdown",
      "source": [
        "*A science experiment involves tracking the growth of a plant. Declare a variable plant_height with an initial value of 15 centimeters. Over a week, the plant grows 2.5 centimeters taller each day. Update and print the final height of the plant after the week.*"
      ],
      "metadata": {
        "id": "TWTnCs5kRIF-"
      }
    },
    {
      "cell_type": "code",
      "source": [
        "plant_height=15\n",
        "everyday=7*2.5\n",
        "plant_height+everyday"
      ],
      "metadata": {
        "colab": {
          "base_uri": "https://localhost:8080/"
        },
        "id": "4hLag5MxDV48",
        "outputId": "e417d22f-05c6-476c-f86c-983550022931"
      },
      "execution_count": null,
      "outputs": [
        {
          "output_type": "execute_result",
          "data": {
            "text/plain": [
              "32.5"
            ]
          },
          "metadata": {},
          "execution_count": 41
        }
      ]
    },
    {
      "cell_type": "markdown",
      "source": [
        "*A group of friends is sharing a pizza. Declare a variable pizza_slices with a value of 8. Each friend wants to have an equal number of slices, and there are 5 friends. Calculate and print the maximum number of slices each friend can have without cutting the pizza.*"
      ],
      "metadata": {
        "id": "NKIuIMyPQ6qS"
      }
    },
    {
      "cell_type": "code",
      "source": [
        "pizza_slice=8\n",
        "equal_slices=8//5\n",
        "print(equal_slices)"
      ],
      "metadata": {
        "colab": {
          "base_uri": "https://localhost:8080/"
        },
        "id": "uHeESyoYGygM",
        "outputId": "8c16f80d-1a60-4877-b201-d05ea0cbf124"
      },
      "execution_count": null,
      "outputs": [
        {
          "output_type": "stream",
          "name": "stdout",
          "text": [
            "1\n"
          ]
        }
      ]
    },
    {
      "cell_type": "markdown",
      "source": [
        "*You're modeling the movement of a pendulum. Declare a variable pendulum_length with a value of 1.2 meters. Calculate and print the period of oscillation (time taken for one complete swing) using the formula \\( T = 2\\pi \\sqrt{\\frac{L}{g}} \\), where \\( \\pi \\) is pi (approximately 3.14159) and \\( g \\) is the acceleration due to gravity (approximately \\( 9.81 \\) meters per second squared).*"
      ],
      "metadata": {
        "id": "Be8rhnEaRRwr"
      }
    },
    {
      "cell_type": "code",
      "source": [
        "pendulum_length=1.2\n",
        "period_of_ossilation=2*3.14*(1.2/9.81)**0.5\n",
        "print(period_of_ossilation)"
      ],
      "metadata": {
        "colab": {
          "base_uri": "https://localhost:8080/"
        },
        "id": "1u1JsoptHT8P",
        "outputId": "2dfd5d8d-1231-41ca-9c7d-f781b089f13e"
      },
      "execution_count": null,
      "outputs": [
        {
          "output_type": "stream",
          "name": "stdout",
          "text": [
            "2.196421888697581\n"
          ]
        }
      ]
    },
    {
      "cell_type": "markdown",
      "source": [
        "A fitness tracker is monitoring a user's heart rate variability (HRV). Declare a variable hrv_index with an initial value of 80. After a relaxation session, the user's HRV improves by 10 points. Update and print the new hrv_index.*"
      ],
      "metadata": {
        "id": "-mFTFXCBRXui"
      }
    },
    {
      "cell_type": "code",
      "source": [
        "hrv_index=80\n",
        "improve=hrv_index+10\n",
        "print(improve)"
      ],
      "metadata": {
        "colab": {
          "base_uri": "https://localhost:8080/"
        },
        "id": "QKsnbherIina",
        "outputId": "a7748d9d-633b-4c32-e951-e9bb7f1099ea"
      },
      "execution_count": null,
      "outputs": [
        {
          "output_type": "stream",
          "name": "stdout",
          "text": [
            "90\n"
          ]
        }
      ]
    },
    {
      "cell_type": "markdown",
      "source": [
        "10. *You're simulating the growth of a bacterial colony. Declare a variable bacteria_count with an initial value of 5000. Over a day, the colony doubles in size every 4 hours. Update and print the new bacteria_count.*"
      ],
      "metadata": {
        "id": "qX8BUnlmRjGg"
      }
    },
    {
      "cell_type": "code",
      "source": [
        "bacteria_count=5000\n",
        "total_hours=24/4\n",
        "doouble=total_hours*bacteria_count**2\n",
        "print(doouble)"
      ],
      "metadata": {
        "id": "FhzRyI1GI0ce",
        "colab": {
          "base_uri": "https://localhost:8080/"
        },
        "outputId": "799db121-ed75-4cf7-9f56-8ed3a264b8d1"
      },
      "execution_count": null,
      "outputs": [
        {
          "output_type": "stream",
          "name": "stdout",
          "text": [
            "150000000.0\n"
          ]
        }
      ]
    },
    {
      "cell_type": "markdown",
      "source": [
        "A software company is tracking the number of bugs in their codebase. Declare a variable bug_count with an initial value of 100. After a round of debugging, 35 bugs are fixed. Update and print the new bug_count."
      ],
      "metadata": {
        "id": "fc3t4nHqRqd9"
      }
    },
    {
      "cell_type": "code",
      "source": [
        "bug_count=100\n",
        "count=bug_count-35\n",
        "count"
      ],
      "metadata": {
        "colab": {
          "base_uri": "https://localhost:8080/"
        },
        "id": "UJ9_PCPBIJYp",
        "outputId": "558b45e4-1f8b-446e-8073-06d35f70097e"
      },
      "execution_count": null,
      "outputs": [
        {
          "output_type": "execute_result",
          "data": {
            "text/plain": [
              "65"
            ]
          },
          "metadata": {},
          "execution_count": 49
        }
      ]
    },
    {
      "cell_type": "markdown",
      "source": [
        "You're designing a space mission trajectory. Declare variables initial_velocity and acceleration with values 3000 meters per second and 500 meters per second squared respectively. Calculate and print the final velocity after 10 seconds.\n"
      ],
      "metadata": {
        "id": "ZsMhoAjDRw0-"
      }
    },
    {
      "cell_type": "code",
      "source": [
        "intital_velocity=3000\n",
        "acceleration=500\n",
        "final_velocity=intital_velocity+acceleration*10\n",
        "print(final_velocity)\n"
      ],
      "metadata": {
        "colab": {
          "base_uri": "https://localhost:8080/"
        },
        "id": "asF29TpbD1lH",
        "outputId": "e12e9e4d-9bb8-4abc-f605-ed01e1f66121"
      },
      "execution_count": null,
      "outputs": [
        {
          "output_type": "stream",
          "name": "stdout",
          "text": [
            "8000\n"
          ]
        }
      ]
    }
  ]
}