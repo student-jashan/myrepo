{
  "nbformat": 4,
  "nbformat_minor": 0,
  "metadata": {
    "colab": {
      "provenance": [],
      "authorship_tag": "ABX9TyNP3V5aosuW//ZeRStmqM5X",
      "include_colab_link": true
    },
    "kernelspec": {
      "name": "python3",
      "display_name": "Python 3"
    },
    "language_info": {
      "name": "python"
    }
  },
  "cells": [
    {
      "cell_type": "markdown",
      "metadata": {
        "id": "view-in-github",
        "colab_type": "text"
      },
      "source": [
        "<a href=\"https://colab.research.google.com/github/student-jashan/myrepo/blob/main/DAY8_9.ipynb\" target=\"_parent\"><img src=\"https://colab.research.google.com/assets/colab-badge.svg\" alt=\"Open In Colab\"/></a>"
      ]
    },
    {
      "cell_type": "markdown",
      "source": [
        "**CONCEPTS COVERED**\n",
        "\n",
        "\n",
        "*   ABSTRACTION\n",
        "*   ENCAPSULATION\n",
        "*   GETTER AND SETTER\n",
        "*   INHERITANCE\n",
        "\n",
        "\n",
        "\n"
      ],
      "metadata": {
        "id": "O7bIajsmCDey"
      }
    },
    {
      "cell_type": "markdown",
      "source": [
        "\n",
        "**1. Library Management System**\n",
        "\n",
        "\n",
        "Scenario: You are tasked with developing a library management system where users can borrow and return books.\n",
        "\n",
        "Requirements:\n",
        "\n",
        "Create a Book class that has the following private attributes: title, author, and isbn.\n",
        "Implement methods to get and set the values of these attributes (getters and setters).\n",
        "Create a Library class that has a list of Book objects.\n",
        "Implement methods to add a new book, remove a book by its ISBN, and list all available books.\n",
        "Use encapsulation to ensure that the books can only be manipulated through the Library class.\n",
        "Task:\n",
        "\n",
        "Implement the Book and Library classes with proper encapsulation.\n",
        "Add methods to add, remove, and list books in the library"
      ],
      "metadata": {
        "id": "Coq96BxtKWab"
      }
    },
    {
      "cell_type": "code",
      "source": [
        "class book:\n",
        "  def __init__(self,title,author,isbn):\n",
        "    self.__title = title\n",
        "    self.__author = author\n",
        "    self.__isbn = isbn\n",
        "  def author(self):\n",
        "    return self.__author\n",
        "  def title(self):\n",
        "    return self.__title\n",
        "  def isbn(self):\n",
        "    return self.__isbn\n",
        "class library:\n",
        "  def __init__(self):\n",
        "    self.lis = []\n",
        "  def add(self,b):\n",
        "    self.lis.append(b)\n",
        "  def remove(self,b,isbn):\n",
        "    self.lis.remove(b)\n",
        "    for book in self.lis:\n",
        "      if book.isbn()==isbn:\n",
        "        self.lis.remove(book)\n",
        "        print(f\"Book with ISBN {isbn} removed.\")\n",
        "        return\n",
        "        print(f\"Book with ISBN {isbn} not found in the library.\")\n",
        "\n",
        "  def display(self):\n",
        "     for x in self.lis:\n",
        "      print(\"BOOK:\")\n",
        "      print(\"Author: \",x.author())\n",
        "      print(\"Title: \",x.title())\n",
        "      print(\"ISBN: \",x.isbn(),\"\\n\")\n",
        "b1 = book(\"A\",\"B\",123)\n",
        "b2 = book(\"c\",\"D\",456)\n",
        "l = library()\n",
        "l.add(b1)\n",
        "l.add(b2)\n",
        "l.display()\n",
        "l.remove(b1,456)\n",
        "l.display()\n",
        "\n"
      ],
      "metadata": {
        "colab": {
          "base_uri": "https://localhost:8080/"
        },
        "id": "E_87D6lwKmtS",
        "outputId": "92a71246-e3d3-4c6e-95e3-0006fa92ebdf"
      },
      "execution_count": null,
      "outputs": [
        {
          "output_type": "stream",
          "name": "stdout",
          "text": [
            "BOOK:\n",
            "Author:  B\n",
            "Title:  A\n",
            "ISBN:  123 \n",
            "\n",
            "BOOK:\n",
            "Author:  D\n",
            "Title:  c\n",
            "ISBN:  456 \n",
            "\n",
            "Book with ISBN 456 removed.\n"
          ]
        }
      ]
    },
    {
      "cell_type": "markdown",
      "source": [
        "2. **Bank Account Management**\n",
        "\n",
        "Scenario: Develop a bank account management system where users can create accounts, deposit, and withdraw money.\n",
        "\n",
        "Requirements:\n",
        "\n",
        "Create a BankAccount class with private attributes: account_number, account_holder, and balance.\n",
        "Implement methods to get the account details and balance (getters).\n",
        "Implement methods to deposit and withdraw money, ensuring that the balance cannot go negative.\n",
        "Use encapsulation to ensure that the balance cannot be directly modified.\n",
        "Task:\n",
        "\n",
        "Implement the BankAccount class with proper encapsulation.\n",
        "Add methods to deposit and withdraw money, and to get account details."
      ],
      "metadata": {
        "id": "CQ4bJb7dUDOW"
      }
    },
    {
      "cell_type": "code",
      "source": [
        "class BankAccount:\n",
        "  def __init__(self,account_number,account_holder,money):\n",
        "    self.__account_number=account_number\n",
        "    self.__account_holder=account_holder\n",
        "    self.__money=money\n",
        "\n",
        "  def set_attribute(self,ac_no,balan):\n",
        "    if ac_no%100000==0:\n",
        "      self.__an = ac_no\n",
        "    else:\n",
        "      print(\"Wrong Account number!!\")\n",
        "    if balan >100:\n",
        "      self.__bal = balan\n",
        "    else:\n",
        "      print(\"TO start the account please deposit atleat 100$\")\n",
        "\n",
        "  def get_detail(self):\n",
        "    print(\"Account No:\", {self.__account_number})\n",
        "    print(\"Account Holder:\",{self.__account_holder})\n",
        "    print(\"Money:\",{self.__money})\n",
        "\n",
        "  def deposit(self,money):\n",
        "    if money>0:\n",
        "      self.__money += money\n",
        "      print(money)\n",
        "\n",
        "  def withdraw(self,money):\n",
        "    if money>0:\n",
        "      self.__money-=money\n",
        "      print(money)\n",
        "b1=BankAccount(34567,\"adbn\",80000)\n",
        "b1.get_detail()\n",
        "b1.deposit(8000)\n",
        "b1.get_detail()\n",
        "b1.withdraw(4000)\n",
        "b1.get_detail()\n"
      ],
      "metadata": {
        "colab": {
          "base_uri": "https://localhost:8080/"
        },
        "id": "6HcgCoqVatoR",
        "outputId": "e2f43ec1-55b2-45ba-cd74-b1f9f984cc2d"
      },
      "execution_count": null,
      "outputs": [
        {
          "output_type": "stream",
          "name": "stdout",
          "text": [
            "Account No: {34567}\n",
            "Account Holder: {'adbn'}\n",
            "Money: {80000}\n",
            "8000\n",
            "Account No: {34567}\n",
            "Account Holder: {'adbn'}\n",
            "Money: {88000}\n",
            "4000\n",
            "Account No: {34567}\n",
            "Account Holder: {'adbn'}\n",
            "Money: {84000}\n"
          ]
        }
      ]
    },
    {
      "cell_type": "markdown",
      "source": [
        "3. **Employee Management System**\n",
        "   - Create an `Employee` class with private attributes `employee_id`, `name`, `position`, and `salary`.\n",
        "   - Implement getter and setter methods for `position`.\n",
        "   - Implement a setter method for `salary` that ensures the salary being set is positive."
      ],
      "metadata": {
        "id": "StW-DqZMMkAr"
      }
    },
    {
      "cell_type": "code",
      "source": [
        "class Employee:\n",
        "  def __init__(self,employee_id,name,position,salary):\n",
        "    self.__employee_id=employee_id\n",
        "    self.__name=name\n",
        "    self.__position=position\n",
        "    self.__salary=salary\n",
        "  def set_attribute(self,slry):\n",
        "    if slry>0:\n",
        "      self.__salary=slry\n",
        "    else:\n",
        "      print(\"no salary is there\")\n",
        "  def emp_id(self):\n",
        "    return self.__employee_id\n",
        "  def name(self):\n",
        "    return self.__name\n",
        "  def pos(self):\n",
        "    return self.__position\n",
        "  def sal(self):\n",
        "    return self.__salary\n",
        "class department:\n",
        "  def __init__(self):\n",
        "    self.pos = []\n",
        "  def add(self,a):\n",
        "    self.pos.append(a)\n",
        "    print(\"New Employee is added!!\")\n",
        "  def remove(self,id):\n",
        "    for x in self.pos:\n",
        "      if x.emp_id() == id:\n",
        "        self.pos.remove(x)\n",
        "  def display(self):\n",
        "    for x in self.pos:\n",
        "      print(\"Name: \",x.name())\n",
        "      print(\"ID: \",x.emp_id())\n",
        "      print(\"Position: \",x.pos())\n",
        "      print(\"Salary : \",x.sal())\n",
        "\n",
        "d = department()\n",
        "d.add(Employee(178,\"Divya\",\"manager\",30000))\n",
        "d.add(Employee(190,\"Vijya\",'manager',30000))\n",
        "d.display()\n",
        "d.remove(178)\n",
        "d.remove(190)\n",
        "print(\"after\")\n",
        "d.display()"
      ],
      "metadata": {
        "colab": {
          "base_uri": "https://localhost:8080/"
        },
        "id": "_suwOMBPMucc",
        "outputId": "d241cb52-ccab-4ae7-cc53-7ad445b08d3a"
      },
      "execution_count": null,
      "outputs": [
        {
          "output_type": "stream",
          "name": "stdout",
          "text": [
            "New Employee is added!!\n",
            "New Employee is added!!\n",
            "Name:  Divya\n",
            "ID:  178\n",
            "Position:  manager\n",
            "Salary :  30000\n",
            "Name:  Vijya\n",
            "ID:  190\n",
            "Position:  manager\n",
            "Salary :  30000\n",
            "after\n"
          ]
        }
      ]
    },
    {
      "cell_type": "markdown",
      "source": [
        "4. **Student Record System**\n",
        "   - Create a `Student` class with private attributes `student_id`, `name`, `age`, and `grades` (a list of integers).\n",
        "   - Implement getter and setter methods for `name` and `age`.\n",
        "   - Implement a setter method for `grades` that ensures all grades are within a valid range (e.g., 0-100)."
      ],
      "metadata": {
        "id": "Eu1r24ZA-4Gj"
      }
    },
    {
      "cell_type": "code",
      "source": [
        "class Student_record:\n",
        "  def __init__(self,student_id,name,age,grades):\n",
        "    self.__student_id=student_id\n",
        "    self.__name=name\n",
        "    self.__age=age\n",
        "    self.__grades=grades\n",
        "\n",
        "  def id(self):\n",
        "    return self.__student_id\n",
        "  def name(self):\n",
        "    return self.__name\n",
        "  def age(self):\n",
        "    return self.__age\n",
        "  def grades(self):\n",
        "    return self.__grades\n",
        "  def set_name(self,name):\n",
        "    self.__name = name\n",
        "  def set_age(self,age):\n",
        "    self.__age = age\n",
        "  def set_grade(self,grade):\n",
        "    self.__grades.clear()\n",
        "    for x in grade:\n",
        "      if x>0 and x<100:\n",
        "        self.__grades.append(x)\n",
        "s1 = Student_record(456,\"Janvi\",17,[90,78,65,87])\n",
        "s2 = Student_record(561,\"Divya\",18,[78,89,56,78])\n",
        "s1.set_grade([23,67,45,89])\n",
        "s1.grades()\n"
      ],
      "metadata": {
        "colab": {
          "base_uri": "https://localhost:8080/"
        },
        "id": "JOwSHa_1_Kpj",
        "outputId": "34483c9a-5017-4192-f4d9-f8130b5bc8ae"
      },
      "execution_count": 7,
      "outputs": [
        {
          "output_type": "execute_result",
          "data": {
            "text/plain": [
              "[23, 67, 45, 89]"
            ]
          },
          "metadata": {},
          "execution_count": 7
        }
      ]
    },
    {
      "cell_type": "markdown",
      "source": [
        "5.  **Online Shopping System**\n",
        "\n",
        "Create a Product class with private attributes product_id, name, and price.\n",
        "Implement getter and setter methods for product_id.\n",
        "Implement setter methods for name and price that perform validation (e.g., ensure name is not empty and price is positive)"
      ],
      "metadata": {
        "id": "WHNclBk3BRjI"
      }
    },
    {
      "cell_type": "code",
      "source": [
        "class Shopping_system:\n",
        "  def __init__(self,product_id,name,price):\n",
        "    self.__product_id=product_id\n",
        "    self.__name=name\n",
        "    self.__price=price\n",
        "  def set_id(self,id):\n",
        "    self.__id = id\n",
        "  def id(self):\n",
        "    return self.__id\n",
        "  def set_name(self,name):\n",
        "    if len(name)>0:\n",
        "      self.__name = name\n",
        "    else:\n",
        "      print(\"Name is empty!\")\n",
        "  def name(self):\n",
        "    return self.__name\n",
        "  def set_price(self,price):\n",
        "    if price>0:\n",
        "      self.__price = price\n",
        "    else:\n",
        "      print(\"Price is Negative!\")\n",
        "  def price(self):\n",
        "    return self.__price\n",
        "\n",
        "p1 = Shopping_system(645,\"Wheat\",67)\n",
        "p1.set_price(-45)\n",
        "p1.set_name(\"\")\n",
        "p1.name()"
      ],
      "metadata": {
        "colab": {
          "base_uri": "https://localhost:8080/",
          "height": 71
        },
        "id": "cTo7wOENA9yM",
        "outputId": "0abf0c63-22b2-42fe-c2ec-4f4b2267354c"
      },
      "execution_count": 11,
      "outputs": [
        {
          "output_type": "stream",
          "name": "stdout",
          "text": [
            "Price is Negative!\n",
            "Name is empty!\n"
          ]
        },
        {
          "output_type": "execute_result",
          "data": {
            "text/plain": [
              "'Wheat'"
            ],
            "application/vnd.google.colaboratory.intrinsic+json": {
              "type": "string"
            }
          },
          "metadata": {},
          "execution_count": 11
        }
      ]
    },
    {
      "cell_type": "markdown",
      "source": [
        "6.** Transport System**\n",
        "\n",
        "Question: Develop a transport system. Create a base class Transport with common attributes like id, capacity, and methods like start and stop. Create derived classes Bus, Train, and Airplane with specific attributes and methods. Implement method overriding and polymorphism.\n",
        "\n",
        "Requirements:\n",
        "\n",
        "* Transport class with id, capacity, start(), and stop().\n",
        "* Bus class with route_number attribute and pick_up_passengers() method.\n",
        "* Train class with number_of_coaches attribute and depart() method.\n",
        "* Airplane class with flight_code attribute and take_off() m"
      ],
      "metadata": {
        "id": "R0MesV8TD_uT"
      }
    },
    {
      "cell_type": "code",
      "source": [
        "class Transport:\n",
        "  def __init__(self,id,capacity):\n",
        "    self.id = id\n",
        "  def start(self,name):\n",
        "    print(f\"Hello Mr/Ms {name}. Your booking is done on date {self.date}. Your booking id is {self.id}\")\n",
        "  def stop(self,name):\n",
        "    print(f\"Hello {name}. Your booking is cancel.\")\n",
        "class Bus(Transport):\n",
        "  def __init__(self,id,capacity,route):\n",
        "    super().__init__(id,capacity)\n",
        "    self.r = route\n",
        "  def pickup_passengers(self,name):\n",
        "    print(f\"Welcome to {self.name},\")\n",
        "    super().confirm_booking(name)\n",
        "    print(\"enjoy our service!\")\n",
        "class Train(Transport):\n",
        "  def __init__(self,id,capacity,number_of_coaches):\n",
        "    super().__init__(id,capacity)\n",
        "    self.coaches=number_of_coaches\n",
        "  def depart(self,name):\n",
        "    print(f\"Welcom to {self.no},\")\n",
        "    super().confirm_booking(name)\n",
        "    print(\"Thank you for using our service.\")\n",
        "class airplane(Transport):\n",
        "  def __init__(self,id,capacity,code):\n",
        "    super().__init__(id,capacity)\n",
        "    self.code =code\n",
        "  def take_off(self,name):\n",
        "    print(f\"Welcome in {self.name},\")\n",
        "    super().confirm_booking(name)\n",
        "b1 = Transport(456,\"67\")\n",
        "b3 = Transport(678,\"78\")\n",
        "b1.confirm_booking(\"peter\")\n",
        "b1.confirm_booking(\"peter\")\n",
        "b3.confirm_booking(\"harry\")"
      ],
      "metadata": {
        "colab": {
          "base_uri": "https://localhost:8080/",
          "height": 211
        },
        "id": "_T9LvEM0EEOl",
        "outputId": "858fee0f-d130-4f2c-9ea3-3b29dbb5c3dd"
      },
      "execution_count": 18,
      "outputs": [
        {
          "output_type": "error",
          "ename": "AttributeError",
          "evalue": "'Transport' object has no attribute 'confirm_booking'",
          "traceback": [
            "\u001b[0;31m---------------------------------------------------------------------------\u001b[0m",
            "\u001b[0;31mAttributeError\u001b[0m                            Traceback (most recent call last)",
            "\u001b[0;32m<ipython-input-18-7afc57f2d014>\u001b[0m in \u001b[0;36m<cell line: 33>\u001b[0;34m()\u001b[0m\n\u001b[1;32m     31\u001b[0m \u001b[0mb1\u001b[0m \u001b[0;34m=\u001b[0m \u001b[0mTransport\u001b[0m\u001b[0;34m(\u001b[0m\u001b[0;36m456\u001b[0m\u001b[0;34m,\u001b[0m\u001b[0;34m\"67\"\u001b[0m\u001b[0;34m)\u001b[0m\u001b[0;34m\u001b[0m\u001b[0;34m\u001b[0m\u001b[0m\n\u001b[1;32m     32\u001b[0m \u001b[0mb3\u001b[0m \u001b[0;34m=\u001b[0m \u001b[0mTransport\u001b[0m\u001b[0;34m(\u001b[0m\u001b[0;36m678\u001b[0m\u001b[0;34m,\u001b[0m\u001b[0;34m\"78\"\u001b[0m\u001b[0;34m)\u001b[0m\u001b[0;34m\u001b[0m\u001b[0;34m\u001b[0m\u001b[0m\n\u001b[0;32m---> 33\u001b[0;31m \u001b[0mb1\u001b[0m\u001b[0;34m.\u001b[0m\u001b[0mconfirm_booking\u001b[0m\u001b[0;34m(\u001b[0m\u001b[0;34m\"peter\"\u001b[0m\u001b[0;34m)\u001b[0m\u001b[0;34m\u001b[0m\u001b[0;34m\u001b[0m\u001b[0m\n\u001b[0m\u001b[1;32m     34\u001b[0m \u001b[0mb1\u001b[0m\u001b[0;34m.\u001b[0m\u001b[0mconfirm_booking\u001b[0m\u001b[0;34m(\u001b[0m\u001b[0;34m\"peter\"\u001b[0m\u001b[0;34m)\u001b[0m\u001b[0;34m\u001b[0m\u001b[0;34m\u001b[0m\u001b[0m\n\u001b[1;32m     35\u001b[0m \u001b[0mb3\u001b[0m\u001b[0;34m.\u001b[0m\u001b[0mconfirm_booking\u001b[0m\u001b[0;34m(\u001b[0m\u001b[0;34m\"harry\"\u001b[0m\u001b[0;34m)\u001b[0m\u001b[0;34m\u001b[0m\u001b[0;34m\u001b[0m\u001b[0m\n",
            "\u001b[0;31mAttributeError\u001b[0m: 'Transport' object has no attribute 'confirm_booking'"
          ]
        }
      ]
    }
  ]
}