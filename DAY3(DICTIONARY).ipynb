{
  "nbformat": 4,
  "nbformat_minor": 0,
  "metadata": {
    "colab": {
      "provenance": [],
      "authorship_tag": "ABX9TyMEgDTEPPG9TxwLLGtKnm5W",
      "include_colab_link": true
    },
    "kernelspec": {
      "name": "python3",
      "display_name": "Python 3"
    },
    "language_info": {
      "name": "python"
    }
  },
  "cells": [
    {
      "cell_type": "markdown",
      "metadata": {
        "id": "view-in-github",
        "colab_type": "text"
      },
      "source": [
        "<a href=\"https://colab.research.google.com/github/student-jashan/myrepo/blob/main/DAY3(DICTIONARY).ipynb\" target=\"_parent\"><img src=\"https://colab.research.google.com/assets/colab-badge.svg\" alt=\"Open In Colab\"/></a>"
      ]
    },
    {
      "cell_type": "markdown",
      "source": [
        "**8 June 2024**\n",
        "\n",
        "TOPICS:\n",
        "\n",
        "**DICTIONARY**\n",
        "\n",
        "**SETS**\n",
        "\n"
      ],
      "metadata": {
        "id": "i4l4KcLbvnZl"
      }
    },
    {
      "cell_type": "markdown",
      "source": [
        "1. You have a dictionary representing the inventory of a store with item names as keys and quantities as values. Add a new item to the inventory with a specific quantity."
      ],
      "metadata": {
        "id": "t-Snj2iHqXVy"
      }
    },
    {
      "cell_type": "code",
      "execution_count": null,
      "metadata": {
        "id": "3ZxveOKpJXIa",
        "colab": {
          "base_uri": "https://localhost:8080/"
        },
        "outputId": "bdbd0e76-6f66-486d-922b-6e2ffeb1227b"
      },
      "outputs": [
        {
          "output_type": "stream",
          "name": "stdout",
          "text": [
            "{'pen': 20, 'pencils': 30, 'notebooks': 40, 'eraser': 20}\n"
          ]
        }
      ],
      "source": [
        "inventory={'pen':20,'pencils':30,'notebooks':40}\n",
        "inventory['eraser']=20\n",
        "\n",
        "print(inventory)\n"
      ]
    },
    {
      "cell_type": "markdown",
      "source": [
        "2. Given a dictionary of student names and their scores, find the score of a particular student.\n"
      ],
      "metadata": {
        "id": "irflpsQNqgv2"
      }
    },
    {
      "cell_type": "code",
      "source": [
        "student={'Raj':85,'kajal':88,'Deep':80}\n",
        "print(student.get('kajal'))"
      ],
      "metadata": {
        "colab": {
          "base_uri": "https://localhost:8080/"
        },
        "id": "7xjgbTSjMVWU",
        "outputId": "6834db2d-4651-42bf-e344-9878a14e8320"
      },
      "execution_count": null,
      "outputs": [
        {
          "output_type": "stream",
          "name": "stdout",
          "text": [
            "88\n"
          ]
        }
      ]
    },
    {
      "cell_type": "markdown",
      "source": [
        "3. You have a dictionary of country names as keys and their capitals as values. Update the capital of a specific country"
      ],
      "metadata": {
        "id": "0hQlCWM8ql50"
      }
    },
    {
      "cell_type": "code",
      "source": [
        "country={'India':'New Delhi','France':'Paris','ShriLanka':'Kabul'}\n",
        "new={'Shri Lanka':'Colombo'}\n",
        "country.update(new)\n",
        "print(country)\n"
      ],
      "metadata": {
        "colab": {
          "base_uri": "https://localhost:8080/"
        },
        "id": "UsrHp5zabZ9Y",
        "outputId": "2fd30b9a-b6d3-46a1-d7d2-cd0ffc2ea038"
      },
      "execution_count": null,
      "outputs": [
        {
          "output_type": "stream",
          "name": "stdout",
          "text": [
            "{'India': 'New Delhi', 'France': 'Paris', 'ShriLanka': 'Kabul', 'Shri Lanka': 'Colombo'}\n"
          ]
        }
      ]
    },
    {
      "cell_type": "markdown",
      "source": [
        "4. Given a dictionary of product prices with product names as keys, remove a product from the dictionary"
      ],
      "metadata": {
        "id": "lxZ1aqNIqquw"
      }
    },
    {
      "cell_type": "code",
      "source": [
        "stationary_items={'pen':'20 Rs','pencils':'5 Rs','Notebook':'50 Rs'}\n",
        "stationary_items.pop('pencils')\n",
        "print(stationary_items)"
      ],
      "metadata": {
        "colab": {
          "base_uri": "https://localhost:8080/"
        },
        "id": "dl-Z_XyQdi4o",
        "outputId": "4a2f6de5-ba24-4867-a9fd-0869aa811cf8"
      },
      "execution_count": null,
      "outputs": [
        {
          "output_type": "stream",
          "name": "stdout",
          "text": [
            "{'pen': '20 Rs', 'Notebook': '50 Rs'}\n"
          ]
        }
      ]
    },
    {
      "cell_type": "markdown",
      "source": [
        "5.You have two dictionaries representing two different departments with employee names as keys and their salaries as values. Merge these two dictionaries into one."
      ],
      "metadata": {
        "id": "R8llBx9oqvkR"
      }
    },
    {
      "cell_type": "code",
      "source": [
        "department_cse={'Raj':60000,'Jay':65000,'Nikhil':68000}\n",
        "department_it={'Diviya':63000,'Raha':59000,'kajal':69000}\n",
        "merge={**department_cse,**department_it}\n",
        "print(merge)\n"
      ],
      "metadata": {
        "colab": {
          "base_uri": "https://localhost:8080/"
        },
        "id": "cDsWW-nYeUX6",
        "outputId": "d7cf7a2f-85aa-402e-a2c4-6790ca2420b2"
      },
      "execution_count": null,
      "outputs": [
        {
          "output_type": "stream",
          "name": "stdout",
          "text": [
            "{'Raj': 60000, 'Jay': 65000, 'Nikhil': 68000, 'Diviya': 63000, 'Raha': 59000, 'kajal': 69000}\n"
          ]
        }
      ]
    },
    {
      "cell_type": "markdown",
      "source": [
        "6. Given a dictionary of city names and their populations, check if a particular city is in the dictionary."
      ],
      "metadata": {
        "id": "MHc-Yxbfq0pA"
      }
    },
    {
      "cell_type": "code",
      "source": [
        "cities={\"New York\":8765431,\"San Antonio\":1543287,\"Houston\":2387652}\n",
        "cities_name=\"San Antonio\"\n",
        "if cities_name in cities:\n",
        "  population=cities[cities_name]\n",
        "  print(population)\n",
        "else:\n",
        "  print(\"no\")"
      ],
      "metadata": {
        "colab": {
          "base_uri": "https://localhost:8080/"
        },
        "id": "O2gSOKSDm1of",
        "outputId": "dea150e1-e72a-4941-c702-9ea671b09391"
      },
      "execution_count": null,
      "outputs": [
        {
          "output_type": "stream",
          "name": "stdout",
          "text": [
            "1543287\n"
          ]
        }
      ]
    },
    {
      "cell_type": "markdown",
      "source": [
        "7. You have a dictionary of book titles as keys and their authors as values. Add multiple new books to the dictionary at once."
      ],
      "metadata": {
        "id": "_MowIcGaq-e6"
      }
    },
    {
      "cell_type": "code",
      "source": [
        "books={\"To kill a Mockingbird\":'Harper Lee',\"The Great Gatsby\":\"F.Scott Fitzgerald\"}\n",
        "new_books ={\"Pride and Prejudice\":'Jane Austen',\"The Lord of Rings\":'J.R.R Tolklien'}\n",
        "books.update(new_books)\n",
        "books"
      ],
      "metadata": {
        "colab": {
          "base_uri": "https://localhost:8080/"
        },
        "id": "yBxp0oqpnAbz",
        "outputId": "b3d9eef9-078f-415c-d50f-99b4232cd7f3"
      },
      "execution_count": null,
      "outputs": [
        {
          "output_type": "execute_result",
          "data": {
            "text/plain": [
              "{'To kill a Mockingbird': 'Harper Lee',\n",
              " 'The Great Gatsby': 'F.Scott Fitzgerald',\n",
              " 'Pride and Prejudice': 'Jane Austen',\n",
              " 'The Lord of Rings': 'J.R.R Tolklien'}"
            ]
          },
          "metadata": {},
          "execution_count": 22
        }
      ]
    },
    {
      "cell_type": "markdown",
      "source": [
        "8. Given a dictionary of students' names and their grades, find the student with the highest grade."
      ],
      "metadata": {
        "id": "a5blEJUzrE-K"
      }
    },
    {
      "cell_type": "code",
      "source": [
        "student={'Raj':85,'kajal':88,'Deep':80}\n",
        "highest_grade=max(student)\n",
        "print(highest_grade)"
      ],
      "metadata": {
        "colab": {
          "base_uri": "https://localhost:8080/"
        },
        "id": "gW5hhn_XoOtS",
        "outputId": "0d8885e7-99d2-40cd-cea4-7ef333715013"
      },
      "execution_count": null,
      "outputs": [
        {
          "output_type": "stream",
          "name": "stdout",
          "text": [
            "kajal\n"
          ]
        }
      ]
    },
    {
      "cell_type": "markdown",
      "source": [
        "9.You have a dictionary representing a phone book with names as keys and phone numbers as values. Remove a contact from the phone book"
      ],
      "metadata": {
        "id": "eeFFPA0PrJpS"
      }
    },
    {
      "cell_type": "code",
      "source": [
        "student={'Raj':9876543212,'kajal':9867343488,'Deep':9801234560}\n",
        "student.pop('kajal')\n",
        "print(student)"
      ],
      "metadata": {
        "colab": {
          "base_uri": "https://localhost:8080/"
        },
        "id": "3VnaLOgBokh5",
        "outputId": "e6e4bc3b-556a-47e4-e9ce-d0396260d4de"
      },
      "execution_count": null,
      "outputs": [
        {
          "output_type": "stream",
          "name": "stdout",
          "text": [
            "{'Raj': 9876543212, 'Deep': 9801234560}\n"
          ]
        }
      ]
    },
    {
      "cell_type": "markdown",
      "source": [
        "10. You have a dictionary of employee IDs as keys and their names as values. Update the name of an employee given their ID"
      ],
      "metadata": {
        "id": "B4PPxPiHrO9F"
      }
    },
    {
      "cell_type": "code",
      "source": [
        "employee={1:\"RAJ\", 2:\"DIVYA\",3:\"DIYA\"}\n",
        "employee_id=2\n",
        "new_name=\"MANAV\"\n",
        "if employee_id in employee:\n",
        "  employee[employee_id]=new_name\n",
        "  print(f\"updated value {employee_id}'s name to {new_name}\")\n",
        "else:\n",
        "  print(f\"employee id {employee_id} not found\")\n",
        "print(employee)"
      ],
      "metadata": {
        "colab": {
          "base_uri": "https://localhost:8080/"
        },
        "id": "YFXkQz3Nrm05",
        "outputId": "0e5c3411-5527-4d1d-be7c-892094e4dc1d"
      },
      "execution_count": null,
      "outputs": [
        {
          "output_type": "stream",
          "name": "stdout",
          "text": [
            "updated value 2's name to MANAV\n",
            "{1: 'RAJ', 2: 'MANAV', 3: 'DIYA'}\n"
          ]
        }
      ]
    },
    {
      "cell_type": "markdown",
      "source": [
        "**SETS**\n",
        "\n",
        "1. You have two sets representing students enrolled in Math and Science classes. Find the set of students who are enrolled in both classes."
      ],
      "metadata": {
        "id": "HCB_HQjLixBN"
      }
    },
    {
      "cell_type": "code",
      "source": [
        "student_maths={\"Ram\",\"Jay\",\"Dev\",\"Ishan\"}\n",
        "student_science={\"Vijay\",\"Raman\",\"Deep\",\"Manju\"}\n",
        "student_maths.union(student_science)"
      ],
      "metadata": {
        "colab": {
          "base_uri": "https://localhost:8080/"
        },
        "id": "hxb1W5Mwi6aZ",
        "outputId": "8aa7ac75-deed-48b3-fa0c-2b714494c9bb"
      },
      "execution_count": 1,
      "outputs": [
        {
          "output_type": "execute_result",
          "data": {
            "text/plain": [
              "{'Deep', 'Dev', 'Ishan', 'Jay', 'Manju', 'Ram', 'Raman', 'Vijay'}"
            ]
          },
          "metadata": {},
          "execution_count": 1
        }
      ]
    },
    {
      "cell_type": "markdown",
      "source": [
        "2. Given a set of unique employee IDs, add a new employee ID to the set"
      ],
      "metadata": {
        "id": "lAl1Nd8gi_GT"
      }
    },
    {
      "cell_type": "code",
      "source": [
        "from ast import Add\n",
        "#unique employee id also add new id to it\n",
        "unique_id={345,234,566,677}\n",
        "print(unique_id)\n",
        "unique_id.add(456)\n",
        "print(unique_id)"
      ],
      "metadata": {
        "id": "2iZc_wdajCfm"
      },
      "execution_count": null,
      "outputs": []
    },
    {
      "cell_type": "markdown",
      "source": [
        "3. You are managing two different projects and have two sets representing the team members for each project. Find the set of team members who are working on either project or both projects.\n"
      ],
      "metadata": {
        "id": "D6CXWqKjjGj2"
      }
    },
    {
      "cell_type": "code",
      "source": [
        "project1={\"Ram\",\"Jay\",\"Dev\",\"Ishan\"}\n",
        "project2={\"Vijay\",\"Raman\",\"Deep\",\"Manju\",\"Dev\",\"Ishan\"}\n",
        "team_work_on_either_project=project1.union(project2)\n",
        "print(team_work_on_either_project)"
      ],
      "metadata": {
        "id": "31yohIF8jJjY"
      },
      "execution_count": null,
      "outputs": []
    },
    {
      "cell_type": "markdown",
      "source": [
        "4. Given two sets of product IDs, one representing products in stock and the other representing products that have been sold, find the set of products that are still in stock.\n"
      ],
      "metadata": {
        "id": "mqFVlICPjL95"
      }
    },
    {
      "cell_type": "code",
      "source": [
        "product_present_stock={\"product A\",\"product B\",\"product D\"}\n",
        "product_sold={\"product C\", \"product D\"}\n",
        "update=product_present_stock.difference(product_sold)\n",
        "print(update)"
      ],
      "metadata": {
        "id": "HP_LY0GWjPXA"
      },
      "execution_count": null,
      "outputs": []
    },
    {
      "cell_type": "markdown",
      "source": [
        "6. You have a set of registered conference attendees. Check if a particular person is registered."
      ],
      "metadata": {
        "id": "qpSw_qdrjSEK"
      }
    },
    {
      "cell_type": "code",
      "source": [
        "regested={\"Ram\",\"Jay\",\"Dev\",\"Ishan\"}\n",
        "to_check_person={\"Dev\"}\n",
        "to_check_person.issubset(regested)"
      ],
      "metadata": {
        "id": "GgHlNLH-jVz1"
      },
      "execution_count": null,
      "outputs": []
    },
    {
      "cell_type": "markdown",
      "source": [
        "7. Given two sets of book titles, one representing books available in the library and the other representing books borrowed by students, find the set of books that are not currently available in the library."
      ],
      "metadata": {
        "id": "x2vX_BckjYIb"
      }
    },
    {
      "cell_type": "code",
      "source": [
        "books_in_library={\"The Marchant\",\"On friendship\",\"The Great Indian's\",\"The World\"}\n",
        "books_borrowed={\"The Great Indian's\",\"The World\"}\n",
        "\n",
        "not_present_in_library=books_in_library.intersection(books_borrowed)\n",
        "print(not_present_in_library)"
      ],
      "metadata": {
        "id": "yj76fcHzjayL"
      },
      "execution_count": null,
      "outputs": []
    },
    {
      "cell_type": "markdown",
      "source": [
        "8. You have a set of unique tags assigned to a blog post. Add multiple new tags to the set at once.\n"
      ],
      "metadata": {
        "id": "RIm1MR3kjeF3"
      }
    },
    {
      "cell_type": "code",
      "source": [
        "available_tags={\"Python\",\"Artifical Intelligence\",\"Data Science\"}\n",
        "new_tags={\"Data Anylsis\",\"Data Structure\"}\n",
        "available_tags.update(new_tags)\n",
        "print(available_tags)"
      ],
      "metadata": {
        "id": "eI4-hlKXjh4s"
      },
      "execution_count": null,
      "outputs": []
    },
    {
      "cell_type": "markdown",
      "source": [
        "9. Given a set of employee skills and another set of skills required for a new project, find the set of skills that need to be acquired or improved."
      ],
      "metadata": {
        "id": "lTxo472ijkNH"
      }
    },
    {
      "cell_type": "code",
      "source": [
        "empolyee_skills={\"Team Management\",\"Communication\",\"Problem solving\"}\n",
        "new_skills={\"leadership\",\"Adaptability\"}\n",
        "update=empolyee_skills.union(new_skills)\n",
        "print(update)"
      ],
      "metadata": {
        "id": "q3-wReQSjnQr"
      },
      "execution_count": null,
      "outputs": []
    },
    {
      "cell_type": "markdown",
      "source": [
        "10. You have two sets of favorite movies from two different friends. Find the set of movies that are favorite to at least one of them but not both."
      ],
      "metadata": {
        "id": "OYq4jFr7jqjF"
      }
    },
    {
      "cell_type": "code",
      "source": [
        "favourite_movie1={\"Lost\",\"Khmoshi\",\"Gaslight\",\"1920\"}\n",
        "favourite_movie2={\"Pari\",\"1920\",\"Dybbuk\"}\n",
        "update=favourite_movie1.intersection(favourite_movie2)\n",
        "print(update)"
      ],
      "metadata": {
        "id": "_ZSe5LGLjtxG"
      },
      "execution_count": null,
      "outputs": []
    },
    {
      "cell_type": "markdown",
      "source": [
        "11. Given two sets representing the collection of books in two different libraries, find the set of books that are available in both libraries."
      ],
      "metadata": {
        "id": "2v1vjFSkjz7U"
      }
    },
    {
      "cell_type": "code",
      "source": [
        "books_in_library1={\"Python\",\"Artifical Intelligence\",\"Data Science\"}\n",
        "books_in_library2={\"Digital Marketing\",\"Graphic Desigining\",\"Data Structure and Algorithms\"}\n",
        "total_available=books_in_library1|books_in_library2\n",
        "print(total_available)"
      ],
      "metadata": {
        "id": "nsJc6IQtj07E"
      },
      "execution_count": null,
      "outputs": []
    }
  ]
}