{
  "nbformat": 4,
  "nbformat_minor": 0,
  "metadata": {
    "colab": {
      "provenance": [],
      "authorship_tag": "ABX9TyOHkf9bEjS5PIDtb8NoOEdS",
      "include_colab_link": true
    },
    "kernelspec": {
      "name": "python3",
      "display_name": "Python 3"
    },
    "language_info": {
      "name": "python"
    }
  },
  "cells": [
    {
      "cell_type": "markdown",
      "metadata": {
        "id": "view-in-github",
        "colab_type": "text"
      },
      "source": [
        "<a href=\"https://colab.research.google.com/github/student-jashan/myrepo/blob/main/DAY3(DICTIONARY).ipynb\" target=\"_parent\"><img src=\"https://colab.research.google.com/assets/colab-badge.svg\" alt=\"Open In Colab\"/></a>"
      ]
    },
    {
      "cell_type": "markdown",
      "source": [
        "1. You have a dictionary representing the inventory of a store with item names as keys and quantities as values. Add a new item to the inventory with a specific quantity."
      ],
      "metadata": {
        "id": "t-Snj2iHqXVy"
      }
    },
    {
      "cell_type": "code",
      "execution_count": null,
      "metadata": {
        "id": "3ZxveOKpJXIa",
        "colab": {
          "base_uri": "https://localhost:8080/"
        },
        "outputId": "bdbd0e76-6f66-486d-922b-6e2ffeb1227b"
      },
      "outputs": [
        {
          "output_type": "stream",
          "name": "stdout",
          "text": [
            "{'pen': 20, 'pencils': 30, 'notebooks': 40, 'eraser': 20}\n"
          ]
        }
      ],
      "source": [
        "inventory={'pen':20,'pencils':30,'notebooks':40}\n",
        "inventory['eraser']=20\n",
        "\n",
        "print(inventory)\n"
      ]
    },
    {
      "cell_type": "markdown",
      "source": [
        "2. Given a dictionary of student names and their scores, find the score of a particular student.\n"
      ],
      "metadata": {
        "id": "irflpsQNqgv2"
      }
    },
    {
      "cell_type": "code",
      "source": [
        "student={'Raj':85,'kajal':88,'Deep':80}\n",
        "print(student.get('kajal'))"
      ],
      "metadata": {
        "colab": {
          "base_uri": "https://localhost:8080/"
        },
        "id": "7xjgbTSjMVWU",
        "outputId": "6834db2d-4651-42bf-e344-9878a14e8320"
      },
      "execution_count": null,
      "outputs": [
        {
          "output_type": "stream",
          "name": "stdout",
          "text": [
            "88\n"
          ]
        }
      ]
    },
    {
      "cell_type": "markdown",
      "source": [
        "3. You have a dictionary of country names as keys and their capitals as values. Update the capital of a specific country"
      ],
      "metadata": {
        "id": "0hQlCWM8ql50"
      }
    },
    {
      "cell_type": "code",
      "source": [
        "country={'India':'New Delhi','France':'Paris','ShriLanka':'Kabul'}\n",
        "new={'Shri Lanka':'Colombo'}\n",
        "country.update(new)\n",
        "print(country)\n"
      ],
      "metadata": {
        "colab": {
          "base_uri": "https://localhost:8080/"
        },
        "id": "UsrHp5zabZ9Y",
        "outputId": "2fd30b9a-b6d3-46a1-d7d2-cd0ffc2ea038"
      },
      "execution_count": null,
      "outputs": [
        {
          "output_type": "stream",
          "name": "stdout",
          "text": [
            "{'India': 'New Delhi', 'France': 'Paris', 'ShriLanka': 'Kabul', 'Shri Lanka': 'Colombo'}\n"
          ]
        }
      ]
    },
    {
      "cell_type": "markdown",
      "source": [
        "4. Given a dictionary of product prices with product names as keys, remove a product from the dictionary"
      ],
      "metadata": {
        "id": "lxZ1aqNIqquw"
      }
    },
    {
      "cell_type": "code",
      "source": [
        "stationary_items={'pen':'20 Rs','pencils':'5 Rs','Notebook':'50 Rs'}\n",
        "stationary_items.pop('pencils')\n",
        "print(stationary_items)"
      ],
      "metadata": {
        "colab": {
          "base_uri": "https://localhost:8080/"
        },
        "id": "dl-Z_XyQdi4o",
        "outputId": "4a2f6de5-ba24-4867-a9fd-0869aa811cf8"
      },
      "execution_count": null,
      "outputs": [
        {
          "output_type": "stream",
          "name": "stdout",
          "text": [
            "{'pen': '20 Rs', 'Notebook': '50 Rs'}\n"
          ]
        }
      ]
    },
    {
      "cell_type": "markdown",
      "source": [
        "5.You have two dictionaries representing two different departments with employee names as keys and their salaries as values. Merge these two dictionaries into one."
      ],
      "metadata": {
        "id": "R8llBx9oqvkR"
      }
    },
    {
      "cell_type": "code",
      "source": [
        "department_cse={'Raj':60000,'Jay':65000,'Nikhil':68000}\n",
        "department_it={'Diviya':63000,'Raha':59000,'kajal':69000}\n",
        "merge={**department_cse,**department_it}\n",
        "print(merge)\n"
      ],
      "metadata": {
        "colab": {
          "base_uri": "https://localhost:8080/"
        },
        "id": "cDsWW-nYeUX6",
        "outputId": "d7cf7a2f-85aa-402e-a2c4-6790ca2420b2"
      },
      "execution_count": null,
      "outputs": [
        {
          "output_type": "stream",
          "name": "stdout",
          "text": [
            "{'Raj': 60000, 'Jay': 65000, 'Nikhil': 68000, 'Diviya': 63000, 'Raha': 59000, 'kajal': 69000}\n"
          ]
        }
      ]
    },
    {
      "cell_type": "markdown",
      "source": [
        "6. Given a dictionary of city names and their populations, check if a particular city is in the dictionary."
      ],
      "metadata": {
        "id": "MHc-Yxbfq0pA"
      }
    },
    {
      "cell_type": "code",
      "source": [
        "cities={\"New York\":8765431,\"San Antonio\":1543287,\"Houston\":2387652}\n",
        "cities_name=\"San Antonio\"\n",
        "if cities_name in cities:\n",
        "  population=cities[cities_name]\n",
        "  print(population)\n",
        "else:\n",
        "  print(\"no\")"
      ],
      "metadata": {
        "colab": {
          "base_uri": "https://localhost:8080/"
        },
        "id": "O2gSOKSDm1of",
        "outputId": "dea150e1-e72a-4941-c702-9ea671b09391"
      },
      "execution_count": null,
      "outputs": [
        {
          "output_type": "stream",
          "name": "stdout",
          "text": [
            "1543287\n"
          ]
        }
      ]
    },
    {
      "cell_type": "markdown",
      "source": [
        "7. You have a dictionary of book titles as keys and their authors as values. Add multiple new books to the dictionary at once."
      ],
      "metadata": {
        "id": "_MowIcGaq-e6"
      }
    },
    {
      "cell_type": "code",
      "source": [
        "books={\"To kill a Mockingbird\":'Harper Lee',\"The Great Gatsby\":\"F.Scott Fitzgerald\"}\n",
        "new_books ={\"Pride and Prejudice\":'Jane Austen',\"The Lord of Rings\":'J.R.R Tolklien'}\n",
        "books.update(new_books)\n",
        "books"
      ],
      "metadata": {
        "colab": {
          "base_uri": "https://localhost:8080/"
        },
        "id": "yBxp0oqpnAbz",
        "outputId": "b3d9eef9-078f-415c-d50f-99b4232cd7f3"
      },
      "execution_count": null,
      "outputs": [
        {
          "output_type": "execute_result",
          "data": {
            "text/plain": [
              "{'To kill a Mockingbird': 'Harper Lee',\n",
              " 'The Great Gatsby': 'F.Scott Fitzgerald',\n",
              " 'Pride and Prejudice': 'Jane Austen',\n",
              " 'The Lord of Rings': 'J.R.R Tolklien'}"
            ]
          },
          "metadata": {},
          "execution_count": 22
        }
      ]
    },
    {
      "cell_type": "markdown",
      "source": [
        "8. Given a dictionary of students' names and their grades, find the student with the highest grade."
      ],
      "metadata": {
        "id": "a5blEJUzrE-K"
      }
    },
    {
      "cell_type": "code",
      "source": [
        "student={'Raj':85,'kajal':88,'Deep':80}\n",
        "highest_grade=max(student)\n",
        "print(highest_grade)"
      ],
      "metadata": {
        "colab": {
          "base_uri": "https://localhost:8080/"
        },
        "id": "gW5hhn_XoOtS",
        "outputId": "0d8885e7-99d2-40cd-cea4-7ef333715013"
      },
      "execution_count": null,
      "outputs": [
        {
          "output_type": "stream",
          "name": "stdout",
          "text": [
            "kajal\n"
          ]
        }
      ]
    },
    {
      "cell_type": "markdown",
      "source": [
        "9.You have a dictionary representing a phone book with names as keys and phone numbers as values. Remove a contact from the phone book"
      ],
      "metadata": {
        "id": "eeFFPA0PrJpS"
      }
    },
    {
      "cell_type": "code",
      "source": [
        "student={'Raj':9876543212,'kajal':9867343488,'Deep':9801234560}\n",
        "student.pop('kajal')\n",
        "print(student)"
      ],
      "metadata": {
        "colab": {
          "base_uri": "https://localhost:8080/"
        },
        "id": "3VnaLOgBokh5",
        "outputId": "e6e4bc3b-556a-47e4-e9ce-d0396260d4de"
      },
      "execution_count": null,
      "outputs": [
        {
          "output_type": "stream",
          "name": "stdout",
          "text": [
            "{'Raj': 9876543212, 'Deep': 9801234560}\n"
          ]
        }
      ]
    },
    {
      "cell_type": "markdown",
      "source": [
        "10. You have a dictionary of employee IDs as keys and their names as values. Update the name of an employee given their ID"
      ],
      "metadata": {
        "id": "B4PPxPiHrO9F"
      }
    },
    {
      "cell_type": "code",
      "source": [
        "employee={1:\"RAJ\", 2:\"DIVYA\",3:\"DIYA\"}\n",
        "employee_id=2\n",
        "new_name=\"MANAV\"\n",
        "if employee_id in employee:\n",
        "  employee[employee_id]=new_name\n",
        "  print(f\"updated value {employee_id}'s name to {new_name}\")\n",
        "else:\n",
        "  print(f\"employee id {employee_id} not found\")\n",
        "print(employee)"
      ],
      "metadata": {
        "colab": {
          "base_uri": "https://localhost:8080/"
        },
        "id": "YFXkQz3Nrm05",
        "outputId": "0e5c3411-5527-4d1d-be7c-892094e4dc1d"
      },
      "execution_count": 6,
      "outputs": [
        {
          "output_type": "stream",
          "name": "stdout",
          "text": [
            "updated value 2's name to MANAV\n",
            "{1: 'RAJ', 2: 'MANAV', 3: 'DIYA'}\n"
          ]
        }
      ]
    }
  ]
}