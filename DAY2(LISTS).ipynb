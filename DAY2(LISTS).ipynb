{
  "nbformat": 4,
  "nbformat_minor": 0,
  "metadata": {
    "colab": {
      "provenance": [],
      "authorship_tag": "ABX9TyOW9Q48o8YqWcMyfuIY+VhI",
      "include_colab_link": true
    },
    "kernelspec": {
      "name": "python3",
      "display_name": "Python 3"
    },
    "language_info": {
      "name": "python"
    }
  },
  "cells": [
    {
      "cell_type": "markdown",
      "metadata": {
        "id": "view-in-github",
        "colab_type": "text"
      },
      "source": [
        "<a href=\"https://colab.research.google.com/github/student-jashan/myrepo/blob/main/DAY2(LISTS).ipynb\" target=\"_parent\"><img src=\"https://colab.research.google.com/assets/colab-badge.svg\" alt=\"Open In Colab\"/></a>"
      ]
    },
    {
      "cell_type": "markdown",
      "source": [
        "1.colors = ['red', 'blue', 'green', 'yellow']\n",
        "\n",
        "Using the colors list defined above, print the:\n",
        "\n",
        "First element, Second element, Last element, Second-to-last element, Second and third elements, Element at index 4."
      ],
      "metadata": {
        "id": "0bkJ3nVuShWy"
      }
    },
    {
      "cell_type": "code",
      "execution_count": null,
      "metadata": {
        "colab": {
          "base_uri": "https://localhost:8080/"
        },
        "id": "sS3Gnir6Xy2M",
        "outputId": "536167d1-9e44-403a-c154-b5727acd7d6c"
      },
      "outputs": [
        {
          "output_type": "stream",
          "name": "stdout",
          "text": [
            "['red']\n"
          ]
        }
      ],
      "source": [
        "#print first element of the list\n",
        "color=['red','blue','green','yellow']\n",
        "num=color[:1]\n",
        "print(num)"
      ]
    },
    {
      "cell_type": "code",
      "source": [
        "#print second element of the list\n",
        "num=color[1:2]\n",
        "print(num)"
      ],
      "metadata": {
        "colab": {
          "base_uri": "https://localhost:8080/"
        },
        "id": "LlZYpf63YKMv",
        "outputId": "882d680a-f0b2-4c0c-89fb-da9ddc2023c1"
      },
      "execution_count": null,
      "outputs": [
        {
          "output_type": "stream",
          "name": "stdout",
          "text": [
            "['blue']\n"
          ]
        }
      ]
    },
    {
      "cell_type": "code",
      "source": [
        "#print last element of the list\n",
        "num=color[-1:]\n",
        "print(num)"
      ],
      "metadata": {
        "colab": {
          "base_uri": "https://localhost:8080/"
        },
        "id": "sF0FsY0IYY-U",
        "outputId": "64cf2b4a-c798-4779-ab52-d3d4a6fa5dab"
      },
      "execution_count": null,
      "outputs": [
        {
          "output_type": "stream",
          "name": "stdout",
          "text": [
            "['yellow']\n"
          ]
        }
      ]
    },
    {
      "cell_type": "code",
      "source": [
        "#print second-to-last element of the list\n",
        "num=color[1:4]\n",
        "print(num)"
      ],
      "metadata": {
        "colab": {
          "base_uri": "https://localhost:8080/"
        },
        "id": "IwL89r4BZBFi",
        "outputId": "051edfb1-d642-4232-cea6-83bf718ad2a4"
      },
      "execution_count": null,
      "outputs": [
        {
          "output_type": "stream",
          "name": "stdout",
          "text": [
            "['blue', 'green', 'yellow']\n"
          ]
        }
      ]
    },
    {
      "cell_type": "code",
      "source": [
        "#print second and third element of the list\n",
        "num=color[1:3]\n",
        "print(num)"
      ],
      "metadata": {
        "colab": {
          "base_uri": "https://localhost:8080/"
        },
        "id": "del4P6qFYvEx",
        "outputId": "70dc9720-4567-4b04-e8ae-f3a18e0158a0"
      },
      "execution_count": null,
      "outputs": [
        {
          "output_type": "stream",
          "name": "stdout",
          "text": [
            "['blue', 'green']\n"
          ]
        }
      ]
    },
    {
      "cell_type": "code",
      "source": [
        "#print element at index 4\n",
        "num=color[4:]\n",
        "print(num)"
      ],
      "metadata": {
        "colab": {
          "base_uri": "https://localhost:8080/"
        },
        "id": "XgultINpZMgV",
        "outputId": "73e60ee1-197e-47c7-93ee-76264855a817"
      },
      "execution_count": null,
      "outputs": [
        {
          "output_type": "stream",
          "name": "stdout",
          "text": [
            "[]\n"
          ]
        }
      ]
    },
    {
      "cell_type": "markdown",
      "source": [
        "2. Below is a list with seven integer values representing the daily water level (in cm) in an imaginary lake. However, there is a mistake in the data. The third day’s water level should be 693. Correct the mistake and print the changed list.\n",
        "\n",
        "water_level = [730, 709, 682, 712, 733, 751, 740]"
      ],
      "metadata": {
        "id": "EN3_MZgHS7Yk"
      }
    },
    {
      "cell_type": "code",
      "source": [
        "#On third day there should 693 print update value\n",
        "water_level=[730,709,682,712,733,751,740]\n",
        "water_level.pop(2)\n",
        "water_level.insert(2,693)\n",
        "water_level\n",
        "\n"
      ],
      "metadata": {
        "colab": {
          "base_uri": "https://localhost:8080/"
        },
        "id": "wZg6pMXgaCIZ",
        "outputId": "13831c72-3430-4cc0-dd9c-72899aa466ef"
      },
      "execution_count": null,
      "outputs": [
        {
          "output_type": "execute_result",
          "data": {
            "text/plain": [
              "[730, 709, 693, 712, 733, 751, 740]"
            ]
          },
          "metadata": {},
          "execution_count": 19
        }
      ]
    },
    {
      "cell_type": "markdown",
      "source": [
        "3. Add the data for the eighth day to the list from above. The water level was 772 cm on that day."
      ],
      "metadata": {
        "id": "2A5UjLirTfYH"
      }
    },
    {
      "cell_type": "code",
      "source": [
        "#On eighth day there shoould be 772\n",
        "water_level.append(772)\n",
        "water_level"
      ],
      "metadata": {
        "colab": {
          "base_uri": "https://localhost:8080/"
        },
        "id": "Vf8DrBtubx__",
        "outputId": "1a2d5ba7-7f8e-4a92-d71f-4e184fb00a9c"
      },
      "execution_count": null,
      "outputs": [
        {
          "output_type": "execute_result",
          "data": {
            "text/plain": [
              "[730, 709, 693, 712, 733, 751, 740, 772]"
            ]
          },
          "metadata": {},
          "execution_count": 20
        }
      ]
    },
    {
      "cell_type": "code",
      "source": [
        "#delete first element from the list using index number\n",
        "water_level=[730,709,682,712,733,751,740]\n",
        "water_level.pop(0)\n",
        "print(water_level)\n"
      ],
      "metadata": {
        "colab": {
          "base_uri": "https://localhost:8080/"
        },
        "id": "GgNCE-cRcbZ9",
        "outputId": "d0ab6262-fa39-420c-9888-7762edb4b3a2"
      },
      "execution_count": null,
      "outputs": [
        {
          "output_type": "stream",
          "name": "stdout",
          "text": [
            "[709, 682, 712, 733, 751, 740]\n"
          ]
        }
      ]
    },
    {
      "cell_type": "code",
      "source": [
        "#delete first element using its value\n",
        "water_level=[730,709,682,712,733,751,740]\n",
        "water_level.remove(730)\n",
        "print(water_level)"
      ],
      "metadata": {
        "colab": {
          "base_uri": "https://localhost:8080/"
        },
        "id": "1XZ1uIPsfnCG",
        "outputId": "6a57a9fb-abb8-44fb-942c-cdd5c635ae65"
      },
      "execution_count": null,
      "outputs": [
        {
          "output_type": "stream",
          "name": "stdout",
          "text": [
            "[709, 682, 712, 733, 751, 740]\n"
          ]
        }
      ]
    },
    {
      "cell_type": "markdown",
      "source": [
        "6.You are managing the inventory for a small bookstore. Create a list of book titles available in the store. Add new titles to the list as they arrive. If a book is sold out, remove it from the list. Write a function to check if a specific book is in stock.\n",
        "\n"
      ],
      "metadata": {
        "id": "kqAclhw3TNz-"
      }
    },
    {
      "cell_type": "code",
      "source": [
        "#check either the book is present or not in the stock\n",
        "inventory=[\"MOBY DICK\",\"THE GREAT INDIAN'S\",\"ON FRIENDSHIP DAY\"]\n",
        "def check_stock(book_title,inventory):\n",
        "  if book_title in inventory:\n",
        "    return (\"present\")\n",
        "  else:\n",
        "    return (\"not present\")\n",
        "print(check_stock(\"MOBY DICK\",inventory))\n",
        "print(check_stock(\"THE MARSCHANT\",inventory))"
      ],
      "metadata": {
        "colab": {
          "base_uri": "https://localhost:8080/"
        },
        "id": "1IIOeLfHizci",
        "outputId": "8ea6bd73-2a96-4318-9c34-0c36e5a962b5"
      },
      "execution_count": null,
      "outputs": [
        {
          "output_type": "stream",
          "name": "stdout",
          "text": [
            "present\n",
            "not present\n"
          ]
        }
      ]
    },
    {
      "cell_type": "markdown",
      "source": [
        "7.You have a list of grades for a class of students. Write a function to add a new grade to the list. Another function should remove the lowest grade. Write a third function to calculate the average grade.\n"
      ],
      "metadata": {
        "id": "unUNoW_-URrr"
      }
    },
    {
      "cell_type": "code",
      "source": [
        "grades=[83,73,71,67,52]\n",
        "def add_new(grades,new_grade):\n",
        "  grades.extend(new_grade)\n",
        "  return grades\n",
        "new_grade=[96,79]\n",
        "update=add_new(grades,new_grade)\n",
        "print(update)\n",
        "\n",
        "\n",
        "def remove_lowest(grades):\n",
        "  grades.pop(3)\n",
        "  grades.pop(4)\n",
        "  return grades\n",
        "update=remove_lowest(grades)\n",
        "print(update)\n",
        "\n",
        "grades=[83,73,71,67,52]\n",
        "def avg_grade(grades):\n",
        "  if not grades:\n",
        "   return None\n",
        "   return sum(grades)/len(grades)\n",
        "\n",
        "calculate=avg_grade(grades)\n",
        "print(calculate)\n"
      ],
      "metadata": {
        "colab": {
          "base_uri": "https://localhost:8080/"
        },
        "id": "g9KO51Y2mkWP",
        "outputId": "e063af4d-feed-42f6-ee0f-5e6f4b3d5119"
      },
      "execution_count": null,
      "outputs": [
        {
          "output_type": "stream",
          "name": "stdout",
          "text": [
            "[83, 73, 71, 67, 52, 96, 79]\n",
            "[83, 73, 71, 52, 79]\n",
            "None\n"
          ]
        }
      ]
    },
    {
      "cell_type": "markdown",
      "source": [
        "8.Implement a simple to-do list application. Create a list to store tasks. Write functions to add a task, remove a task by its name, and display all tasks. Ensure that the tasks are displayed in the order they were added."
      ],
      "metadata": {
        "id": "CM6nJiPBUXYV"
      }
    },
    {
      "cell_type": "code",
      "source": [
        "tasks=[\"task1\",\"task2\",\"task3\"]\n",
        "def add_task(tasks,new_task):\n",
        "  tasks.extend(new_task)\n",
        "  return tasks\n",
        "new_task=[\"task4\"]\n",
        "add=add_task(tasks,new_task)\n",
        "print(add)\n",
        "\n",
        "def remove(tasks):\n",
        "  tasks.pop(3)\n",
        "  return tasks\n",
        "  update=remove(tasks)\n",
        "  print(update)\n",
        "\n",
        "def update(tasks):\n",
        " print(add)\n"
      ],
      "metadata": {
        "colab": {
          "base_uri": "https://localhost:8080/"
        },
        "id": "gg9-nliIrdh4",
        "outputId": "23351b32-871e-455d-858a-eb38e4eb8e8e"
      },
      "execution_count": null,
      "outputs": [
        {
          "output_type": "stream",
          "name": "stdout",
          "text": [
            "['task1', 'task2', 'task3', 'task4']\n"
          ]
        }
      ]
    },
    {
      "cell_type": "markdown",
      "source": [
        "9.- You are tracking daily temperatures for a month. Create a list to store these temperatures. Write functions to find the highest and lowest temperatures, and to calculate the average temperature for the month."
      ],
      "metadata": {
        "id": "ImjnzPW6UfxT"
      }
    },
    {
      "cell_type": "code",
      "source": [
        "temperatures=[22,23,24,25,26,27,28,29,25,26,22,24,25,23,22,26,22,24,25,23,22,26,22,24,25,23,22,26,22,24,25,27]\n",
        "def temperature_status(tempertaure):\n",
        "   highest_temperature=max(temperatures)\n",
        "   lowest_temperature=min(temperatures)\n",
        "   avg_temperature=sum(temperatures)/len(temperatures)\n",
        "   return highest_temperature,lowest_temperature,avg_temperature\n",
        "   highest,lowest,avg=temperature_status(temperatures)\n",
        "\n",
        "   print(f\"highest_temperature:{highest}degree celsius\")\n",
        "   print(f\"lowest_temperature:{lowest}degree celsius\")\n",
        "   print(f\"avg_temperature:{avg:.2f}degree celsius\")\n",
        "\n"
      ],
      "metadata": {
        "id": "0W1-HZNKu6hV"
      },
      "execution_count": null,
      "outputs": []
    },
    {
      "cell_type": "markdown",
      "source": [
        "10.You are managing a library system. Create a list of books currently borrowed by patrons. Write functions to add a borrowed book, return a book (remove it from the list), and check if a specific book is currently borrowed"
      ],
      "metadata": {
        "id": "qzbc0vkXUpuY"
      }
    },
    {
      "cell_type": "code",
      "source": [
        "borrowed_books = []\n",
        "\n",
        "def add_borrowed_book(book_title):\n",
        "    borrowed_books.append(book_title)\n",
        "\n",
        "def return_book(book_title):\n",
        "    if book_title in borrowed_books:\n",
        "        borrowed_books.remove(book_title)\n",
        "        return True\n",
        "    else:\n",
        "        return False\n",
        "\n",
        "def is_book_borrowed(book_title):\n",
        "    return book_title in borrowed_books\n",
        "\n",
        "add_borrowed_book(\"Harry Potter and the Sorcerer's Stone\")\n",
        "add_borrowed_book(\"The Great Gatsby\")\n",
        "add_borrowed_book(\"To Kill a Mockingbird\")\n",
        "\n",
        "print(\"List of borrowed books:\", borrowed_books)\n",
        "\n",
        "print(\"\\nReturning 'The Great Gatsby'\")\n",
        "return_book(\"The Great Gatsby\")\n",
        "\n",
        "print(\"Is 'To Kill a Mockingbird' borrowed\", is_book_borrowed(\"To Kill a Mockingbird\"))\n",
        "print(\"List of borrowed books after return:\", borrowed_books)"
      ],
      "metadata": {
        "colab": {
          "base_uri": "https://localhost:8080/"
        },
        "id": "qVBNpPu9VTgX",
        "outputId": "5239c6eb-770b-4a06-aae6-3c45254a485a"
      },
      "execution_count": null,
      "outputs": [
        {
          "output_type": "stream",
          "name": "stdout",
          "text": [
            "List of borrowed books: [\"Harry Potter and the Sorcerer's Stone\", 'The Great Gatsby', 'To Kill a Mockingbird']\n",
            "\n",
            "Returning 'The Great Gatsby'\n",
            "Is 'To Kill a Mockingbird' borrowed True\n",
            "List of borrowed books after return: [\"Harry Potter and the Sorcerer's Stone\", 'To Kill a Mockingbird']\n"
          ]
        }
      ]
    }
  ]
}