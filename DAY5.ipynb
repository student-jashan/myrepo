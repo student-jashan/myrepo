{
  "nbformat": 4,
  "nbformat_minor": 0,
  "metadata": {
    "colab": {
      "provenance": [],
      "authorship_tag": "ABX9TyNlCOsLcuJCAbBCnWCLQU/1",
      "include_colab_link": true
    },
    "kernelspec": {
      "name": "python3",
      "display_name": "Python 3"
    },
    "language_info": {
      "name": "python"
    }
  },
  "cells": [
    {
      "cell_type": "markdown",
      "metadata": {
        "id": "view-in-github",
        "colab_type": "text"
      },
      "source": [
        "<a href=\"https://colab.research.google.com/github/student-jashan/myrepo/blob/main/DAY5.ipynb\" target=\"_parent\"><img src=\"https://colab.research.google.com/assets/colab-badge.svg\" alt=\"Open In Colab\"/></a>"
      ]
    },
    {
      "cell_type": "markdown",
      "source": [
        "**CONDITIONAL STATEMENTS**\n"
      ],
      "metadata": {
        "id": "dGRf8rMPrd56"
      }
    },
    {
      "cell_type": "markdown",
      "source": [
        "1.You have a variable age. Write a conditional statement to check if age is greater than or equal to 18. If true, print \"You are an adult\", otherwise print \"You are a minor\"."
      ],
      "metadata": {
        "id": "62DQWpsshzAj"
      }
    },
    {
      "cell_type": "code",
      "source": [
        "age=int(input(\"Enter your age:\"))\n",
        "if age>=18:\n",
        "  print(\"You are an adult\")\n",
        "else:\n",
        "  print(\"You are a minor\")"
      ],
      "metadata": {
        "id": "oJN2TwCTiP-j",
        "colab": {
          "base_uri": "https://localhost:8080/"
        },
        "outputId": "975f835a-765a-40af-964c-d9718501bcc7"
      },
      "execution_count": null,
      "outputs": [
        {
          "output_type": "stream",
          "name": "stdout",
          "text": [
            "Enter your age:23\n",
            "You are an adult\n"
          ]
        }
      ]
    },
    {
      "cell_type": "markdown",
      "source": [
        "2.Given a variable temperature, write a conditional statement to check if temperature is below 0. If true, print \"It's freezing\", otherwise print \"It's not freezing\"."
      ],
      "metadata": {
        "id": "RO4Xwe-nio6F"
      }
    },
    {
      "cell_type": "code",
      "source": [
        "temperature=int(input(\"Enter temperature:\"))\n",
        "if temperature<0:\n",
        "  print(\"it's freezing\")\n",
        "else:\n",
        "  print(\"it's not frreezing\")\n"
      ],
      "metadata": {
        "id": "-q6z4q3tiq2C",
        "colab": {
          "base_uri": "https://localhost:8080/"
        },
        "outputId": "e1b0beca-82bd-41c7-9aff-c7549dd27381"
      },
      "execution_count": null,
      "outputs": [
        {
          "output_type": "stream",
          "name": "stdout",
          "text": [
            "Enter temperature:34\n",
            "it's not frreezing\n"
          ]
        }
      ]
    },
    {
      "cell_type": "markdown",
      "source": [
        "3.You have a variable score. Write a conditional statement to check if score is greater than 90. If true, print \"Grade A\", if score is between 80 and 90, print \"Grade B\", otherwise print \"Grade C\""
      ],
      "metadata": {
        "id": "nf4NsX6GjdA-"
      }
    },
    {
      "cell_type": "code",
      "source": [
        "score=int(input(\"Enter your score:\"))\n",
        "if score>90:\n",
        "  print(\"Grade A\")\n",
        "elif 80<score<90:\n",
        "  print(\"Grade B\")\n",
        "else:\n",
        "  print(\"Grade C\")"
      ],
      "metadata": {
        "id": "JUAUsS59jiK7",
        "colab": {
          "base_uri": "https://localhost:8080/"
        },
        "outputId": "69199c67-5b0b-4656-9ab8-8b4e654f37c0"
      },
      "execution_count": null,
      "outputs": [
        {
          "output_type": "stream",
          "name": "stdout",
          "text": [
            "Enter your score:89\n",
            "Grade B\n"
          ]
        }
      ]
    },
    {
      "cell_type": "markdown",
      "source": [
        "4.Given two variables a and b, write a conditional statement to check if a is equal to b. If true, print \"a and b are equal\", otherwise print \"a and b are not equal\"."
      ],
      "metadata": {
        "id": "cPpPDIbUkDNZ"
      }
    },
    {
      "cell_type": "code",
      "source": [
        "a=6\n",
        "b=7\n",
        "if a==b:\n",
        "  print(\"a and b are equal\")\n",
        "else:\n",
        "  print(\"a and b are not equal\")\n"
      ],
      "metadata": {
        "id": "l_J5PeqXkLLb",
        "colab": {
          "base_uri": "https://localhost:8080/"
        },
        "outputId": "c3861eed-552f-4a3f-c87e-bca101b42a31"
      },
      "execution_count": null,
      "outputs": [
        {
          "output_type": "stream",
          "name": "stdout",
          "text": [
            "a and b are not equal\n"
          ]
        }
      ]
    },
    {
      "cell_type": "markdown",
      "source": [
        "5.You have a variable number. Write a conditional statement to check if number is even or odd. If even, print \"Even number\", otherwise print \"Odd number\"."
      ],
      "metadata": {
        "id": "Kjqh9fH-tB94"
      }
    },
    {
      "cell_type": "code",
      "source": [
        "number=5\n",
        "if number%2==0:\n",
        "  print(\"even number\")\n",
        "else:\n",
        "  print(\"odd number\")"
      ],
      "metadata": {
        "id": "tuJQ6fdEtSV0",
        "colab": {
          "base_uri": "https://localhost:8080/"
        },
        "outputId": "43c39472-9df2-4b58-9871-6e855b2fc87d"
      },
      "execution_count": null,
      "outputs": [
        {
          "output_type": "stream",
          "name": "stdout",
          "text": [
            "odd number\n"
          ]
        }
      ]
    },
    {
      "cell_type": "markdown",
      "source": [
        "6.Given a variable day which can be any day of the week, write a conditional statement to print \"Weekend\" if the day is \"Saturday\" or \"Sunday\", otherwise print \"Weekday\"."
      ],
      "metadata": {
        "id": "c3h5rZe9toVI"
      }
    },
    {
      "cell_type": "code",
      "source": [
        "day=\"Monday\"\n",
        "if day==\"Sunday\" or day==\"Saturday\":\n",
        "  print(\"Weekend\")\n",
        "else:\n",
        "  print(\"Weekday\")"
      ],
      "metadata": {
        "id": "AHb5Uf-ittpp",
        "colab": {
          "base_uri": "https://localhost:8080/"
        },
        "outputId": "f0aadbdc-c0c3-4877-cab6-8dc36bd0a88f"
      },
      "execution_count": null,
      "outputs": [
        {
          "output_type": "stream",
          "name": "stdout",
          "text": [
            "Weekday\n"
          ]
        }
      ]
    },
    {
      "cell_type": "markdown",
      "source": [
        "7.You have a variable marks. Write a conditional statement to check if marks are greater than 75. If true, print \"Distinction\", if marks are between 50 and 75, print \"Pass\", otherwise print \"Fail\""
      ],
      "metadata": {
        "id": "1lbOMStLuSsT"
      }
    },
    {
      "cell_type": "code",
      "source": [
        "marks=86\n",
        "if marks>75:\n",
        "  print(\"Distinction\")\n",
        "elif 50< marks <75:\n",
        "  print(\"Pass\")\n",
        "else:\n",
        "  print(\"Fail\")"
      ],
      "metadata": {
        "id": "tqZ-uFsMvVY4",
        "colab": {
          "base_uri": "https://localhost:8080/"
        },
        "outputId": "065c0ee4-383a-4e5a-db0b-976e269bed4e"
      },
      "execution_count": null,
      "outputs": [
        {
          "output_type": "stream",
          "name": "stdout",
          "text": [
            "Distinction\n"
          ]
        }
      ]
    },
    {
      "cell_type": "markdown",
      "source": [
        "8.Given a variable speed, write a conditional statement to check if speed is greater than 120. If true, print \"Over speed limit\", otherwise print \"Within speed limit\"."
      ],
      "metadata": {
        "id": "1o-6OwV8wPLL"
      }
    },
    {
      "cell_type": "code",
      "source": [
        "speed=160\n",
        "if speed>120:\n",
        "  print(\"Over speed limit\")\n",
        "else:\n",
        "  print(\"Within speed limit\")"
      ],
      "metadata": {
        "id": "ATvezr76wY2F",
        "colab": {
          "base_uri": "https://localhost:8080/"
        },
        "outputId": "294df6fb-273a-461f-fa9c-d8d7985f1c45"
      },
      "execution_count": null,
      "outputs": [
        {
          "output_type": "stream",
          "name": "stdout",
          "text": [
            "Over speed limit\n"
          ]
        }
      ]
    },
    {
      "cell_type": "markdown",
      "source": [
        "9.You have a variable year. Write a conditional statement to check if year is a leap year. If true, print \"Leap year\", otherwise print \"Not a leap year\"."
      ],
      "metadata": {
        "id": "yYfZkR7Aw5jh"
      }
    },
    {
      "cell_type": "code",
      "source": [
        "year=2005\n",
        "if  year%400==0 or year!=100 and year%4==0:\n",
        "    print(\"Leap year\")\n",
        "else:\n",
        "    print(\"not a leap year\")"
      ],
      "metadata": {
        "id": "FXafvSdtxGLv",
        "colab": {
          "base_uri": "https://localhost:8080/"
        },
        "outputId": "668ff532-5962-4a68-f711-a53c1817c2d5"
      },
      "execution_count": null,
      "outputs": [
        {
          "output_type": "stream",
          "name": "stdout",
          "text": [
            "not a leap year\n"
          ]
        }
      ]
    },
    {
      "cell_type": "markdown",
      "source": [
        "10.Given a variable char, write a conditional statement to check if char is a vowel (a, e, i, o, u). If true, print \"Vowel\", otherwise print \"Consonant\"."
      ],
      "metadata": {
        "id": "GPcicDulyh91"
      }
    },
    {
      "cell_type": "code",
      "source": [
        "char=\"aeiou\"\n",
        "if \"e\" in char:\n",
        "  print(\"Vowel\")\n",
        "else:\n",
        "  print(\"Consonant\")"
      ],
      "metadata": {
        "id": "_mXwrrjOyov2",
        "colab": {
          "base_uri": "https://localhost:8080/"
        },
        "outputId": "5f10ab7f-d7e8-41ed-af02-d5fb19f096a5"
      },
      "execution_count": null,
      "outputs": [
        {
          "output_type": "stream",
          "name": "stdout",
          "text": [
            "Vowel\n"
          ]
        }
      ]
    },
    {
      "cell_type": "markdown",
      "source": [
        "11.You have two variables x and y. Write a conditional statement to check if both x and y are positive. If true, print \"Both are positive\", otherwise print \"At least one is not positive\"."
      ],
      "metadata": {
        "id": "Cw4Z9sORy-4B"
      }
    },
    {
      "cell_type": "code",
      "source": [
        "x=4\n",
        "y=8\n",
        "if x>0 and y>0:\n",
        "  print(\"Both are positive\")\n",
        "else:\n",
        "  print(\"At least one is not positive\")"
      ],
      "metadata": {
        "id": "gBg8vFQnzDP1",
        "colab": {
          "base_uri": "https://localhost:8080/"
        },
        "outputId": "63800061-61f3-4faf-f653-c99f62415e4c"
      },
      "execution_count": null,
      "outputs": [
        {
          "output_type": "stream",
          "name": "stdout",
          "text": [
            "Both are positive\n"
          ]
        }
      ]
    },
    {
      "cell_type": "markdown",
      "source": [
        "12.Given a variable time representing the hour of the day in 24-hour format, write a conditional statement to print \"Good morning\" if time is between 6 and 12, \"Good afternoon\" if time is between 12 and 18, and \"Good evening\" if time is between 18 and 24."
      ],
      "metadata": {
        "id": "-woQVs96zYB1"
      }
    },
    {
      "cell_type": "code",
      "source": [
        "time=14\n",
        "if 6<=time<12:\n",
        "  print(\"Good Morning\")\n",
        "elif 12<=time<18:\n",
        "  print(\"Good Afternoon\")\n",
        "else:\n",
        "  print(\"Good Evening\")"
      ],
      "metadata": {
        "id": "td-U-Bc6zfG_",
        "colab": {
          "base_uri": "https://localhost:8080/"
        },
        "outputId": "c14a4d12-5453-4177-9375-0fb61d6a9f6f"
      },
      "execution_count": null,
      "outputs": [
        {
          "output_type": "stream",
          "name": "stdout",
          "text": [
            "Good Afternoon\n"
          ]
        }
      ]
    },
    {
      "cell_type": "markdown",
      "source": [
        "13.You have a variable budget and a variable price. Write a conditional statement to check if budget is greater than or equal to price. If true, print \"Purchase possible\", otherwise print \"Not enough budget\"."
      ],
      "metadata": {
        "id": "5gEKrh7h0DHj"
      }
    },
    {
      "cell_type": "code",
      "source": [
        "budget=400\n",
        "price=650\n",
        "if budget>=price:\n",
        "  print(\"Purchase possible\")\n",
        "else:\n",
        "  print(\"Not enough budget\")"
      ],
      "metadata": {
        "id": "9L8cTEeV0BLn",
        "colab": {
          "base_uri": "https://localhost:8080/"
        },
        "outputId": "510a4f53-70d6-40d7-e50d-d382ff676507"
      },
      "execution_count": null,
      "outputs": [
        {
          "output_type": "stream",
          "name": "stdout",
          "text": [
            "Not enough budget\n"
          ]
        }
      ]
    },
    {
      "cell_type": "markdown",
      "source": [
        "14.Given a variable username, write a conditional statement to check if username is not empty. If true, print \"Username is valid\", otherwise print \"Username cannot be empty\"."
      ],
      "metadata": {
        "id": "4rwSxQmm0fu7"
      }
    },
    {
      "cell_type": "code",
      "source": [
        "username=\"student\"\n",
        "if username!=0:\n",
        "  print(\"Username is valid\")\n",
        "else:\n",
        "  print(\"Username cannot be empty\")"
      ],
      "metadata": {
        "id": "WvW0Hbdj0lyu",
        "colab": {
          "base_uri": "https://localhost:8080/"
        },
        "outputId": "a090ea67-74fc-4328-b0a7-5bd2bb4a8cb6"
      },
      "execution_count": null,
      "outputs": [
        {
          "output_type": "stream",
          "name": "stdout",
          "text": [
            "Username is valid\n"
          ]
        }
      ]
    },
    {
      "cell_type": "markdown",
      "source": [
        "15.You have a variable weight and a variable height. Write a conditional statement to calculate BMI and print \"Underweight\" if BMI is less than 18.5, \"Normal weight\" if BMI is between 18.5 and 24.9, and \"Overweight\" if BMI is 25 or above.\n",
        "\n"
      ],
      "metadata": {
        "id": "BeVdnwym02hD"
      }
    },
    {
      "cell_type": "code",
      "source": [
        "weight=56.5\n",
        "height=1.75\n",
        "BMI=weight/(height **2)\n",
        "if BMI<18.5:\n",
        "  print(\"Underweight\")\n",
        "elif 18.5<=BMI <24.9:\n",
        "  print(\"Normal weight\")\n",
        "else:\n",
        "  print(\"Overweight\")"
      ],
      "metadata": {
        "id": "DfSnlxAX1Bxj",
        "colab": {
          "base_uri": "https://localhost:8080/"
        },
        "outputId": "4f325853-6b0c-474d-96ed-485c9fd1caf0"
      },
      "execution_count": null,
      "outputs": [
        {
          "output_type": "stream",
          "name": "stdout",
          "text": [
            "Underweight\n"
          ]
        }
      ]
    },
    {
      "cell_type": "markdown",
      "source": [
        "16.Given a variable password, write a conditional statement to check if the length of password is greater than or equal to 8. If true, print \"Strong password\", otherwise print \"Weak password\".\n",
        "\n"
      ],
      "metadata": {
        "id": "M9Hkjelw1tOb"
      }
    },
    {
      "cell_type": "code",
      "source": [
        "password=\"itsDeep65%\"\n",
        "if len(password)>=8:\n",
        "  print(\"Strong password\")\n",
        "else:\n",
        "  print(\"Weak password\")\n",
        "\n"
      ],
      "metadata": {
        "id": "ulZwKWMA1yDG",
        "colab": {
          "base_uri": "https://localhost:8080/"
        },
        "outputId": "99804b0f-85f1-4909-a3fe-7f8eb68a465d"
      },
      "execution_count": null,
      "outputs": [
        {
          "output_type": "stream",
          "name": "stdout",
          "text": [
            "Strong password\n"
          ]
        }
      ]
    },
    {
      "cell_type": "markdown",
      "source": [
        "17.You have a variable grade. Write a conditional statement to print \"Excellent\" if grade is 'A', \"Good\" if grade is 'B', \"Average\" if grade is 'C', and \"Poor\" if grade is 'D'.\n",
        "\n",
        "\n"
      ],
      "metadata": {
        "id": "eQwOgkkm2SWY"
      }
    },
    {
      "cell_type": "code",
      "source": [
        "grade=\"B\"\n",
        "if \"A\" in grade:\n",
        "  print(\"Excellent\")\n",
        "elif \"B\" in grade:\n",
        "  print(\"Good\")\n",
        "elif \"C\"in grade:\n",
        "  print(\"Average\")\n",
        "else:\n",
        "  print(\"Poor\")\n"
      ],
      "metadata": {
        "id": "acjswBMc2pbQ",
        "colab": {
          "base_uri": "https://localhost:8080/"
        },
        "outputId": "d1e3b889-a469-4b88-9a0d-020cf01d3242"
      },
      "execution_count": null,
      "outputs": [
        {
          "output_type": "stream",
          "name": "stdout",
          "text": [
            "Good\n"
          ]
        }
      ]
    },
    {
      "cell_type": "markdown",
      "source": [
        "18.Given a variable month, write a conditional statement to check if month is \"December\", \"January\", or \"February\". If true, print \"Winter\", if month is \"June\", \"July\", or \"August\", print \"Summer\", otherwise print \"Other season\"."
      ],
      "metadata": {
        "id": "Ennb9zbKwOEf"
      }
    },
    {
      "cell_type": "code",
      "source": [
        "month=\"June\"\n",
        "if month==\"December\" or month==\"January\" or month==\"February\":\n",
        "  print(\"Winter\")\n",
        "elif month==\"June\"or month==\"July\" or month==\"August\":\n",
        "  print(\"Summer\")\n",
        "else:\n",
        "  print(\"Other season\")"
      ],
      "metadata": {
        "colab": {
          "base_uri": "https://localhost:8080/"
        },
        "id": "5xV9Z7IxwT5e",
        "outputId": "9740d010-b466-4964-b0bf-bbfbd83f2efb"
      },
      "execution_count": null,
      "outputs": [
        {
          "output_type": "stream",
          "name": "stdout",
          "text": [
            "Summer\n"
          ]
        }
      ]
    },
    {
      "cell_type": "markdown",
      "source": [
        "19.You have a variable balance. Write a conditional statement to check if balance is greater than or equal to 1000. If true, print \"Sufficient balance\", otherwise print \"Insufficient balance\""
      ],
      "metadata": {
        "id": "io4HO6GFxBER"
      }
    },
    {
      "cell_type": "code",
      "source": [
        "balance=500\n",
        "if balance>=1000:\n",
        "  print(\"Sufficient balance\")\n",
        "else:\n",
        "  print(\"Insufficient balance \")"
      ],
      "metadata": {
        "colab": {
          "base_uri": "https://localhost:8080/"
        },
        "id": "nLGVewb5xGvq",
        "outputId": "92f8b696-9234-41c7-ff0a-d2620ee0c8e4"
      },
      "execution_count": null,
      "outputs": [
        {
          "output_type": "stream",
          "name": "stdout",
          "text": [
            "Insufficient balance \n"
          ]
        }
      ]
    },
    {
      "cell_type": "markdown",
      "source": [
        "20.Given a variable number, write a conditional statement to check if number is positive, negative, or zero. Print \"Positive\", \"Negative\", or \"Zero\" accordingly."
      ],
      "metadata": {
        "id": "4AKSYwLbxcZy"
      }
    },
    {
      "cell_type": "code",
      "source": [
        "number=-34\n",
        "if number>=0:\n",
        "  print(\"Positive\")\n",
        "elif number<=0:\n",
        "  print(\"Negative\")\n",
        "else:\n",
        "  print(\"Zero\")"
      ],
      "metadata": {
        "colab": {
          "base_uri": "https://localhost:8080/"
        },
        "id": "HpJIIaV8xSAq",
        "outputId": "4bac30a5-340f-4a7d-e744-145bd97e72ae"
      },
      "execution_count": null,
      "outputs": [
        {
          "output_type": "stream",
          "name": "stdout",
          "text": [
            "Negative\n"
          ]
        }
      ]
    },
    {
      "cell_type": "markdown",
      "source": [
        "21.You have a variable ticket_type. Write a conditional statement to check if ticket_type is \"VIP\". If true, print \"Access to VIP lounge\", otherwise print \"Regular access\".\n",
        "\n"
      ],
      "metadata": {
        "id": "2bKwAJFqx8TC"
      }
    },
    {
      "cell_type": "code",
      "source": [
        "ticket_type=\"VIP\"\n",
        "if \"VIP\"in ticket_type:\n",
        "  print(\"Access to VIP lounge\")\n",
        "else:\n",
        "  print(\"Regular access\")"
      ],
      "metadata": {
        "colab": {
          "base_uri": "https://localhost:8080/"
        },
        "id": "6wpuQhxtx3XW",
        "outputId": "c25c209a-0d27-407f-dc02-4eb38b5d9eaf"
      },
      "execution_count": null,
      "outputs": [
        {
          "output_type": "stream",
          "name": "stdout",
          "text": [
            "Access to VIP lounge\n"
          ]
        }
      ]
    },
    {
      "cell_type": "markdown",
      "source": [
        "22.Given a variable age, write a conditional statement to print \"Eligible for senior citizen discount\" if age is 65 or above.\n",
        "\n"
      ],
      "metadata": {
        "id": "4BYfa3G8ylgR"
      }
    },
    {
      "cell_type": "code",
      "source": [
        "age=70\n",
        "if age>=65:\n",
        "  print(\"Eligible for citizen discount\")"
      ],
      "metadata": {
        "colab": {
          "base_uri": "https://localhost:8080/"
        },
        "id": "i9dH8awcyj69",
        "outputId": "68491601-6bff-41ba-ddcd-0b9bd3919995"
      },
      "execution_count": null,
      "outputs": [
        {
          "output_type": "stream",
          "name": "stdout",
          "text": [
            "Eligible for citizen discount\n"
          ]
        }
      ]
    },
    {
      "cell_type": "markdown",
      "source": [
        "23.You have a variable color. Write a conditional statement to print \"Stop\" if color is \"Red\", \"Ready\" if color is \"Yellow\", and \"Go\" if color is \"Green\"."
      ],
      "metadata": {
        "id": "GiYpXaW3y6JK"
      }
    },
    {
      "cell_type": "code",
      "source": [
        "color=\"Green\"\n",
        "if \"Red\" in color:\n",
        "  print(\"Stop\")\n",
        "elif \"Yellow\" in color:\n",
        "  print(\"Ready\")\n",
        "else:\n",
        "  print(\"Go\")"
      ],
      "metadata": {
        "colab": {
          "base_uri": "https://localhost:8080/"
        },
        "id": "ox5dxOI7y_Gp",
        "outputId": "d4418828-90de-4c16-a0c8-24e100d12568"
      },
      "execution_count": null,
      "outputs": [
        {
          "output_type": "stream",
          "name": "stdout",
          "text": [
            "Go\n"
          ]
        }
      ]
    },
    {
      "cell_type": "markdown",
      "source": [
        "24.Given a variable temperature, write a conditional statement to check if temperature is above 100. If true, print \"Boiling point\", otherwise print \"Below boiling point\""
      ],
      "metadata": {
        "id": "yKabNYgBzu1N"
      }
    },
    {
      "cell_type": "code",
      "source": [
        "temperture=45\n",
        "if temperature>100:\n",
        "  print(\"Boiling point\")\n",
        "else:\n",
        "  print(\"Below boiling point\")"
      ],
      "metadata": {
        "colab": {
          "base_uri": "https://localhost:8080/"
        },
        "id": "KTAxDrwOzYSN",
        "outputId": "89d1fed3-081f-4a32-9909-712e2becbf85"
      },
      "execution_count": null,
      "outputs": [
        {
          "output_type": "stream",
          "name": "stdout",
          "text": [
            "Below boiling point\n"
          ]
        }
      ]
    },
    {
      "cell_type": "markdown",
      "source": [
        "25.You have a variable loan_amount. Write a conditional statement to check if loan_amount is greater than 50000. If true, print \"Approval requires higher authority\", otherwise print \"Loan approved\"."
      ],
      "metadata": {
        "id": "iiu9DKvW0K-h"
      }
    },
    {
      "cell_type": "code",
      "source": [
        "loan_amoount=60000\n",
        "if loan_amoount>50000:\n",
        "  print(\"Approval requires higher authority\")\n",
        "else:\n",
        "  print(\"loan approved\")\n"
      ],
      "metadata": {
        "colab": {
          "base_uri": "https://localhost:8080/"
        },
        "id": "6HgJJyXs0QFx",
        "outputId": "60d2b342-5900-40fd-981f-a7eb29164a8a"
      },
      "execution_count": null,
      "outputs": [
        {
          "output_type": "stream",
          "name": "stdout",
          "text": [
            "Approval requires higher authority\n"
          ]
        }
      ]
    },
    {
      "cell_type": "markdown",
      "source": [
        "**LOOPS AND ITERATIONS**"
      ],
      "metadata": {
        "id": "WBQbsEpV0sAO"
      }
    },
    {
      "cell_type": "markdown",
      "source": [
        "1.You are managing a list of employee ages. Print each age from the list using a for loop."
      ],
      "metadata": {
        "id": "7yvizc-D01e4"
      }
    },
    {
      "cell_type": "code",
      "source": [
        "employee_ages=[23,25,22,23]\n",
        "for age in employee_ages:\n",
        "  print(age)\n"
      ],
      "metadata": {
        "colab": {
          "base_uri": "https://localhost:8080/"
        },
        "id": "-09z6UMl000m",
        "outputId": "7b80c25a-590f-4df4-ce79-ea1e8505deec"
      },
      "execution_count": null,
      "outputs": [
        {
          "output_type": "stream",
          "name": "stdout",
          "text": [
            "23\n",
            "25\n",
            "22\n",
            "23\n"
          ]
        }
      ]
    },
    {
      "cell_type": "markdown",
      "source": [
        "2.You have a string representing a secret message. Use a while loop to print each character until you reach a period (.)."
      ],
      "metadata": {
        "id": "PhY4iUp610lp"
      }
    },
    {
      "cell_type": "code",
      "source": [
        "secret_message=\"keep moving safe.\"\n",
        "i=0\n",
        "while i<len(secret_message) and secret_message[i]!=\".\":\n",
        "  print(secret_message[i],end=\" \")\n",
        "  i+=1\n"
      ],
      "metadata": {
        "colab": {
          "base_uri": "https://localhost:8080/"
        },
        "id": "6rrLvIoF19Qv",
        "outputId": "a48c914f-93bc-495c-cb76-68c339ede0cd"
      },
      "execution_count": null,
      "outputs": [
        {
          "output_type": "stream",
          "name": "stdout",
          "text": [
            "k e e p   m o v i n g   s a f e "
          ]
        }
      ]
    },
    {
      "cell_type": "markdown",
      "source": [
        "3.You are given a list of daily temperatures. Use a for loop to calculate and print the average temperature for the week."
      ],
      "metadata": {
        "id": "w4C9-Xri4E-8"
      }
    },
    {
      "cell_type": "code",
      "source": [
        "temperature=[23,34,24,35]\n",
        "sum=0\n",
        "count=0\n",
        "for temp in temperature:\n",
        "  sum+=temp\n",
        "  count+=1\n",
        "  calculate=sum/count\n",
        "  print(calculate)"
      ],
      "metadata": {
        "colab": {
          "base_uri": "https://localhost:8080/"
        },
        "id": "pEO20U4S4KoG",
        "outputId": "69583bae-139f-493f-c9cc-829a29fb6549"
      },
      "execution_count": null,
      "outputs": [
        {
          "output_type": "stream",
          "name": "stdout",
          "text": [
            "23.0\n",
            "28.5\n",
            "27.0\n",
            "29.0\n"
          ]
        }
      ]
    },
    {
      "cell_type": "markdown",
      "source": [
        "4.You need to distribute candies to children. Print each child's name and the number of candies they receive, distributing 1 to 20 candies using a for loop."
      ],
      "metadata": {
        "id": "WHrmjSWcHpmW"
      }
    },
    {
      "cell_type": "code",
      "source": [
        "child_name=[\"divya\", \"arohi\",\"manav\"]\n",
        "for receive_candies in range(1,21):\n",
        "  for child in child_name:\n",
        "    print(f\"{child} reveive {receive_candies} candies\")\n"
      ],
      "metadata": {
        "id": "96s-6ijC4T4B",
        "colab": {
          "base_uri": "https://localhost:8080/"
        },
        "outputId": "8f013a26-0507-454f-931f-264cb0eaa8e9"
      },
      "execution_count": 66,
      "outputs": [
        {
          "output_type": "stream",
          "name": "stdout",
          "text": [
            "divya reveive 1 candies\n",
            "arohi reveive 1 candies\n",
            "manav reveive 1 candies\n",
            "divya reveive 2 candies\n",
            "arohi reveive 2 candies\n",
            "manav reveive 2 candies\n",
            "divya reveive 3 candies\n",
            "arohi reveive 3 candies\n",
            "manav reveive 3 candies\n",
            "divya reveive 4 candies\n",
            "arohi reveive 4 candies\n",
            "manav reveive 4 candies\n",
            "divya reveive 5 candies\n",
            "arohi reveive 5 candies\n",
            "manav reveive 5 candies\n",
            "divya reveive 6 candies\n",
            "arohi reveive 6 candies\n",
            "manav reveive 6 candies\n",
            "divya reveive 7 candies\n",
            "arohi reveive 7 candies\n",
            "manav reveive 7 candies\n",
            "divya reveive 8 candies\n",
            "arohi reveive 8 candies\n",
            "manav reveive 8 candies\n",
            "divya reveive 9 candies\n",
            "arohi reveive 9 candies\n",
            "manav reveive 9 candies\n",
            "divya reveive 10 candies\n",
            "arohi reveive 10 candies\n",
            "manav reveive 10 candies\n",
            "divya reveive 11 candies\n",
            "arohi reveive 11 candies\n",
            "manav reveive 11 candies\n",
            "divya reveive 12 candies\n",
            "arohi reveive 12 candies\n",
            "manav reveive 12 candies\n",
            "divya reveive 13 candies\n",
            "arohi reveive 13 candies\n",
            "manav reveive 13 candies\n",
            "divya reveive 14 candies\n",
            "arohi reveive 14 candies\n",
            "manav reveive 14 candies\n",
            "divya reveive 15 candies\n",
            "arohi reveive 15 candies\n",
            "manav reveive 15 candies\n",
            "divya reveive 16 candies\n",
            "arohi reveive 16 candies\n",
            "manav reveive 16 candies\n",
            "divya reveive 17 candies\n",
            "arohi reveive 17 candies\n",
            "manav reveive 17 candies\n",
            "divya reveive 18 candies\n",
            "arohi reveive 18 candies\n",
            "manav reveive 18 candies\n",
            "divya reveive 19 candies\n",
            "arohi reveive 19 candies\n",
            "manav reveive 19 candies\n",
            "divya reveive 20 candies\n",
            "arohi reveive 20 candies\n",
            "manav reveive 20 candies\n"
          ]
        }
      ]
    },
    {
      "cell_type": "markdown",
      "source": [
        "5. You are processing a list of book titles. Use a for loop to print each title in uppercase.\n"
      ],
      "metadata": {
        "id": "SQkz7-YmKMdK"
      }
    },
    {
      "cell_type": "code",
      "source": [
        "list_of_books_title=[\"The Gloary\",\"The Indians\",\"Be Yourself\"]\n",
        "for title in list_of_books_title:\n",
        "  print(title.upper())"
      ],
      "metadata": {
        "colab": {
          "base_uri": "https://localhost:8080/"
        },
        "id": "tD65JZkjIPkV",
        "outputId": "75ba8809-8e9d-44de-b35b-5edd29644879"
      },
      "execution_count": 72,
      "outputs": [
        {
          "output_type": "stream",
          "name": "stdout",
          "text": [
            "THE GLOARY\n",
            "THE INDIANS\n",
            "BE YOURSELF\n"
          ]
        }
      ]
    },
    {
      "cell_type": "markdown",
      "source": [
        "6.You are programming a countdown timer. Write a while loop to print the countdown from 10 to 0"
      ],
      "metadata": {
        "id": "dFtqM80XLl1J"
      }
    },
    {
      "cell_type": "code",
      "source": [
        "time=10\n",
        "while time>=0:\n",
        "  print(f\"time:{time}\")\n",
        "  time-=1"
      ],
      "metadata": {
        "colab": {
          "base_uri": "https://localhost:8080/"
        },
        "id": "fjiX-zA-L1E5",
        "outputId": "a7ead415-f418-436a-a00a-ec774bf83ee8"
      },
      "execution_count": 75,
      "outputs": [
        {
          "output_type": "stream",
          "name": "stdout",
          "text": [
            "time:10\n",
            "time:9\n",
            "time:8\n",
            "time:7\n",
            "time:6\n",
            "time:5\n",
            "time:4\n",
            "time:3\n",
            "time:2\n",
            "time:1\n",
            "time:0\n"
          ]
        }
      ]
    },
    {
      "cell_type": "markdown",
      "source": [
        "7.You are analyzing sales data. Use a for loop to find and print the highest sale amount from a list of sales figures."
      ],
      "metadata": {
        "id": "Psg7d-hFPM3q"
      }
    },
    {
      "cell_type": "code",
      "source": [
        "data=[234.7,454.5,342.4,563.5,672.5]\n",
        "highest_sale=0\n",
        "for val in data:\n",
        "  if val > highest_sale:\n",
        "    highest_sale=val\n",
        "    print(f\"highest sale is :{highest_sale}\")\n"
      ],
      "metadata": {
        "colab": {
          "base_uri": "https://localhost:8080/"
        },
        "id": "YRt3PQ3iPUNX",
        "outputId": "e1c22b4f-d1d8-44ff-af31-13ed6fb7656a"
      },
      "execution_count": 92,
      "outputs": [
        {
          "output_type": "stream",
          "name": "stdout",
          "text": [
            "highest sale is :234.7\n",
            "highest sale is :454.5\n",
            "highest sale is :563.5\n",
            "highest sale is :672.5\n"
          ]
        }
      ]
    },
    {
      "cell_type": "markdown",
      "source": [
        "8. You are creating a sequence of special offers. Use a for loop to generate and print the first 10 offers based on the Fibonacci sequence.\n"
      ],
      "metadata": {
        "id": "GIOhrlCzSnnc"
      }
    },
    {
      "cell_type": "code",
      "source": [
        "fibo = [0, 1]\n",
        "n=10\n",
        "for i in range(2, n):\n",
        "   fibo.append(fibo[-1] + fibo[-2])\n",
        "   print(fibo)\n",
        ""
      ],
      "metadata": {
        "colab": {
          "base_uri": "https://localhost:8080/"
        },
        "id": "A8YGdwupSsH5",
        "outputId": "c1a11d3f-05bc-4fd4-c874-63e1dd8a85f0"
      },
      "execution_count": 98,
      "outputs": [
        {
          "output_type": "stream",
          "name": "stdout",
          "text": [
            "[0, 1, 1]\n",
            "[0, 1, 1, 2]\n",
            "[0, 1, 1, 2, 3]\n",
            "[0, 1, 1, 2, 3, 5]\n",
            "[0, 1, 1, 2, 3, 5, 8]\n",
            "[0, 1, 1, 2, 3, 5, 8, 13]\n",
            "[0, 1, 1, 2, 3, 5, 8, 13, 21]\n",
            "[0, 1, 1, 2, 3, 5, 8, 13, 21, 34]\n"
          ]
        }
      ]
    },
    {
      "cell_type": "markdown",
      "source": [
        "9. You are creating a sequence of special offers. Use a for loop to generate and print the first 10 offers based on the Fibonacci sequence.\n"
      ],
      "metadata": {
        "id": "Z8DjzrgQWJsu"
      }
    },
    {
      "cell_type": "code",
      "source": [
        "offer1=\"60% off on 4 items\"\n",
        "offer2=\"buy one get one free\"\n",
        "for i in range(2,11):\n",
        "  next=offer1+ \"and\" +offer2\n",
        "  print(i,\":\",next)"
      ],
      "metadata": {
        "colab": {
          "base_uri": "https://localhost:8080/"
        },
        "id": "L5TqOC2nWOt-",
        "outputId": "8253b4eb-518c-4f71-a70c-237ff4ed7a07"
      },
      "execution_count": 102,
      "outputs": [
        {
          "output_type": "stream",
          "name": "stdout",
          "text": [
            "2 : 60% off on 4 itemsandbuy one get one free\n",
            "3 : 60% off on 4 itemsandbuy one get one free\n",
            "4 : 60% off on 4 itemsandbuy one get one free\n",
            "5 : 60% off on 4 itemsandbuy one get one free\n",
            "6 : 60% off on 4 itemsandbuy one get one free\n",
            "7 : 60% off on 4 itemsandbuy one get one free\n",
            "8 : 60% off on 4 itemsandbuy one get one free\n",
            "9 : 60% off on 4 itemsandbuy one get one free\n",
            "10 : 60% off on 4 itemsandbuy one get one free\n"
          ]
        }
      ]
    }
  ]
}